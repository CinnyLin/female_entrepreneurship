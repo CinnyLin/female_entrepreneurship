{
 "cells": [
  {
   "cell_type": "markdown",
   "metadata": {},
   "source": [
    "# Crunchbase Raw Data Cleaning Pipeline"
   ]
  },
  {
   "cell_type": "code",
   "execution_count": 2,
   "metadata": {},
   "outputs": [],
   "source": [
    "import pandas as pd"
   ]
  },
  {
   "cell_type": "code",
   "execution_count": 3,
   "metadata": {},
   "outputs": [],
   "source": [
    "# manual data input \n",
    "countries = ['Peru', 'Mexico', 'Argentina', 'Brazil', 'Chile', 'Colombia', \n",
    "             'Guatemala', 'Panama', 'Ecuador', 'Uruguay', 'PuertoRico',\n",
    "             #'France', 'Germany', 'Latvia',\n",
    "             'Swiss', 'UK', #'Netherlands',\n",
    "             'Sweden', 'Australia', 'Luxembourg', 'Ireland',\n",
    "             'Poland', 'Bulgaria', 'Estonia', 'Croatia', \n",
    "             'Slovenia', 'B&H', 'Slovakia', \n",
    "             'Iran', 'Cyprus', 'Lebanon', 'SaudiArabia',\n",
    "             'UAE', 'Israel', 'Qatar',\n",
    "             'Malaysia', 'Indonesia', 'Thailand', 'Vietnam', 'India',\n",
    "             'Morocco', 'Egypt',  'SouthAfrica', #'Madagascar',\n",
    "             'Italy', 'Greece', 'Spain',\n",
    "             'Japan', 'Korea', 'Taiwan', 'Kazakhstan',\n",
    "             #'US', 'China',\n",
    "             'Canada']\n",
    "\n",
    "first_n = list(range(1,100,50))\n",
    "last_n = list(range(50,101,50))\n",
    "top_n = ['1-5', '51-100']\n",
    "\n",
    "others = ['Netherlands_1-25', 'Masgascar_1-40']"
   ]
  },
  {
   "cell_type": "code",
   "execution_count": null,
   "metadata": {},
   "outputs": [],
   "source": []
  },
  {
   "cell_type": "markdown",
   "metadata": {},
   "source": [
    "## step 1: converting txt to csv"
   ]
  },
  {
   "cell_type": "code",
   "execution_count": 4,
   "metadata": {},
   "outputs": [],
   "source": [
    "def cb_txt_to_csv(filename, i):\n",
    "    \n",
    "    text = ''\n",
    "    \n",
    "    with open(f'../data/crunchbase-raw/{filename}.txt', 'r') as f:\n",
    "    \n",
    "        # log row counts\n",
    "        count = i\n",
    "\n",
    "        # log previous lime\n",
    "        last_line = ''\n",
    "\n",
    "        for line in f:\n",
    "\n",
    "            # meets index, switch to next line\n",
    "            if (line == f'{count}.\\n') or (line == f'{count}.'):\n",
    "                text += '\\n'\n",
    "                last_line = line\n",
    "\n",
    "#             # logo line\n",
    "#             elif last_line == f'{count}.\\n':\n",
    "#                 count += 1\n",
    "#                 pass\n",
    "\n",
    "#             # logo line\n",
    "#             elif 'Logo' in line:\n",
    "#                 last_line = line\n",
    "#                 pass\n",
    "\n",
    "            # logo for company\n",
    "            elif (last_line == f'{count}.\\n') and ('Logo' in line):\n",
    "                count += 1\n",
    "                pass\n",
    "\n",
    "            # logo for investors etc.\n",
    "            elif 'Logo' in line:\n",
    "                last_line = line\n",
    "                pass\n",
    "\n",
    "            # empty lines\n",
    "            elif line == '\\n':\n",
    "                last_line = line\n",
    "                pass\n",
    "\n",
    "            # line with commas\n",
    "            elif ',' in line:\n",
    "                line = line.strip('\\n').replace(',', ';') #note\n",
    "                text += line\n",
    "                text += ','\n",
    "                last_line = line\n",
    "\n",
    "            # data on same row, add comma \n",
    "            else:\n",
    "                text += line.strip('\\n')\n",
    "                text += ','\n",
    "                last_line = line\n",
    "\n",
    "    with open(f'../data/crunchbase-csv/{filename}.csv', 'w') as f:\n",
    "        f.write(text)"
   ]
  },
  {
   "cell_type": "code",
   "execution_count": 4,
   "metadata": {
    "scrolled": true
   },
   "outputs": [],
   "source": [
    "# note\n",
    "# this is not the best method, \n",
    "# even though it worked well for a list of values in a single column;\n",
    "# e.g. sentences, dates, or money values also had their commas replaced\n",
    "# might need to clean the data again before using it"
   ]
  },
  {
   "cell_type": "markdown",
   "metadata": {},
   "source": [
    "### run script"
   ]
  },
  {
   "cell_type": "code",
   "execution_count": 6,
   "metadata": {},
   "outputs": [],
   "source": [
    "for country in countries:\n",
    "    for n in top_n:\n",
    "        filename = f'{country}_{n}'\n",
    "        if n == '1-50':\n",
    "            cb_txt_to_csv(filename, 1)\n",
    "        if n == '51-100':\n",
    "            cb_txt_to_csv(filename, 51)\n",
    "\n",
    "for filename in others:\n",
    "    cb_txt_to_csv(filename, 1)"
   ]
  },
  {
   "cell_type": "code",
   "execution_count": 11,
   "metadata": {},
   "outputs": [
    {
     "name": "stdout",
     "output_type": "stream",
     "text": [
      "Peru_1-50: (1, 108)\n",
      "Mexico_1-50\n",
      "Brazil_1-50\n",
      "Guatemala_1-50\n",
      "Guatemala_51-100\n",
      "Panama_1-50\n",
      "Panama_51-100\n",
      "Ecuador_51-100\n",
      "PuertoRico_1-50\n",
      "PuertoRico_51-100\n",
      "Swiss_51-100\n",
      "UK_1-50\n",
      "UK_51-100\n",
      "Sweden_51-100\n",
      "Luxembourg_51-100\n",
      "Poland_51-100\n",
      "Croatia_51-100\n",
      "B&H_1-50\n",
      "B&H_51-100\n",
      "Slovakia_1-50\n",
      "Iran_1-50\n",
      "Iran_51-100\n",
      "Lebanon_51-100\n",
      "SaudiArabia_1-50\n",
      "SaudiArabia_51-100\n",
      "UAE_1-50\n",
      "Qatar_1-50\n",
      "Qatar_51-100\n",
      "Malaysia_1-50\n",
      "Malaysia_51-100\n",
      "Indonesia_51-100\n",
      "Thailand_51-100\n",
      "Vietnam_1-50\n",
      "Vietnam_51-100\n",
      "Morocco_1-50\n",
      "Morocco_51-100\n",
      "SouthAfrica_1-50\n",
      "SouthAfrica_51-100\n",
      "Italy_1-50\n",
      "Italy_51-100\n",
      "Greece_1-50\n",
      "Japan_51-100\n",
      "Kazakhstan_1-50\n",
      "Kazakhstan_51-100\n",
      "Canada_1-50\n"
     ]
    }
   ],
   "source": [
    "# check\n",
    "for country in countries:\n",
    "    for i in range(len(first_n)):\n",
    "        filename = f'{country}_{first_n[i]}-{last_n[i]}'\n",
    "        try:\n",
    "            df = pd.read_csv(f'../data/crunchbase-csv/{filename}.csv')\n",
    "            # check correct format\n",
    "            if (df.shape[0]!=50) or (df.shape[1]!=108):\n",
    "                if (df.shape[1]!=106):\n",
    "                    print(f'{filename}: {df.shape}')\n",
    "        except:\n",
    "            print(f'{filename}') #: {df.shape}')"
   ]
  },
  {
   "cell_type": "code",
   "execution_count": null,
   "metadata": {},
   "outputs": [],
   "source": []
  },
  {
   "cell_type": "code",
   "execution_count": null,
   "metadata": {},
   "outputs": [],
   "source": [
    "#             if (df.shape[0]!=50) or (df.shape[1]!=108):\n",
    "#                 if (df.shape[1]!=106):\n",
    "#                     print(f'{filename}: {df.shape}')\n",
    "#         except:\n",
    "#             print(f'{filename}: {df.shape}')"
   ]
  },
  {
   "cell_type": "code",
   "execution_count": null,
   "metadata": {},
   "outputs": [],
   "source": []
  },
  {
   "cell_type": "markdown",
   "metadata": {},
   "source": [
    "## step 2.1: select useful columns"
   ]
  },
  {
   "cell_type": "code",
   "execution_count": 7,
   "metadata": {},
   "outputs": [],
   "source": [
    "# list(df.columns)"
   ]
  },
  {
   "cell_type": "code",
   "execution_count": 8,
   "metadata": {},
   "outputs": [],
   "source": [
    "selected_cols = ['Organization Name', 'CB Rank (Company)', \n",
    "                 'Headquarters Location', 'Headquarters Regions', \n",
    "                 'Industries', 'Industry Groups', \n",
    "                 'Founders', 'Founded Date', 'Number of Employees',\n",
    "                 'Estimated Revenue Range', 'Funding Status',\n",
    "                 'IPO Status', 'Number of Funding Rounds', \n",
    "                 'Total Funding Amount', 'Total Equity Funding Amount',\n",
    "                 'Last Funding Date', 'Last Funding Type',\n",
    "                 'Top 5 Investors', 'Number of Lead Investors', 'Number of Investors',\n",
    "                 #'Trend Score (7 Days)', 'Trend Score (30 Days)', 'Trend Score (90 Days)',\n",
    "                 #'Average Visits (6 months)', 'Visit Duration', 'Visit Duration Growth', 'Global Traffic Rank',\n",
    "                 #'Active Tech Count', 'Total Products Active'\n",
    "                ]"
   ]
  },
  {
   "cell_type": "code",
   "execution_count": 9,
   "metadata": {},
   "outputs": [],
   "source": [
    "# df[selected_cols].head(3)"
   ]
  },
  {
   "cell_type": "code",
   "execution_count": null,
   "metadata": {},
   "outputs": [],
   "source": []
  },
  {
   "cell_type": "markdown",
   "metadata": {},
   "source": [
    "## step 2.2: clean data and convert data types"
   ]
  },
  {
   "cell_type": "code",
   "execution_count": 10,
   "metadata": {},
   "outputs": [
    {
     "data": {
      "text/plain": [
       "Organization Name              object\n",
       "CB Rank (Company)              object\n",
       "Headquarters Location          object\n",
       "Headquarters Regions           object\n",
       "Industries                     object\n",
       "Industry Groups                object\n",
       "Founders                       object\n",
       "Founded Date                   object\n",
       "Number of Employees            object\n",
       "Estimated Revenue Range        object\n",
       "Funding Status                 object\n",
       "IPO Status                     object\n",
       "Number of Funding Rounds        int64\n",
       "Total Funding Amount           object\n",
       "Total Equity Funding Amount    object\n",
       "Last Funding Date              object\n",
       "Last Funding Type              object\n",
       "Top 5 Investors                object\n",
       "Number of Lead Investors       object\n",
       "Number of Investors            object\n",
       "dtype: object"
      ]
     },
     "execution_count": 10,
     "metadata": {},
     "output_type": "execute_result"
    }
   ],
   "source": [
    "df[selected_cols].dtypes"
   ]
  },
  {
   "cell_type": "code",
   "execution_count": 11,
   "metadata": {},
   "outputs": [],
   "source": [
    "# # convert to numeric\n",
    "# df['CB Rank (Company)'] = df['CB Rank (Company)'].str.replace(';','')\n",
    "# df['CB Rank (Company)'] = df['CB Rank (Company)'].astype(int)"
   ]
  },
  {
   "cell_type": "code",
   "execution_count": 12,
   "metadata": {},
   "outputs": [],
   "source": [
    "# # only keep country name\n",
    "# df['Headquarters Location'] = df['Headquarters Location'].str.split(';').str[-1]"
   ]
  },
  {
   "cell_type": "code",
   "execution_count": 13,
   "metadata": {},
   "outputs": [],
   "source": [
    "# # only keep year\n",
    "# df['Founded Date'] = df['Founded Date'].str[-4:]#.split(';').str[-1]"
   ]
  },
  {
   "cell_type": "code",
   "execution_count": 14,
   "metadata": {},
   "outputs": [],
   "source": [
    "# for money need to consider conversions!!\n",
    "# df['Total Funding Amount']"
   ]
  },
  {
   "cell_type": "code",
   "execution_count": null,
   "metadata": {},
   "outputs": [],
   "source": []
  },
  {
   "cell_type": "code",
   "execution_count": 15,
   "metadata": {},
   "outputs": [],
   "source": [
    "def clean_cb_data(df):\n",
    "    \n",
    "    # reduce data\n",
    "    df = df[selected_cols]\n",
    "    \n",
    "    # clean data\n",
    "    df['CB Rank (Company)'] = df['CB Rank (Company)'].str.replace(';','')\n",
    "    df['CB Rank (Company)'] = df['CB Rank (Company)'].astype(int)\n",
    "    df['Headquarters Location'] = df['Headquarters Location'].str.split(';').str[-1]\n",
    "    df['Founded Date'] = df['Founded Date'].str[-4:]\n",
    "    \n",
    "    return df"
   ]
  },
  {
   "cell_type": "code",
   "execution_count": null,
   "metadata": {},
   "outputs": [],
   "source": []
  },
  {
   "cell_type": "markdown",
   "metadata": {},
   "source": [
    "### run script"
   ]
  },
  {
   "cell_type": "raw",
   "metadata": {},
   "source": [
    "for country in countries:\n",
    "    for n in top_n:\n",
    "        filename = f'{country}_{n}'\n",
    "        print(filename)\n",
    "        df = pd.read_csv(f'../data/crunchbase-csv/{filename}.csv')        \n",
    "        df = clean_cb_data(df)\n",
    "        df.to_csv(f'../data/crunchbase-cleaned/{filename}_cleaned.csv', index=False)\n",
    "    \n",
    "for filename in others:\n",
    "    print(filename)\n",
    "    df = pd.read_csv(f'../data/crunchbase-csv/{filename}.csv')\n",
    "    df = clean_cb_data(df)\n",
    "    df.to_csv(f'../data/crunchbase-cleaned/{filename}_cleaned.csv', index=False)"
   ]
  },
  {
   "cell_type": "code",
   "execution_count": null,
   "metadata": {},
   "outputs": [],
   "source": []
  },
  {
   "cell_type": "code",
   "execution_count": null,
   "metadata": {},
   "outputs": [],
   "source": []
  },
  {
   "cell_type": "code",
   "execution_count": null,
   "metadata": {},
   "outputs": [],
   "source": []
  },
  {
   "cell_type": "markdown",
   "metadata": {},
   "source": [
    "## step 3: aggregate data"
   ]
  },
  {
   "cell_type": "code",
   "execution_count": 18,
   "metadata": {},
   "outputs": [
    {
     "data": {
      "text/plain": [
       "(50, 108)"
      ]
     },
     "execution_count": 18,
     "metadata": {},
     "output_type": "execute_result"
    }
   ],
   "source": [
    "# check\n",
    "filename = 'Taiwan_top50'\n",
    "df = pd.read_csv(f'../data/crunchbase-csv/{filename}.csv')\n",
    "df.shape"
   ]
  },
  {
   "cell_type": "code",
   "execution_count": 24,
   "metadata": {},
   "outputs": [
    {
     "data": {
      "text/plain": [
       "0       Food and Beverage; Other; Professional Services\n",
       "1                Energy; Sustainability; Transportation\n",
       "2                Education; Internet Services; Software\n",
       "3     Biotechnology; Health Care; Science and Engine...\n",
       "4         Consumer Electronics; Hardware; Manufacturing\n",
       "5     Artificial Intelligence; Data and Analytics; I...\n",
       "6     Consumer Electronics; Hardware; Information Te...\n",
       "7     Apps; Content and Publishing; Internet Service...\n",
       "8     Commerce and Shopping; Community and Lifestyle...\n",
       "9     Apps; Internet Services; Media and Entertainme...\n",
       "10    Consumer Electronics; Energy; Hardware; Manufa...\n",
       "11    Apps; Consumer Goods; Media and Entertainment;...\n",
       "12    Biotechnology; Health Care; Science and Engine...\n",
       "13                                   Other; Real Estate\n",
       "14    Consumer Electronics; Hardware; Manufacturing;...\n",
       "15    Advertising; Data and Analytics; Mobile; Other...\n",
       "16                               Apps; Gaming; Software\n",
       "17    Consumer Electronics; Hardware; Information Te...\n",
       "18    Content and Publishing; Internet Services; Med...\n",
       "19                                    Internet Services\n",
       "20    Other; Science and Engineering; Transportation...\n",
       "21    Data and Analytics; Information Technology; In...\n",
       "22    Financial Services; Hardware; Information Tech...\n",
       "23    Artificial Intelligence; Commerce and Shopping...\n",
       "24               Manufacturing; Science and Engineering\n",
       "25    Energy; Manufacturing; Natural Resources; Sust...\n",
       "26               Biotechnology; Science and Engineering\n",
       "27              Agriculture and Farming; Sustainability\n",
       "28                                     Gaming; Software\n",
       "29    Financial Services; Information Technology; Pa...\n",
       "30    Data and Analytics; Design; Hardware; Navigati...\n",
       "31    Data and Analytics; Design; Internet Services;...\n",
       "32                             Software; Transportation\n",
       "33                                   Financial Services\n",
       "34    Biotechnology; Data and Analytics; Health Care...\n",
       "35    Biotechnology; Health Care; Mobile; Science an...\n",
       "36    Biotechnology; Data and Analytics; Health Care...\n",
       "37    Consumer Electronics; Hardware; Information Te...\n",
       "38        Financial Services; Other; Payments; Software\n",
       "39    Artificial Intelligence; Data and Analytics; I...\n",
       "40     Hardware; Manufacturing; Science and Engineering\n",
       "41    Apps; Community and Lifestyle; Internet Servic...\n",
       "42    Biotechnology; Health Care; Science and Engine...\n",
       "43             Consumer Electronics; Hardware; Software\n",
       "44    Community and Lifestyle; Gaming; Information T...\n",
       "45    Consumer Electronics; Design; Hardware; Scienc...\n",
       "46                                  Health Care; Sports\n",
       "47    Artificial Intelligence; Commerce and Shopping...\n",
       "48     Hardware; Manufacturing; Science and Engineering\n",
       "49    Artificial Intelligence; Consumer Electronics;...\n",
       "Name: Industry Groups, dtype: object"
      ]
     },
     "execution_count": 24,
     "metadata": {},
     "output_type": "execute_result"
    }
   ],
   "source": [
    "#seed --> series A, B, C, D --> exit (either IPO or get acquisition)\n",
    "df['Industry Groups']"
   ]
  },
  {
   "cell_type": "code",
   "execution_count": null,
   "metadata": {},
   "outputs": [],
   "source": []
  },
  {
   "cell_type": "code",
   "execution_count": null,
   "metadata": {},
   "outputs": [],
   "source": []
  }
 ],
 "metadata": {
  "kernelspec": {
   "display_name": "Python 3",
   "language": "python",
   "name": "python3"
  },
  "language_info": {
   "codemirror_mode": {
    "name": "ipython",
    "version": 3
   },
   "file_extension": ".py",
   "mimetype": "text/x-python",
   "name": "python",
   "nbconvert_exporter": "python",
   "pygments_lexer": "ipython3",
   "version": "3.8.5"
  }
 },
 "nbformat": 4,
 "nbformat_minor": 4
}
