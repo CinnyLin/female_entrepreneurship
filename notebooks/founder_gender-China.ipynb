{
 "cells": [
  {
   "cell_type": "code",
   "execution_count": 25,
   "metadata": {},
   "outputs": [],
   "source": [
    "import pandas as pd\n",
    "from ast import literal_eval"
   ]
  },
  {
   "cell_type": "code",
   "execution_count": null,
   "metadata": {},
   "outputs": [],
   "source": [
    "df_CH = pd.read_csv(f'../data/crunchbase-aggregated/China1000.csv')"
   ]
  },
  {
   "cell_type": "code",
   "execution_count": 35,
   "metadata": {},
   "outputs": [
    {
     "data": {
      "text/plain": [
       "0                                 [Bo Zhang,  Wei Cheng]\n",
       "1                                            [Lucy Peng]\n",
       "2                                                    [—]\n",
       "3      [Edward Long,  Mu Rongjun,  Tao Zhang,  Xing W...\n",
       "4                                                    [—]\n",
       "                             ...                        \n",
       "995                                      [Xiaofeng Peng]\n",
       "996                                         [Haibo Chen]\n",
       "997                                        [Chen Ziling]\n",
       "998                                                  [—]\n",
       "999                                        [Zhigang Bao]\n",
       "Name: Founders, Length: 1000, dtype: object"
      ]
     },
     "execution_count": 35,
     "metadata": {},
     "output_type": "execute_result"
    }
   ],
   "source": [
    "df_CH['Founders'].str.split(';')"
   ]
  },
  {
   "cell_type": "code",
   "execution_count": 39,
   "metadata": {},
   "outputs": [],
   "source": [
    "df_CH['#founders'] = df_CH['Founders'].str.split(';').str.len()"
   ]
  },
  {
   "cell_type": "code",
   "execution_count": 43,
   "metadata": {
    "collapsed": true
   },
   "outputs": [
    {
     "name": "stderr",
     "output_type": "stream",
     "text": [
      "/Users/cinny/opt/anaconda3/lib/python3.8/site-packages/pandas/core/indexing.py:1637: SettingWithCopyWarning: \n",
      "A value is trying to be set on a copy of a slice from a DataFrame\n",
      "\n",
      "See the caveats in the documentation: https://pandas.pydata.org/pandas-docs/stable/user_guide/indexing.html#returning-a-view-versus-a-copy\n",
      "  self._setitem_single_block(indexer, value, name)\n"
     ]
    }
   ],
   "source": [
    "for i in range(1000):\n",
    "    if df_CH['Founders'].iloc[i] == '—':\n",
    "        df_CH['#founders'].iloc[i] = 0"
   ]
  },
  {
   "cell_type": "code",
   "execution_count": null,
   "metadata": {},
   "outputs": [],
   "source": []
  },
  {
   "cell_type": "code",
   "execution_count": 16,
   "metadata": {},
   "outputs": [],
   "source": [
    "# result_data = []\n",
    "# for i in range(1000):\n",
    "#     founders_list = df_CH['Founders'][i].split(';')\n",
    "#     result_list = []\n",
    "#     for name in founders_list:\n",
    "#         name_block = name.split(' ')\n",
    "#         first = ''.join(name_block[:-1])\n",
    "#         last = name_block[-1]\n",
    "#         result = !curl -X GET \"https://v2.namsor.com/NamSorAPIv2/api2/json/genderChineseNamePinyin/{last}/{first}\" -H \"accept: application/json\" -H \"X-API-KEY: dde1a7461dce5e6673eafaf51a38a416\"\n",
    "#         result_list.append(result)\n",
    "#     result_data.append(result_list)"
   ]
  },
  {
   "cell_type": "code",
   "execution_count": 47,
   "metadata": {},
   "outputs": [],
   "source": [
    "# file = open('../data/api_results/China1000_api.txt','w')\n",
    "# file.writelines(str(result_data))\n",
    "# file.close()"
   ]
  },
  {
   "cell_type": "code",
   "execution_count": 55,
   "metadata": {},
   "outputs": [],
   "source": [
    "with open('../data/api_results/China1000_api.txt', 'r') as f:\n",
    "    api_result_string = f.read()"
   ]
  },
  {
   "cell_type": "code",
   "execution_count": 58,
   "metadata": {},
   "outputs": [],
   "source": [
    "api_result_data = literal_eval(api_result_string)"
   ]
  },
  {
   "cell_type": "code",
   "execution_count": 99,
   "metadata": {},
   "outputs": [
    {
     "data": {
      "text/plain": [
       "0.7419299057519693"
      ]
     },
     "execution_count": 99,
     "metadata": {},
     "output_type": "execute_result"
    }
   ],
   "source": [
    "literal_eval(api_result_data[0][0][5])['probabilityCalibrated']"
   ]
  },
  {
   "cell_type": "code",
   "execution_count": 31,
   "metadata": {},
   "outputs": [],
   "source": [
    "df_gender = pd.DataFrame({'api_raw': api_result_data})"
   ]
  },
  {
   "cell_type": "code",
   "execution_count": 32,
   "metadata": {},
   "outputs": [
    {
     "data": {
      "text/html": [
       "<div>\n",
       "<style scoped>\n",
       "    .dataframe tbody tr th:only-of-type {\n",
       "        vertical-align: middle;\n",
       "    }\n",
       "\n",
       "    .dataframe tbody tr th {\n",
       "        vertical-align: top;\n",
       "    }\n",
       "\n",
       "    .dataframe thead th {\n",
       "        text-align: right;\n",
       "    }\n",
       "</style>\n",
       "<table border=\"1\" class=\"dataframe\">\n",
       "  <thead>\n",
       "    <tr style=\"text-align: right;\">\n",
       "      <th></th>\n",
       "      <th>api_raw</th>\n",
       "    </tr>\n",
       "  </thead>\n",
       "  <tbody>\n",
       "    <tr>\n",
       "      <th>0</th>\n",
       "      <td>[[  % Total    % Received % Xferd  Average Spe...</td>\n",
       "    </tr>\n",
       "    <tr>\n",
       "      <th>1</th>\n",
       "      <td>[[  % Total    % Received % Xferd  Average Spe...</td>\n",
       "    </tr>\n",
       "    <tr>\n",
       "      <th>2</th>\n",
       "      <td>[[  % Total    % Received % Xferd  Average Spe...</td>\n",
       "    </tr>\n",
       "    <tr>\n",
       "      <th>3</th>\n",
       "      <td>[[  % Total    % Received % Xferd  Average Spe...</td>\n",
       "    </tr>\n",
       "    <tr>\n",
       "      <th>4</th>\n",
       "      <td>[[  % Total    % Received % Xferd  Average Spe...</td>\n",
       "    </tr>\n",
       "    <tr>\n",
       "      <th>...</th>\n",
       "      <td>...</td>\n",
       "    </tr>\n",
       "    <tr>\n",
       "      <th>995</th>\n",
       "      <td>[[  % Total    % Received % Xferd  Average Spe...</td>\n",
       "    </tr>\n",
       "    <tr>\n",
       "      <th>996</th>\n",
       "      <td>[[  % Total    % Received % Xferd  Average Spe...</td>\n",
       "    </tr>\n",
       "    <tr>\n",
       "      <th>997</th>\n",
       "      <td>[[  % Total    % Received % Xferd  Average Spe...</td>\n",
       "    </tr>\n",
       "    <tr>\n",
       "      <th>998</th>\n",
       "      <td>[[  % Total    % Received % Xferd  Average Spe...</td>\n",
       "    </tr>\n",
       "    <tr>\n",
       "      <th>999</th>\n",
       "      <td>[[  % Total    % Received % Xferd  Average Spe...</td>\n",
       "    </tr>\n",
       "  </tbody>\n",
       "</table>\n",
       "<p>1000 rows × 1 columns</p>\n",
       "</div>"
      ],
      "text/plain": [
       "                                               api_raw\n",
       "0    [[  % Total    % Received % Xferd  Average Spe...\n",
       "1    [[  % Total    % Received % Xferd  Average Spe...\n",
       "2    [[  % Total    % Received % Xferd  Average Spe...\n",
       "3    [[  % Total    % Received % Xferd  Average Spe...\n",
       "4    [[  % Total    % Received % Xferd  Average Spe...\n",
       "..                                                 ...\n",
       "995  [[  % Total    % Received % Xferd  Average Spe...\n",
       "996  [[  % Total    % Received % Xferd  Average Spe...\n",
       "997  [[  % Total    % Received % Xferd  Average Spe...\n",
       "998  [[  % Total    % Received % Xferd  Average Spe...\n",
       "999  [[  % Total    % Received % Xferd  Average Spe...\n",
       "\n",
       "[1000 rows x 1 columns]"
      ]
     },
     "execution_count": 32,
     "metadata": {},
     "output_type": "execute_result"
    }
   ],
   "source": [
    "df_gender"
   ]
  },
  {
   "cell_type": "code",
   "execution_count": 109,
   "metadata": {},
   "outputs": [],
   "source": [
    "gender_data = []\n",
    "prob_data = [] # will need to check through prob<0.5\n",
    "female_data = [] # number of females\n",
    "\n",
    "# loop through rows\n",
    "for i in range(1000):\n",
    "    \n",
    "    row = df_gender.iloc[i][0]\n",
    "    \n",
    "    gender_list = []\n",
    "    prob_list = []\n",
    "        \n",
    "    # loop through name list\n",
    "    for name in row:\n",
    "        \n",
    "        # yield results\n",
    "        try: \n",
    "            gender = literal_eval(name[5])['likelyGender']\n",
    "            gender_list.append(gender)\n",
    "\n",
    "            prob = literal_eval(name[5])['probabilityCalibrated']\n",
    "            prob_list.append(prob)\n",
    "\n",
    "            count = 0\n",
    "            if (gender == 'female') and (prob > 0.5):\n",
    "                count += 1\n",
    "        \n",
    "        # if bad request, literal_eval can't read html on name[5]\n",
    "        except SyntaxError:\n",
    "            gender_list.append('N/A')\n",
    "            prob_list.append('N/A')\n",
    "            count = 'N/A'\n",
    "    \n",
    "    gender_data.append(gender_list)\n",
    "    prob_data.append(prob_list)\n",
    "    female_data.append(count)"
   ]
  },
  {
   "cell_type": "code",
   "execution_count": 110,
   "metadata": {},
   "outputs": [],
   "source": [
    "df_gender['gender'] = gender_data\n",
    "df_gender['prob'] = prob_data\n",
    "df_gender['#female'] = female_data"
   ]
  },
  {
   "cell_type": "code",
   "execution_count": 111,
   "metadata": {},
   "outputs": [
    {
     "data": {
      "text/html": [
       "<div>\n",
       "<style scoped>\n",
       "    .dataframe tbody tr th:only-of-type {\n",
       "        vertical-align: middle;\n",
       "    }\n",
       "\n",
       "    .dataframe tbody tr th {\n",
       "        vertical-align: top;\n",
       "    }\n",
       "\n",
       "    .dataframe thead th {\n",
       "        text-align: right;\n",
       "    }\n",
       "</style>\n",
       "<table border=\"1\" class=\"dataframe\">\n",
       "  <thead>\n",
       "    <tr style=\"text-align: right;\">\n",
       "      <th></th>\n",
       "      <th>api_raw</th>\n",
       "      <th>gender</th>\n",
       "      <th>prob</th>\n",
       "      <th>#female</th>\n",
       "    </tr>\n",
       "  </thead>\n",
       "  <tbody>\n",
       "    <tr>\n",
       "      <th>0</th>\n",
       "      <td>[[  % Total    % Received % Xferd  Average Spe...</td>\n",
       "      <td>[male, male]</td>\n",
       "      <td>[0.7419299057519693, 0.6550027756934417]</td>\n",
       "      <td>0</td>\n",
       "    </tr>\n",
       "    <tr>\n",
       "      <th>1</th>\n",
       "      <td>[[  % Total    % Received % Xferd  Average Spe...</td>\n",
       "      <td>[female]</td>\n",
       "      <td>[0.9962449240751274]</td>\n",
       "      <td>1</td>\n",
       "    </tr>\n",
       "    <tr>\n",
       "      <th>2</th>\n",
       "      <td>[[  % Total    % Received % Xferd  Average Spe...</td>\n",
       "      <td>[N/A]</td>\n",
       "      <td>[N/A]</td>\n",
       "      <td>N/A</td>\n",
       "    </tr>\n",
       "    <tr>\n",
       "      <th>3</th>\n",
       "      <td>[[  % Total    % Received % Xferd  Average Spe...</td>\n",
       "      <td>[male, N/A, male, male]</td>\n",
       "      <td>[0.9962670707631183, N/A, 0.8767006000271661, ...</td>\n",
       "      <td>0</td>\n",
       "    </tr>\n",
       "    <tr>\n",
       "      <th>4</th>\n",
       "      <td>[[  % Total    % Received % Xferd  Average Spe...</td>\n",
       "      <td>[N/A]</td>\n",
       "      <td>[N/A]</td>\n",
       "      <td>N/A</td>\n",
       "    </tr>\n",
       "    <tr>\n",
       "      <th>...</th>\n",
       "      <td>...</td>\n",
       "      <td>...</td>\n",
       "      <td>...</td>\n",
       "      <td>...</td>\n",
       "    </tr>\n",
       "    <tr>\n",
       "      <th>995</th>\n",
       "      <td>[[  % Total    % Received % Xferd  Average Spe...</td>\n",
       "      <td>[male]</td>\n",
       "      <td>[0.5015902111428524]</td>\n",
       "      <td>0</td>\n",
       "    </tr>\n",
       "    <tr>\n",
       "      <th>996</th>\n",
       "      <td>[[  % Total    % Received % Xferd  Average Spe...</td>\n",
       "      <td>[male]</td>\n",
       "      <td>[0.7569757090850789]</td>\n",
       "      <td>0</td>\n",
       "    </tr>\n",
       "    <tr>\n",
       "      <th>997</th>\n",
       "      <td>[[  % Total    % Received % Xferd  Average Spe...</td>\n",
       "      <td>[male]</td>\n",
       "      <td>[0.5019862956689568]</td>\n",
       "      <td>0</td>\n",
       "    </tr>\n",
       "    <tr>\n",
       "      <th>998</th>\n",
       "      <td>[[  % Total    % Received % Xferd  Average Spe...</td>\n",
       "      <td>[N/A]</td>\n",
       "      <td>[N/A]</td>\n",
       "      <td>N/A</td>\n",
       "    </tr>\n",
       "    <tr>\n",
       "      <th>999</th>\n",
       "      <td>[[  % Total    % Received % Xferd  Average Spe...</td>\n",
       "      <td>[male]</td>\n",
       "      <td>[0.824043084623697]</td>\n",
       "      <td>0</td>\n",
       "    </tr>\n",
       "  </tbody>\n",
       "</table>\n",
       "<p>1000 rows × 4 columns</p>\n",
       "</div>"
      ],
      "text/plain": [
       "                                               api_raw  \\\n",
       "0    [[  % Total    % Received % Xferd  Average Spe...   \n",
       "1    [[  % Total    % Received % Xferd  Average Spe...   \n",
       "2    [[  % Total    % Received % Xferd  Average Spe...   \n",
       "3    [[  % Total    % Received % Xferd  Average Spe...   \n",
       "4    [[  % Total    % Received % Xferd  Average Spe...   \n",
       "..                                                 ...   \n",
       "995  [[  % Total    % Received % Xferd  Average Spe...   \n",
       "996  [[  % Total    % Received % Xferd  Average Spe...   \n",
       "997  [[  % Total    % Received % Xferd  Average Spe...   \n",
       "998  [[  % Total    % Received % Xferd  Average Spe...   \n",
       "999  [[  % Total    % Received % Xferd  Average Spe...   \n",
       "\n",
       "                      gender  \\\n",
       "0               [male, male]   \n",
       "1                   [female]   \n",
       "2                      [N/A]   \n",
       "3    [male, N/A, male, male]   \n",
       "4                      [N/A]   \n",
       "..                       ...   \n",
       "995                   [male]   \n",
       "996                   [male]   \n",
       "997                   [male]   \n",
       "998                    [N/A]   \n",
       "999                   [male]   \n",
       "\n",
       "                                                  prob #female  \n",
       "0             [0.7419299057519693, 0.6550027756934417]       0  \n",
       "1                                 [0.9962449240751274]       1  \n",
       "2                                                [N/A]     N/A  \n",
       "3    [0.9962670707631183, N/A, 0.8767006000271661, ...       0  \n",
       "4                                                [N/A]     N/A  \n",
       "..                                                 ...     ...  \n",
       "995                               [0.5015902111428524]       0  \n",
       "996                               [0.7569757090850789]       0  \n",
       "997                               [0.5019862956689568]       0  \n",
       "998                                              [N/A]     N/A  \n",
       "999                                [0.824043084623697]       0  \n",
       "\n",
       "[1000 rows x 4 columns]"
      ]
     },
     "execution_count": 111,
     "metadata": {},
     "output_type": "execute_result"
    }
   ],
   "source": [
    "df_gender"
   ]
  },
  {
   "cell_type": "code",
   "execution_count": null,
   "metadata": {},
   "outputs": [],
   "source": []
  },
  {
   "cell_type": "code",
   "execution_count": 119,
   "metadata": {},
   "outputs": [
    {
     "data": {
      "text/plain": [
       "0"
      ]
     },
     "execution_count": 119,
     "metadata": {},
     "output_type": "execute_result"
    }
   ],
   "source": [
    "# check: good to know that all probs were higher than 50%\n",
    "\n",
    "count = 0\n",
    "\n",
    "for prob in prob_data:\n",
    "    for p in prob:\n",
    "        if type(p)==float and (p < 0.5):\n",
    "            count += 1\n",
    "\n",
    "count"
   ]
  },
  {
   "cell_type": "code",
   "execution_count": null,
   "metadata": {},
   "outputs": [],
   "source": []
  },
  {
   "cell_type": "code",
   "execution_count": 129,
   "metadata": {},
   "outputs": [],
   "source": [
    "df = pd.merge(left=df_CH, right=df_gender, left_index=True, right_index=True)"
   ]
  },
  {
   "cell_type": "code",
   "execution_count": 130,
   "metadata": {},
   "outputs": [],
   "source": [
    "# df.to_csv(f'../data/crunchbase-aggregated/China1000-gender.csv', index=False)"
   ]
  },
  {
   "cell_type": "code",
   "execution_count": null,
   "metadata": {},
   "outputs": [],
   "source": []
  },
  {
   "cell_type": "code",
   "execution_count": null,
   "metadata": {},
   "outputs": [],
   "source": []
  }
 ],
 "metadata": {
  "kernelspec": {
   "display_name": "Python 3",
   "language": "python",
   "name": "python3"
  },
  "language_info": {
   "codemirror_mode": {
    "name": "ipython",
    "version": 3
   },
   "file_extension": ".py",
   "mimetype": "text/x-python",
   "name": "python",
   "nbconvert_exporter": "python",
   "pygments_lexer": "ipython3",
   "version": "3.8.5"
  }
 },
 "nbformat": 4,
 "nbformat_minor": 4
}
