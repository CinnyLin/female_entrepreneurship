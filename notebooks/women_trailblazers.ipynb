{
 "cells": [
  {
   "cell_type": "code",
   "execution_count": 1,
   "metadata": {},
   "outputs": [],
   "source": [
    "import pandas as pd\n",
    "import numpy as np\n",
    "import matplotlib.pyplot as plt"
   ]
  },
  {
   "cell_type": "code",
   "execution_count": 5,
   "metadata": {},
   "outputs": [],
   "source": [
    "df_world = pd.read_excel('data/BusinessFinancing.co.uk-WomenTrailblazers.xlsx', sheet_name='World')\n",
    "df_us = pd.read_excel('data/BusinessFinancing.co.uk-WomenTrailblazers.xlsx', sheet_name='United States')"
   ]
  },
  {
   "cell_type": "code",
   "execution_count": 6,
   "metadata": {},
   "outputs": [
    {
     "data": {
      "text/plain": [
       "(208, 17)"
      ]
     },
     "execution_count": 6,
     "metadata": {},
     "output_type": "execute_result"
    }
   ],
   "source": [
    "df_world.shape"
   ]
  },
  {
   "cell_type": "code",
   "execution_count": 7,
   "metadata": {},
   "outputs": [
    {
     "data": {
      "text/plain": [
       "(59, 16)"
      ]
     },
     "execution_count": 7,
     "metadata": {},
     "output_type": "execute_result"
    }
   ],
   "source": [
    "df_us.shape"
   ]
  },
  {
   "cell_type": "code",
   "execution_count": 9,
   "metadata": {},
   "outputs": [
    {
     "data": {
      "text/html": [
       "<div>\n",
       "<style scoped>\n",
       "    .dataframe tbody tr th:only-of-type {\n",
       "        vertical-align: middle;\n",
       "    }\n",
       "\n",
       "    .dataframe tbody tr th {\n",
       "        vertical-align: top;\n",
       "    }\n",
       "\n",
       "    .dataframe thead th {\n",
       "        text-align: right;\n",
       "    }\n",
       "</style>\n",
       "<table border=\"1\" class=\"dataframe\">\n",
       "  <thead>\n",
       "    <tr style=\"text-align: right;\">\n",
       "      <th></th>\n",
       "      <th>Country</th>\n",
       "      <th>Continent</th>\n",
       "      <th>Company Name</th>\n",
       "      <th>Industries</th>\n",
       "      <th>Broad Industry</th>\n",
       "      <th>Female Founder</th>\n",
       "      <th>CB Rank</th>\n",
       "      <th>CB URL</th>\n",
       "      <th>LinkedIn</th>\n",
       "      <th>Companies Founded</th>\n",
       "      <th>Place of Education</th>\n",
       "      <th>Subject of Education</th>\n",
       "      <th>Founder Type</th>\n",
       "      <th>Funding</th>\n",
       "      <th>Company CB URL</th>\n",
       "      <th>Company Location</th>\n",
       "      <th>Other Founders</th>\n",
       "    </tr>\n",
       "  </thead>\n",
       "  <tbody>\n",
       "    <tr>\n",
       "      <th>0</th>\n",
       "      <td>Afghanistan</td>\n",
       "      <td>Middle East &amp; Central Asia</td>\n",
       "      <td>no data</td>\n",
       "      <td>no data</td>\n",
       "      <td>no data</td>\n",
       "      <td>no data</td>\n",
       "      <td>no data</td>\n",
       "      <td>no data</td>\n",
       "      <td>no data</td>\n",
       "      <td>no data</td>\n",
       "      <td>no data</td>\n",
       "      <td>no data</td>\n",
       "      <td>no data</td>\n",
       "      <td>no data</td>\n",
       "      <td>no data</td>\n",
       "      <td>no data</td>\n",
       "      <td>NaN</td>\n",
       "    </tr>\n",
       "    <tr>\n",
       "      <th>1</th>\n",
       "      <td>Albania</td>\n",
       "      <td>Europe</td>\n",
       "      <td>no data</td>\n",
       "      <td>no data</td>\n",
       "      <td>no data</td>\n",
       "      <td>no data</td>\n",
       "      <td>no data</td>\n",
       "      <td>no data</td>\n",
       "      <td>no data</td>\n",
       "      <td>no data</td>\n",
       "      <td>no data</td>\n",
       "      <td>no data</td>\n",
       "      <td>no data</td>\n",
       "      <td>no data</td>\n",
       "      <td>no data</td>\n",
       "      <td>no data</td>\n",
       "      <td>NaN</td>\n",
       "    </tr>\n",
       "    <tr>\n",
       "      <th>2</th>\n",
       "      <td>Tanzania</td>\n",
       "      <td>Africa</td>\n",
       "      <td>EdgePoint</td>\n",
       "      <td>Information Technology, Insurance, Telecommuni...</td>\n",
       "      <td>Biotech &amp; Health</td>\n",
       "      <td>Lilian Makoi</td>\n",
       "      <td>91800</td>\n",
       "      <td>https://www.crunchbase.com/person/lilian-makoi</td>\n",
       "      <td>https://www.linkedin.com/in/lilian-makoi-b7ab0...</td>\n",
       "      <td>2</td>\n",
       "      <td>unknown</td>\n",
       "      <td>unknown</td>\n",
       "      <td>co-founder</td>\n",
       "      <td>16343</td>\n",
       "      <td>https://www.crunchbase.com/organization/edgepoint</td>\n",
       "      <td>Dar Es Salaam, Dar es Salaam, Tanzania</td>\n",
       "      <td>Chris Rabi</td>\n",
       "    </tr>\n",
       "  </tbody>\n",
       "</table>\n",
       "</div>"
      ],
      "text/plain": [
       "       Country                   Continent Company Name  \\\n",
       "0  Afghanistan  Middle East & Central Asia      no data   \n",
       "1      Albania                      Europe      no data   \n",
       "2     Tanzania                      Africa    EdgePoint   \n",
       "\n",
       "                                          Industries    Broad Industry  \\\n",
       "0                                            no data           no data   \n",
       "1                                            no data           no data   \n",
       "2  Information Technology, Insurance, Telecommuni...  Biotech & Health   \n",
       "\n",
       "  Female Founder  CB Rank                                          CB URL  \\\n",
       "0        no data  no data                                         no data   \n",
       "1        no data  no data                                         no data   \n",
       "2   Lilian Makoi    91800  https://www.crunchbase.com/person/lilian-makoi   \n",
       "\n",
       "                                            LinkedIn Companies Founded  \\\n",
       "0                                            no data           no data   \n",
       "1                                            no data           no data   \n",
       "2  https://www.linkedin.com/in/lilian-makoi-b7ab0...                 2   \n",
       "\n",
       "  Place of Education Subject of Education Founder Type  Funding  \\\n",
       "0            no data              no data      no data  no data   \n",
       "1            no data              no data      no data  no data   \n",
       "2            unknown              unknown   co-founder    16343   \n",
       "\n",
       "                                      Company CB URL  \\\n",
       "0                                            no data   \n",
       "1                                            no data   \n",
       "2  https://www.crunchbase.com/organization/edgepoint   \n",
       "\n",
       "                         Company Location Other Founders  \n",
       "0                                 no data            NaN  \n",
       "1                                 no data            NaN  \n",
       "2  Dar Es Salaam, Dar es Salaam, Tanzania     Chris Rabi  "
      ]
     },
     "execution_count": 9,
     "metadata": {},
     "output_type": "execute_result"
    }
   ],
   "source": [
    "df_world.head(3)"
   ]
  },
  {
   "cell_type": "code",
   "execution_count": 14,
   "metadata": {},
   "outputs": [
    {
     "data": {
      "text/plain": [
       "E-Commerce           21\n",
       "Biotech & Health     17\n",
       "FinTech              14\n",
       "Services             10\n",
       "Other                10\n",
       "Business Software    10\n",
       "AI                    7\n",
       "Education             6\n",
       "Agro & Food           6\n",
       "Transportation        4\n",
       "Name: Broad Industry, dtype: int64"
      ]
     },
     "execution_count": 14,
     "metadata": {},
     "output_type": "execute_result"
    }
   ],
   "source": [
    "df_world['Broad Industry'].value_counts()[1:] #0: no data"
   ]
  },
  {
   "cell_type": "code",
   "execution_count": null,
   "metadata": {},
   "outputs": [],
   "source": []
  },
  {
   "cell_type": "code",
   "execution_count": 12,
   "metadata": {},
   "outputs": [
    {
     "data": {
      "text/html": [
       "<div>\n",
       "<style scoped>\n",
       "    .dataframe tbody tr th:only-of-type {\n",
       "        vertical-align: middle;\n",
       "    }\n",
       "\n",
       "    .dataframe tbody tr th {\n",
       "        vertical-align: top;\n",
       "    }\n",
       "\n",
       "    .dataframe thead th {\n",
       "        text-align: right;\n",
       "    }\n",
       "</style>\n",
       "<table border=\"1\" class=\"dataframe\">\n",
       "  <thead>\n",
       "    <tr style=\"text-align: right;\">\n",
       "      <th></th>\n",
       "      <th>Country</th>\n",
       "      <th>State</th>\n",
       "      <th>Female founder</th>\n",
       "      <th>CB Rank</th>\n",
       "      <th>CB URL</th>\n",
       "      <th>LinkedIn</th>\n",
       "      <th>Companies Founded</th>\n",
       "      <th>Education</th>\n",
       "      <th>Founder Type</th>\n",
       "      <th>Company name</th>\n",
       "      <th>Industries</th>\n",
       "      <th>Broad industry</th>\n",
       "      <th>Funding</th>\n",
       "      <th>Company CB URL</th>\n",
       "      <th>Company Location</th>\n",
       "      <th>Other Founders</th>\n",
       "    </tr>\n",
       "  </thead>\n",
       "  <tbody>\n",
       "    <tr>\n",
       "      <th>0</th>\n",
       "      <td>United States</td>\n",
       "      <td>Alabama</td>\n",
       "      <td>Ilit Raz</td>\n",
       "      <td>49114.0</td>\n",
       "      <td>https://www.crunchbase.com/person/ilit-raz</td>\n",
       "      <td>https://www.linkedin.com/in/ilitraz</td>\n",
       "      <td>1</td>\n",
       "      <td>Hult International Business School, IDC Herzliya</td>\n",
       "      <td>co-founder</td>\n",
       "      <td>Joonko</td>\n",
       "      <td>Human Resources, Software</td>\n",
       "      <td>Business Software</td>\n",
       "      <td>3300000</td>\n",
       "      <td>https://www.crunchbase.com/organization/joonko</td>\n",
       "      <td>Birmingham, Alabama, United States</td>\n",
       "      <td>Elad Shmilovich, Guy Grinwald,</td>\n",
       "    </tr>\n",
       "    <tr>\n",
       "      <th>1</th>\n",
       "      <td>United States</td>\n",
       "      <td>Alaska</td>\n",
       "      <td>Ayla Rogers</td>\n",
       "      <td>290213.0</td>\n",
       "      <td>https://www.crunchbase.com/person/ayla-rogers</td>\n",
       "      <td>NaN</td>\n",
       "      <td>1</td>\n",
       "      <td>NaN</td>\n",
       "      <td>co-founder</td>\n",
       "      <td>Pandere Shoes</td>\n",
       "      <td>E-Commerce, Shoes</td>\n",
       "      <td>E-Commerce</td>\n",
       "      <td>505000</td>\n",
       "      <td>https://www.crunchbase.com/organization/pander...</td>\n",
       "      <td>Anchorage, Alaska, United States</td>\n",
       "      <td>Celia MacLeod, Laura Oden</td>\n",
       "    </tr>\n",
       "    <tr>\n",
       "      <th>2</th>\n",
       "      <td>United States</td>\n",
       "      <td>Alaska</td>\n",
       "      <td>Laura Oden</td>\n",
       "      <td>295218.0</td>\n",
       "      <td>https://www.crunchbase.com/person/laura-oden</td>\n",
       "      <td>https://www.linkedin.com/in/laura-oden-b11b4675</td>\n",
       "      <td>1</td>\n",
       "      <td>Southern Methodist University</td>\n",
       "      <td>co-founder</td>\n",
       "      <td>Pandere Shoes</td>\n",
       "      <td>E-Commerce, Shoes</td>\n",
       "      <td>E-Commerce</td>\n",
       "      <td>505000</td>\n",
       "      <td>https://www.crunchbase.com/organization/pander...</td>\n",
       "      <td>Anchorage, Alaska, United States</td>\n",
       "      <td>Ayla Rogers, Celia MacLeod,</td>\n",
       "    </tr>\n",
       "  </tbody>\n",
       "</table>\n",
       "</div>"
      ],
      "text/plain": [
       "         Country    State Female founder   CB Rank  \\\n",
       "0  United States  Alabama       Ilit Raz   49114.0   \n",
       "1  United States   Alaska    Ayla Rogers  290213.0   \n",
       "2  United States   Alaska     Laura Oden  295218.0   \n",
       "\n",
       "                                          CB URL  \\\n",
       "0     https://www.crunchbase.com/person/ilit-raz   \n",
       "1  https://www.crunchbase.com/person/ayla-rogers   \n",
       "2   https://www.crunchbase.com/person/laura-oden   \n",
       "\n",
       "                                          LinkedIn  Companies Founded  \\\n",
       "0              https://www.linkedin.com/in/ilitraz                  1   \n",
       "1                                              NaN                  1   \n",
       "2  https://www.linkedin.com/in/laura-oden-b11b4675                  1   \n",
       "\n",
       "                                          Education Founder Type  \\\n",
       "0  Hult International Business School, IDC Herzliya   co-founder   \n",
       "1                                               NaN   co-founder   \n",
       "2                     Southern Methodist University   co-founder   \n",
       "\n",
       "    Company name                 Industries     Broad industry  Funding  \\\n",
       "0         Joonko  Human Resources, Software  Business Software  3300000   \n",
       "1  Pandere Shoes          E-Commerce, Shoes         E-Commerce   505000   \n",
       "2  Pandere Shoes          E-Commerce, Shoes         E-Commerce   505000   \n",
       "\n",
       "                                      Company CB URL  \\\n",
       "0     https://www.crunchbase.com/organization/joonko   \n",
       "1  https://www.crunchbase.com/organization/pander...   \n",
       "2  https://www.crunchbase.com/organization/pander...   \n",
       "\n",
       "                     Company Location                  Other Founders  \n",
       "0  Birmingham, Alabama, United States  Elad Shmilovich, Guy Grinwald,  \n",
       "1    Anchorage, Alaska, United States       Celia MacLeod, Laura Oden  \n",
       "2    Anchorage, Alaska, United States     Ayla Rogers, Celia MacLeod,  "
      ]
     },
     "execution_count": 12,
     "metadata": {},
     "output_type": "execute_result"
    }
   ],
   "source": [
    "df_us.head(3)"
   ]
  },
  {
   "cell_type": "code",
   "execution_count": 13,
   "metadata": {},
   "outputs": [
    {
     "data": {
      "text/plain": [
       "Biotech & Health     23\n",
       "E-Commerce            8\n",
       "Other                 7\n",
       "Business Software     6\n",
       "Education             6\n",
       "FinTech               4\n",
       "AI                    2\n",
       "Agro & Food           1\n",
       "Services              1\n",
       "Transportation        1\n",
       "Name: Broad industry, dtype: int64"
      ]
     },
     "execution_count": 13,
     "metadata": {},
     "output_type": "execute_result"
    }
   ],
   "source": [
    "df_us['Broad industry'].value_counts()"
   ]
  },
  {
   "cell_type": "code",
   "execution_count": null,
   "metadata": {},
   "outputs": [],
   "source": []
  },
  {
   "cell_type": "markdown",
   "metadata": {},
   "source": [
    "From this alone, we can see hat \"E-commerce\" and \"Biotech & Health\" are the common broad insutries that female start their businesses. \n",
    "\n",
    "*(This is also consitent with when the search results when you type \"What is the best business for a woman to start\" on Google)*"
   ]
  },
  {
   "cell_type": "code",
   "execution_count": null,
   "metadata": {},
   "outputs": [],
   "source": []
  }
 ],
 "metadata": {
  "kernelspec": {
   "display_name": "Python 3",
   "language": "python",
   "name": "python3"
  },
  "language_info": {
   "codemirror_mode": {
    "name": "ipython",
    "version": 3
   },
   "file_extension": ".py",
   "mimetype": "text/x-python",
   "name": "python",
   "nbconvert_exporter": "python",
   "pygments_lexer": "ipython3",
   "version": "3.8.5"
  }
 },
 "nbformat": 4,
 "nbformat_minor": 4
}
