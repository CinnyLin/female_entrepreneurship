{
 "cells": [
  {
   "cell_type": "markdown",
   "metadata": {},
   "source": [
    "# Crunchbase Raw Data Cleaning Pipeline (US, EU, China)"
   ]
  },
  {
   "cell_type": "code",
   "execution_count": 1,
   "metadata": {},
   "outputs": [],
   "source": [
    "import pandas as pd"
   ]
  },
  {
   "cell_type": "code",
   "execution_count": null,
   "metadata": {},
   "outputs": [],
   "source": []
  },
  {
   "cell_type": "code",
   "execution_count": 29,
   "metadata": {},
   "outputs": [],
   "source": [
    "# manual data input \n",
    "country = ['US', 'EU', 'Germany', 'China']  #'France', ''Latvia''\n",
    "\n",
    "first_n = list(range(1,1000,50))\n",
    "last_n = list(range(50,1001,50))"
   ]
  },
  {
   "cell_type": "code",
   "execution_count": null,
   "metadata": {},
   "outputs": [],
   "source": []
  },
  {
   "cell_type": "markdown",
   "metadata": {},
   "source": [
    "## step 1: converting txt to csv"
   ]
  },
  {
   "cell_type": "code",
   "execution_count": 38,
   "metadata": {},
   "outputs": [],
   "source": [
    "def cb_txt_to_csv(filename, i):\n",
    "    \n",
    "    text = ''\n",
    "    \n",
    "    with open(f'../data/crunchbase-raw/{filename}.txt', 'r') as f:\n",
    "    \n",
    "        # log row counts\n",
    "        count = i\n",
    "\n",
    "        # log previous lime\n",
    "        last_line = ''\n",
    "\n",
    "        for line in f:\n",
    "\n",
    "            # meets index, switch to next line\n",
    "            if (line == f'{count}.\\n') or (line == f'{count}.'):\n",
    "                count += 1\n",
    "                text += '\\n'\n",
    "                last_line = line\n",
    "\n",
    "            # logo for company\n",
    "            elif (last_line == f'{count}.\\n') and ('Logo' in line):\n",
    "                pass\n",
    "\n",
    "            # logo for investors etc.\n",
    "            elif 'Logo' in line:\n",
    "                last_line = line\n",
    "                pass\n",
    "\n",
    "            # empty lines\n",
    "            elif line == '\\n':\n",
    "                last_line = line\n",
    "                pass\n",
    "\n",
    "            # line with commas\n",
    "            elif ',' in line:\n",
    "                line = line.strip('\\n').replace(',', ';') #note\n",
    "                text += line\n",
    "                text += ','\n",
    "                last_line = line\n",
    "\n",
    "            # data on same row, add comma \n",
    "            else:\n",
    "                text += line.strip('\\n')\n",
    "                text += ','\n",
    "                last_line = line\n",
    "\n",
    "    with open(f'../data/crunchbase-csv/{filename}.csv', 'w') as f:\n",
    "        f.write(text)"
   ]
  },
  {
   "cell_type": "code",
   "execution_count": 4,
   "metadata": {
    "scrolled": true
   },
   "outputs": [],
   "source": [
    "# note\n",
    "# this is not the best method, \n",
    "# even though it worked well for a list of values in a single column;\n",
    "# e.g. sentences, dates, or money values also had their commas replaced\n",
    "# might need to clean the data again before using it"
   ]
  },
  {
   "cell_type": "markdown",
   "metadata": {},
   "source": [
    "### run script"
   ]
  },
  {
   "cell_type": "code",
   "execution_count": 43,
   "metadata": {},
   "outputs": [],
   "source": [
    "for region in country:\n",
    "    for i in range(len(first_n)):\n",
    "        filename = f'{region}_{first_n[i]}-{last_n[i]}'\n",
    "        cb_txt_to_csv(f'{region}/{filename}', first_n[i])"
   ]
  },
  {
   "cell_type": "code",
   "execution_count": 44,
   "metadata": {},
   "outputs": [],
   "source": [
    "# check: if empty means everything is good!!!\n",
    "for region in country:\n",
    "    for i in range(len(first_n)):\n",
    "        filename = f'{region}_{first_n[i]}-{last_n[i]}'\n",
    "        try:\n",
    "            df = pd.read_csv(f'../data/crunchbase-csv/{region}/{filename}.csv')\n",
    "            # check correct format\n",
    "            if (df.shape[0]!=50) or (df.shape[1]!=108):\n",
    "                if (df.shape[1]!=106):\n",
    "                    print(f'{filename}: {df.shape}')\n",
    "        except:\n",
    "            print(f'{filename}')"
   ]
  },
  {
   "cell_type": "code",
   "execution_count": null,
   "metadata": {},
   "outputs": [],
   "source": []
  },
  {
   "cell_type": "markdown",
   "metadata": {},
   "source": [
    "## step 2: aggregate data"
   ]
  },
  {
   "cell_type": "code",
   "execution_count": 7,
   "metadata": {},
   "outputs": [],
   "source": [
    "# #seed --> series A, B, C, D --> exit (either IPO or get acquisition)\n",
    "# df['Industry Groups']"
   ]
  },
  {
   "cell_type": "code",
   "execution_count": 52,
   "metadata": {},
   "outputs": [],
   "source": [
    "for region in country:\n",
    "    df_1000 = pd.DataFrame()\n",
    "    for i in range(len(first_n)):\n",
    "        filename = f'{region}_{first_n[i]}-{last_n[i]}'\n",
    "        df_50 = pd.read_csv(f'../data/crunchbase-csv/{region}/{filename}.csv')\n",
    "        df_1000 = pd.concat([df_1000, df_50], ignore_index=True)\n",
    "    df_1000.to_csv(f'../data/crunchbase-aggregated/{region}1000.csv', index=False)"
   ]
  },
  {
   "cell_type": "code",
   "execution_count": 54,
   "metadata": {},
   "outputs": [
    {
     "name": "stdout",
     "output_type": "stream",
     "text": [
      "US: (1000, 108)\n",
      "EU: (1000, 108)\n",
      "Germany: (1000, 109)\n",
      "China: (1000, 108)\n"
     ]
    }
   ],
   "source": [
    "for region in country:\n",
    "    df = pd.read_csv(f'../data/crunchbase-aggregated/{region}1000.csv')\n",
    "    print(f'{region}: {df.shape}')"
   ]
  },
  {
   "cell_type": "code",
   "execution_count": null,
   "metadata": {},
   "outputs": [],
   "source": []
  }
 ],
 "metadata": {
  "kernelspec": {
   "display_name": "Python 3",
   "language": "python",
   "name": "python3"
  },
  "language_info": {
   "codemirror_mode": {
    "name": "ipython",
    "version": 3
   },
   "file_extension": ".py",
   "mimetype": "text/x-python",
   "name": "python",
   "nbconvert_exporter": "python",
   "pygments_lexer": "ipython3",
   "version": "3.8.5"
  }
 },
 "nbformat": 4,
 "nbformat_minor": 4
}
