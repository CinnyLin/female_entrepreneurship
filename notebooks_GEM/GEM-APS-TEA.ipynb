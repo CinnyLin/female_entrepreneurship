{
 "cells": [
  {
   "cell_type": "markdown",
   "metadata": {},
   "source": [
    "# Global Entrepreneurship Monitor (GEM)\n",
    "\n",
    "## Entrepreneurial Behavior and Attitudes\n",
    "The Adult Population Survey (APS) looks at the characteristics, motivations and ambitions of individuals starting businesses, as well as social attitudes towards entrepreneurship.\n",
    "\n",
    "### Definitions\n",
    "Entrepreneurial Behaviour and Attitudes indicators measured via the Adult Population Survey (APS):\n",
    "\n",
    "- **Total early-stage Entrepreneurial Activity (TEA) Rate**: Percentage of 18-64 population who are either a nascent entrepreneur or owner-manager of a new business\n",
    "\n",
    "- **Motivational Index**: Percentage of those involved in TEA that are improvement-driven opportunity motivated, divided by the percentage of TEA that is necessity-motivated\n",
    "\n",
    "- **Female/Male TEA Ratio**: Percentage of female 18-64 population who are either a nascent entrepreneur or owner-manager of a 'new business', divided by the equivalent percentage for their male counterparts\n",
    "\n",
    "- **Female/Male Opportunity-Driven TEA Ratio**: Percentage of those females involved in TEA who (i) claim to be driven by opportunity as opposed to finding no other option for work; and (ii) who indicate the main driver for being involved in this opportunity is being independent or increasing their income, rather than just maintaining their income, divided by the equivalent percentage for their male counterparts\n",
    "\n",
    "- **High Job Creation Expectation Rate**: Percentage of those involved in TEA who expect to create 6 or more jobs in 5 years\n",
    "\n",
    "- **Innovation Rate**: Percentage of those involved in TEA who indicate that their product or service is new to at least some customers AND that few/no businesses offer the same product\n",
    "\n",
    "- **Business Services Sector Rate**: Percentage of those involved in TEA in the 'Business Services' sector - Information and Communication, Financial Intermediation and Real Estate, Professional Services or Administrative Services, as defined by the ISIC 4.0 Business Type Codebook"
   ]
  },
  {
   "cell_type": "code",
   "execution_count": 1,
   "metadata": {},
   "outputs": [],
   "source": [
    "import pandas as pd\n",
    "import numpy as np\n",
    "import matplotlib.pyplot as plt"
   ]
  },
  {
   "cell_type": "code",
   "execution_count": 2,
   "metadata": {},
   "outputs": [],
   "source": [
    "df = pd.read_excel('../data/GEM/GEM 2017 APS Global National Level Data_27Oct.xlsx')"
   ]
  },
  {
   "cell_type": "code",
   "execution_count": 3,
   "metadata": {},
   "outputs": [
    {
     "data": {
      "text/plain": [
       "(54, 194)"
      ]
     },
     "execution_count": 3,
     "metadata": {},
     "output_type": "execute_result"
    }
   ],
   "source": [
    "df.shape"
   ]
  },
  {
   "cell_type": "code",
   "execution_count": 4,
   "metadata": {},
   "outputs": [
    {
     "data": {
      "text/html": [
       "<div>\n",
       "<style scoped>\n",
       "    .dataframe tbody tr th:only-of-type {\n",
       "        vertical-align: middle;\n",
       "    }\n",
       "\n",
       "    .dataframe tbody tr th {\n",
       "        vertical-align: top;\n",
       "    }\n",
       "\n",
       "    .dataframe thead th {\n",
       "        text-align: right;\n",
       "    }\n",
       "</style>\n",
       "<table border=\"1\" class=\"dataframe\">\n",
       "  <thead>\n",
       "    <tr style=\"text-align: right;\">\n",
       "      <th></th>\n",
       "      <th>country</th>\n",
       "      <th>country_name</th>\n",
       "      <th>region</th>\n",
       "      <th>ctryalp</th>\n",
       "      <th>CAT_GCR1</th>\n",
       "      <th>CAT_GCR2</th>\n",
       "      <th>Bstart17</th>\n",
       "      <th>Bjobst17</th>\n",
       "      <th>Ownmge17</th>\n",
       "      <th>Busang17</th>\n",
       "      <th>...</th>\n",
       "      <th>TEAexpwk</th>\n",
       "      <th>BAFUNDUS</th>\n",
       "      <th>COUNTBAF</th>\n",
       "      <th>COUNTBUS</th>\n",
       "      <th>BUSANGVL</th>\n",
       "      <th>BUSANGVLWT</th>\n",
       "      <th>IPACTLD_ALL</th>\n",
       "      <th>IPACTLD_EMP</th>\n",
       "      <th>IPACTLDNOW_ALL</th>\n",
       "      <th>IPACTLDNOW_EMP</th>\n",
       "    </tr>\n",
       "  </thead>\n",
       "  <tbody>\n",
       "    <tr>\n",
       "      <th>0</th>\n",
       "      <td>1</td>\n",
       "      <td>USA</td>\n",
       "      <td>North America</td>\n",
       "      <td>US</td>\n",
       "      <td>5</td>\n",
       "      <td>3</td>\n",
       "      <td>16.484463</td>\n",
       "      <td>8.929930</td>\n",
       "      <td>19.643626</td>\n",
       "      <td>6.740430</td>\n",
       "      <td>...</td>\n",
       "      <td>86.441637</td>\n",
       "      <td>20243.118280</td>\n",
       "      <td>93</td>\n",
       "      <td>95</td>\n",
       "      <td>5.230596</td>\n",
       "      <td>5.257400</td>\n",
       "      <td>7.587636</td>\n",
       "      <td>10.977426</td>\n",
       "      <td>6.341433</td>\n",
       "      <td>9.174480</td>\n",
       "    </tr>\n",
       "    <tr>\n",
       "      <th>1</th>\n",
       "      <td>20</td>\n",
       "      <td>Egypt</td>\n",
       "      <td>Africa</td>\n",
       "      <td>EG</td>\n",
       "      <td>3</td>\n",
       "      <td>2</td>\n",
       "      <td>30.558540</td>\n",
       "      <td>21.104014</td>\n",
       "      <td>16.698833</td>\n",
       "      <td>3.766109</td>\n",
       "      <td>...</td>\n",
       "      <td>30.520236</td>\n",
       "      <td>5090.341288</td>\n",
       "      <td>88</td>\n",
       "      <td>88</td>\n",
       "      <td>3.490678</td>\n",
       "      <td>3.549859</td>\n",
       "      <td>2.176354</td>\n",
       "      <td>4.434803</td>\n",
       "      <td>1.695146</td>\n",
       "      <td>3.454236</td>\n",
       "    </tr>\n",
       "    <tr>\n",
       "      <th>2</th>\n",
       "      <td>27</td>\n",
       "      <td>South Africa</td>\n",
       "      <td>Africa</td>\n",
       "      <td>ZA</td>\n",
       "      <td>3</td>\n",
       "      <td>2</td>\n",
       "      <td>16.908842</td>\n",
       "      <td>7.316289</td>\n",
       "      <td>10.483170</td>\n",
       "      <td>2.747753</td>\n",
       "      <td>...</td>\n",
       "      <td>62.537307</td>\n",
       "      <td>1610.132465</td>\n",
       "      <td>47</td>\n",
       "      <td>52</td>\n",
       "      <td>1.584507</td>\n",
       "      <td>1.476898</td>\n",
       "      <td>0.453279</td>\n",
       "      <td>1.276094</td>\n",
       "      <td>0.328499</td>\n",
       "      <td>0.917118</td>\n",
       "    </tr>\n",
       "  </tbody>\n",
       "</table>\n",
       "<p>3 rows × 194 columns</p>\n",
       "</div>"
      ],
      "text/plain": [
       "   country  country_name         region ctryalp  CAT_GCR1  CAT_GCR2  \\\n",
       "0        1           USA  North America      US         5         3   \n",
       "1       20         Egypt         Africa      EG         3         2   \n",
       "2       27  South Africa         Africa      ZA         3         2   \n",
       "\n",
       "    Bstart17   Bjobst17   Ownmge17  Busang17  ...   TEAexpwk      BAFUNDUS  \\\n",
       "0  16.484463   8.929930  19.643626  6.740430  ...  86.441637  20243.118280   \n",
       "1  30.558540  21.104014  16.698833  3.766109  ...  30.520236   5090.341288   \n",
       "2  16.908842   7.316289  10.483170  2.747753  ...  62.537307   1610.132465   \n",
       "\n",
       "   COUNTBAF  COUNTBUS  BUSANGVL  BUSANGVLWT  IPACTLD_ALL  IPACTLD_EMP  \\\n",
       "0        93        95  5.230596    5.257400     7.587636    10.977426   \n",
       "1        88        88  3.490678    3.549859     2.176354     4.434803   \n",
       "2        47        52  1.584507    1.476898     0.453279     1.276094   \n",
       "\n",
       "   IPACTLDNOW_ALL  IPACTLDNOW_EMP  \n",
       "0        6.341433        9.174480  \n",
       "1        1.695146        3.454236  \n",
       "2        0.328499        0.917118  \n",
       "\n",
       "[3 rows x 194 columns]"
      ]
     },
     "execution_count": 4,
     "metadata": {},
     "output_type": "execute_result"
    }
   ],
   "source": [
    "df.head(3)"
   ]
  },
  {
   "cell_type": "code",
   "execution_count": 5,
   "metadata": {
    "collapsed": true
   },
   "outputs": [
    {
     "data": {
      "text/plain": [
       "['country',\n",
       " 'country_name',\n",
       " 'region',\n",
       " 'ctryalp',\n",
       " 'CAT_GCR1',\n",
       " 'CAT_GCR2',\n",
       " 'Bstart17',\n",
       " 'Bjobst17',\n",
       " 'Ownmge17',\n",
       " 'Busang17',\n",
       " 'Futsup17',\n",
       " 'Disent17',\n",
       " 'Exitct17',\n",
       " 'Knoent17',\n",
       " 'Opport17',\n",
       " 'Suskil17',\n",
       " 'Frfail17',\n",
       " 'Knoen17m',\n",
       " 'Knoen17f',\n",
       " 'Oppor17m',\n",
       " 'Oppor17f',\n",
       " 'Suskl17m',\n",
       " 'Suskl17f',\n",
       " 'Ffail17m',\n",
       " 'Ffail17f',\n",
       " 'Equali17',\n",
       " 'NBgood17',\n",
       " 'NBstat17',\n",
       " 'NBmedi17',\n",
       " 'Sub17',\n",
       " 'Subo17',\n",
       " 'Suboa17',\n",
       " 'Suboan17',\n",
       " 'Babybu17',\n",
       " 'Estbbu17',\n",
       " 'Anybus17',\n",
       " 'BO_17ina',\n",
       " 'BO_17exa',\n",
       " 'TEA17',\n",
       " 'TEA17mal',\n",
       " 'TEA17fem',\n",
       " 'EB_17mal',\n",
       " 'EB_17fem',\n",
       " 'TEA17opp',\n",
       " 'TEA17nec',\n",
       " 'TEA17mop',\n",
       " 'TEA17fop',\n",
       " 'TEA17mne',\n",
       " 'TEA17fne',\n",
       " 'TEA17ido',\n",
       " 'TEA17MT1',\n",
       " 'TEA17MT2',\n",
       " 'TEA17MT3',\n",
       " 'TEA17MT4',\n",
       " 'SUBOPP17',\n",
       " 'SUBNEC17',\n",
       " 'Sample17',\n",
       " 'SU_ct17',\n",
       " 'BB_ct17',\n",
       " 'EB_ct17',\n",
       " 'TEAct17',\n",
       " 'BA_ct17',\n",
       " 'DISCct17',\n",
       " 'SU_17tmz',\n",
       " 'BB_17tmz',\n",
       " 'EB_17tmz',\n",
       " 'TEA17tmz',\n",
       " 'Tea17s1p',\n",
       " 'Tea17s2p',\n",
       " 'Tea17s3p',\n",
       " 'Tea17s4p',\n",
       " 'EB_17s1p',\n",
       " 'EB_17s2p',\n",
       " 'EB_17s3p',\n",
       " 'EB_17s4p',\n",
       " 'TEA17mk1',\n",
       " 'TEA17mk2',\n",
       " 'TEA17mk3',\n",
       " 'TEA17mk4',\n",
       " 'EB_17mk1',\n",
       " 'EB_17mk2',\n",
       " 'EB_17mk3',\n",
       " 'EB_17mk4',\n",
       " 'TEA17HIX',\n",
       " 'EB_17HIX',\n",
       " 'SU_17e1p',\n",
       " 'SU_17e2p',\n",
       " 'SU_17e3p',\n",
       " 'SU_17e4p',\n",
       " 'Tea17e1p',\n",
       " 'Tea17e2p',\n",
       " 'Tea17e3p',\n",
       " 'Tea17e4p',\n",
       " 'EB_17e1p',\n",
       " 'EB_17e2p',\n",
       " 'EB_17e3p',\n",
       " 'EB_17e4p',\n",
       " 'AN17ye1p',\n",
       " 'AN17ye2p',\n",
       " 'AN17ye3p',\n",
       " 'AN17ye4p',\n",
       " 'TEA17EMP',\n",
       " 'TEA17HJG',\n",
       " 'TEA17job',\n",
       " 'EB_17job',\n",
       " 'TEA17npm',\n",
       " 'EB_17npm',\n",
       " 'TEA17tec',\n",
       " 'EB_17tec',\n",
       " 'Tea17cs1',\n",
       " 'Tea17cs2',\n",
       " 'Tea17cs3',\n",
       " 'EB_17cs1',\n",
       " 'EB_17cs2',\n",
       " 'EB_17cs3',\n",
       " 'Tea17cm1',\n",
       " 'Tea17cm2',\n",
       " 'Tea17cm3',\n",
       " 'EB_17cm1',\n",
       " 'EB_17cm2',\n",
       " 'EB_17cm3',\n",
       " 'Tea17nt1',\n",
       " 'Tea17nt2',\n",
       " 'Tea17nt3',\n",
       " 'EB_17nt1',\n",
       " 'EB_17nt2',\n",
       " 'EB_17nt3',\n",
       " 'Tea17ac1',\n",
       " 'Tea17ac2',\n",
       " 'Tea17ac3',\n",
       " 'Tea17ac4',\n",
       " 'Tea17ac5',\n",
       " 'EB_17ac1',\n",
       " 'EB_17ac2',\n",
       " 'EB_17ac3',\n",
       " 'EB_17ac4',\n",
       " 'EB_17ac5',\n",
       " 'Tea17ap1',\n",
       " 'Tea17ap2',\n",
       " 'Tea17ap3',\n",
       " 'Tea17ap4',\n",
       " 'Tea17ap5',\n",
       " 'EB_17ap1',\n",
       " 'EB_17ap2',\n",
       " 'EB_17ap3',\n",
       " 'EB_17ap4',\n",
       " 'EB_17ap5',\n",
       " 'Tea17WS1',\n",
       " 'Tea17WS2',\n",
       " 'Tea17WS3',\n",
       " 'TEA17ed1',\n",
       " 'TEA17ed2',\n",
       " 'TEA17ed3',\n",
       " 'TEA17ed4',\n",
       " 'EB_17ed1',\n",
       " 'EB_17ed2',\n",
       " 'EB_17ed3',\n",
       " 'EB_17ed4',\n",
       " 'TEAEDHI',\n",
       " 'TEA17hi1',\n",
       " 'TEA17hi2',\n",
       " 'TEA17hi3',\n",
       " 'EB_17hi1',\n",
       " 'EB_17hi2',\n",
       " 'EB_17hi3',\n",
       " 'TEA17op1',\n",
       " 'TEA17op2',\n",
       " 'TEA17op3',\n",
       " 'TEA17op4',\n",
       " 'EX17_RS1',\n",
       " 'EX17_RS2',\n",
       " 'EX17_RS3',\n",
       " 'EX17_RS4',\n",
       " 'EX17_RS5',\n",
       " 'EX17_RS6',\n",
       " 'EX17_RS7',\n",
       " 'EX17_RS8',\n",
       " 'EX17_RS11',\n",
       " 'TEAnec_p',\n",
       " 'TEAopp_p',\n",
       " 'TEAjobex',\n",
       " 'TEAnewpr',\n",
       " 'TEAnewmk',\n",
       " 'TEAexpst',\n",
       " 'TEAexpwk',\n",
       " 'BAFUNDUS',\n",
       " 'COUNTBAF',\n",
       " 'COUNTBUS',\n",
       " 'BUSANGVL',\n",
       " 'BUSANGVLWT',\n",
       " 'IPACTLD_ALL',\n",
       " 'IPACTLD_EMP',\n",
       " 'IPACTLDNOW_ALL',\n",
       " 'IPACTLDNOW_EMP']"
      ]
     },
     "execution_count": 5,
     "metadata": {},
     "output_type": "execute_result"
    }
   ],
   "source": [
    "list(df.columns)"
   ]
  },
  {
   "cell_type": "code",
   "execution_count": 6,
   "metadata": {},
   "outputs": [],
   "source": [
    "selected_cols = [\n",
    "    'TEA17mal', 'TEA17fem', #'TEA17', \n",
    "    'TEA17mop', 'TEA17fop', #'TEA17opp',\n",
    "    'TEA17mne', 'TEA17fne', #'TEA17nec',\n",
    "    #...\n",
    "]"
   ]
  },
  {
   "cell_type": "markdown",
   "metadata": {},
   "source": [
    "`CAT_GCR1` is Country Group Global Competitiveness Report 5 categories, where countries with higher score are also in catgeory 5."
   ]
  },
  {
   "cell_type": "code",
   "execution_count": 7,
   "metadata": {},
   "outputs": [
    {
     "name": "stdout",
     "output_type": "stream",
     "text": [
      "1 ['India', 'Madagascar']\n",
      "2 ['Vietnam', 'Kazakhstan']\n",
      "3 ['Egypt', 'South Africa', 'Peru', 'Mexico', 'Brazil', 'Colombia', 'Indonesia', 'Thailand', 'China', 'Iran', 'Morocco', 'Bulgaria', 'Bosnia and Herzegovina', 'Guatemala', 'Ecuador']\n",
      "4 ['Poland', 'Argentina', 'Chile', 'Malaysia', 'Latvia', 'Croatia', 'Slovakia', 'Panama', 'Uruguay', 'Lebanon', 'Saudi Arabia']\n",
      "5 ['USA', 'Greece', 'Netherlands', 'France', 'Spain', 'Italy', 'Switzerland', 'United Kingdom', 'Sweden', 'Germany', 'Australia', 'Japan', 'Korea', 'Canada', 'Luxembourg', 'Ireland', 'Cyprus', 'Estonia', 'Slovenia', 'Puerto Rico', 'Taiwan', 'United Arab Emirates', 'Israel', 'Qatar']\n"
     ]
    }
   ],
   "source": [
    "for i in range(1,6):\n",
    "    print(i, list(df[df['CAT_GCR1']==i]['country_name']))"
   ]
  },
  {
   "cell_type": "markdown",
   "metadata": {},
   "source": [
    "`region` is a column I manually added for analysis purpose.\n",
    "\n",
    "Australia and Sweden is grouped in `Western Europe`, Mexico is grouped along with Central American countries to `South America`, Kazakhstan and India are not in a group name because there is only one country in their region, and China is also singled out because it has a different sociopolitical structure than rest of East Asia and also because it has a much lower GCR."
   ]
  },
  {
   "cell_type": "code",
   "execution_count": 8,
   "metadata": {},
   "outputs": [
    {
     "data": {
      "text/plain": [
       "South America      11\n",
       "Western Europe      9\n",
       "Eastern Europe      8\n",
       "Middle East         7\n",
       "Southeast Asia      4\n",
       "Africa              4\n",
       "East Asia           3\n",
       "Southern Europe     3\n",
       "North America       2\n",
       "China               1\n",
       "India               1\n",
       "Kazakhstan          1\n",
       "Name: region, dtype: int64"
      ]
     },
     "execution_count": 8,
     "metadata": {},
     "output_type": "execute_result"
    }
   ],
   "source": [
    "df['region'].value_counts()"
   ]
  },
  {
   "cell_type": "code",
   "execution_count": null,
   "metadata": {},
   "outputs": [],
   "source": []
  },
  {
   "cell_type": "code",
   "execution_count": 9,
   "metadata": {},
   "outputs": [],
   "source": [
    "selected_df = df[['country_name', 'region', 'CAT_GCR1'] + selected_cols]"
   ]
  },
  {
   "cell_type": "code",
   "execution_count": null,
   "metadata": {},
   "outputs": [],
   "source": []
  },
  {
   "cell_type": "markdown",
   "metadata": {},
   "source": [
    "## by Global Competitiveness Report"
   ]
  },
  {
   "cell_type": "code",
   "execution_count": 10,
   "metadata": {
    "collapsed": true
   },
   "outputs": [
    {
     "data": {
      "text/html": [
       "<div>\n",
       "<style scoped>\n",
       "    .dataframe tbody tr th:only-of-type {\n",
       "        vertical-align: middle;\n",
       "    }\n",
       "\n",
       "    .dataframe tbody tr th {\n",
       "        vertical-align: top;\n",
       "    }\n",
       "\n",
       "    .dataframe thead th {\n",
       "        text-align: right;\n",
       "    }\n",
       "</style>\n",
       "<table border=\"1\" class=\"dataframe\">\n",
       "  <thead>\n",
       "    <tr style=\"text-align: right;\">\n",
       "      <th></th>\n",
       "      <th>TEA17mal</th>\n",
       "      <th>TEA17fem</th>\n",
       "      <th>TEA17mop</th>\n",
       "      <th>TEA17fop</th>\n",
       "      <th>TEA17mne</th>\n",
       "      <th>TEA17fne</th>\n",
       "    </tr>\n",
       "    <tr>\n",
       "      <th>CAT_GCR1</th>\n",
       "      <th></th>\n",
       "      <th></th>\n",
       "      <th></th>\n",
       "      <th></th>\n",
       "      <th></th>\n",
       "      <th></th>\n",
       "    </tr>\n",
       "  </thead>\n",
       "  <tbody>\n",
       "    <tr>\n",
       "      <th>1</th>\n",
       "      <td>16.620067</td>\n",
       "      <td>14.389764</td>\n",
       "      <td>10.844584</td>\n",
       "      <td>9.650432</td>\n",
       "      <td>4.830026</td>\n",
       "      <td>3.441385</td>\n",
       "    </tr>\n",
       "    <tr>\n",
       "      <th>2</th>\n",
       "      <td>16.545528</td>\n",
       "      <td>18.020792</td>\n",
       "      <td>13.312790</td>\n",
       "      <td>14.120860</td>\n",
       "      <td>2.607961</td>\n",
       "      <td>3.099657</td>\n",
       "    </tr>\n",
       "    <tr>\n",
       "      <th>3</th>\n",
       "      <td>16.825942</td>\n",
       "      <td>13.213375</td>\n",
       "      <td>12.304000</td>\n",
       "      <td>8.772533</td>\n",
       "      <td>4.228129</td>\n",
       "      <td>4.226240</td>\n",
       "    </tr>\n",
       "    <tr>\n",
       "      <th>4</th>\n",
       "      <td>17.088642</td>\n",
       "      <td>12.326207</td>\n",
       "      <td>13.082533</td>\n",
       "      <td>8.562678</td>\n",
       "      <td>3.665436</td>\n",
       "      <td>3.504701</td>\n",
       "    </tr>\n",
       "    <tr>\n",
       "      <th>5</th>\n",
       "      <td>11.290139</td>\n",
       "      <td>7.091969</td>\n",
       "      <td>8.969509</td>\n",
       "      <td>5.387492</td>\n",
       "      <td>1.855005</td>\n",
       "      <td>1.296945</td>\n",
       "    </tr>\n",
       "  </tbody>\n",
       "</table>\n",
       "</div>"
      ],
      "text/plain": [
       "           TEA17mal   TEA17fem   TEA17mop   TEA17fop  TEA17mne  TEA17fne\n",
       "CAT_GCR1                                                                \n",
       "1         16.620067  14.389764  10.844584   9.650432  4.830026  3.441385\n",
       "2         16.545528  18.020792  13.312790  14.120860  2.607961  3.099657\n",
       "3         16.825942  13.213375  12.304000   8.772533  4.228129  4.226240\n",
       "4         17.088642  12.326207  13.082533   8.562678  3.665436  3.504701\n",
       "5         11.290139   7.091969   8.969509   5.387492  1.855005  1.296945"
      ]
     },
     "execution_count": 10,
     "metadata": {},
     "output_type": "execute_result"
    }
   ],
   "source": [
    "selected_groupby = selected_df.groupby('CAT_GCR1').mean()\n",
    "selected_groupby"
   ]
  },
  {
   "cell_type": "code",
   "execution_count": 12,
   "metadata": {
    "collapsed": true
   },
   "outputs": [
    {
     "data": {
      "image/png": "[encoded data removed]",
      "text/plain": [
       "<Figure size 432x288 with 1 Axes>"
      ]
     },
     "metadata": {
      "needs_background": "light"
     },
     "output_type": "display_data"
    }
   ],
   "source": [
    "TEA_cols = ['TEA17mal', 'TEA17fem']\n",
    "plt.plot(selected_groupby[TEA_cols])\n",
    "plt.legend(TEA_cols)\n",
    "plt.xticks(np.arange(1,6))\n",
    "plt.show()"
   ]
  },
  {
   "cell_type": "code",
   "execution_count": 13,
   "metadata": {
    "collapsed": true
   },
   "outputs": [
    {
     "data": {
      "image/png": "[encoded data removed]",
      "text/plain": [
       "<Figure size 432x288 with 1 Axes>"
      ]
     },
     "metadata": {
      "needs_background": "light"
     },
     "output_type": "display_data"
    }
   ],
   "source": [
    "OP_cols = ['TEA17mop', 'TEA17fop']\n",
    "plt.plot(selected_groupby[OP_cols])\n",
    "plt.legend(OP_cols)\n",
    "plt.xticks(np.arange(1,6))\n",
    "plt.show()"
   ]
  },
  {
   "cell_type": "code",
   "execution_count": 14,
   "metadata": {
    "collapsed": true
   },
   "outputs": [
    {
     "data": {
      "image/png": "[encoded data removed]",
      "text/plain": [
       "<Figure size 432x288 with 1 Axes>"
      ]
     },
     "metadata": {
      "needs_background": "light"
     },
     "output_type": "display_data"
    }
   ],
   "source": [
    "NE_cols = ['TEA17mne', 'TEA17fne']\n",
    "plt.plot(selected_groupby[NE_cols])\n",
    "plt.legend(NE_cols)\n",
    "plt.xticks(np.arange(1,6))\n",
    "plt.show()"
   ]
  },
  {
   "cell_type": "code",
   "execution_count": null,
   "metadata": {},
   "outputs": [],
   "source": []
  },
  {
   "cell_type": "markdown",
   "metadata": {},
   "source": [
    "## by region"
   ]
  },
  {
   "cell_type": "code",
   "execution_count": 15,
   "metadata": {},
   "outputs": [
    {
     "data": {
      "text/html": [
       "<div>\n",
       "<style scoped>\n",
       "    .dataframe tbody tr th:only-of-type {\n",
       "        vertical-align: middle;\n",
       "    }\n",
       "\n",
       "    .dataframe tbody tr th {\n",
       "        vertical-align: top;\n",
       "    }\n",
       "\n",
       "    .dataframe thead th {\n",
       "        text-align: right;\n",
       "    }\n",
       "</style>\n",
       "<table border=\"1\" class=\"dataframe\">\n",
       "  <thead>\n",
       "    <tr style=\"text-align: right;\">\n",
       "      <th></th>\n",
       "      <th>CAT_GCR1</th>\n",
       "      <th>TEA17mal</th>\n",
       "      <th>TEA17fem</th>\n",
       "      <th>TEA17mop</th>\n",
       "      <th>TEA17fop</th>\n",
       "      <th>TEA17mne</th>\n",
       "      <th>TEA17fne</th>\n",
       "    </tr>\n",
       "    <tr>\n",
       "      <th>region</th>\n",
       "      <th></th>\n",
       "      <th></th>\n",
       "      <th></th>\n",
       "      <th></th>\n",
       "      <th></th>\n",
       "      <th></th>\n",
       "      <th></th>\n",
       "    </tr>\n",
       "  </thead>\n",
       "  <tbody>\n",
       "    <tr>\n",
       "      <th>India</th>\n",
       "      <td>1.000000</td>\n",
       "      <td>10.290052</td>\n",
       "      <td>8.220669</td>\n",
       "      <td>5.114034</td>\n",
       "      <td>2.063614</td>\n",
       "      <td>3.595120</td>\n",
       "      <td>3.568139</td>\n",
       "    </tr>\n",
       "    <tr>\n",
       "      <th>Kazakhstan</th>\n",
       "      <td>2.000000</td>\n",
       "      <td>11.362801</td>\n",
       "      <td>11.271963</td>\n",
       "      <td>7.752988</td>\n",
       "      <td>7.971575</td>\n",
       "      <td>2.360258</td>\n",
       "      <td>1.699837</td>\n",
       "    </tr>\n",
       "    <tr>\n",
       "      <th>Africa</th>\n",
       "      <td>2.500000</td>\n",
       "      <td>16.926230</td>\n",
       "      <td>10.456018</td>\n",
       "      <td>12.046862</td>\n",
       "      <td>7.484557</td>\n",
       "      <td>4.621606</td>\n",
       "      <td>2.889160</td>\n",
       "    </tr>\n",
       "    <tr>\n",
       "      <th>China</th>\n",
       "      <td>3.000000</td>\n",
       "      <td>10.536183</td>\n",
       "      <td>9.185451</td>\n",
       "      <td>6.672659</td>\n",
       "      <td>6.353213</td>\n",
       "      <td>3.653948</td>\n",
       "      <td>2.732036</td>\n",
       "    </tr>\n",
       "    <tr>\n",
       "      <th>Southeast Asia</th>\n",
       "      <td>3.000000</td>\n",
       "      <td>19.208980</td>\n",
       "      <td>17.738755</td>\n",
       "      <td>16.713310</td>\n",
       "      <td>14.858366</td>\n",
       "      <td>1.866163</td>\n",
       "      <td>2.598801</td>\n",
       "    </tr>\n",
       "    <tr>\n",
       "      <th>South America</th>\n",
       "      <td>3.545455</td>\n",
       "      <td>20.333153</td>\n",
       "      <td>16.746049</td>\n",
       "      <td>15.090499</td>\n",
       "      <td>11.105970</td>\n",
       "      <td>4.993122</td>\n",
       "      <td>5.414792</td>\n",
       "    </tr>\n",
       "    <tr>\n",
       "      <th>Eastern Europe</th>\n",
       "      <td>4.000000</td>\n",
       "      <td>11.999584</td>\n",
       "      <td>7.408296</td>\n",
       "      <td>8.968177</td>\n",
       "      <td>5.092823</td>\n",
       "      <td>2.563012</td>\n",
       "      <td>2.003206</td>\n",
       "    </tr>\n",
       "    <tr>\n",
       "      <th>Middle East</th>\n",
       "      <td>4.428571</td>\n",
       "      <td>13.961683</td>\n",
       "      <td>10.397707</td>\n",
       "      <td>10.211223</td>\n",
       "      <td>6.734173</td>\n",
       "      <td>3.472931</td>\n",
       "      <td>3.211326</td>\n",
       "    </tr>\n",
       "    <tr>\n",
       "      <th>East Asia</th>\n",
       "      <td>5.000000</td>\n",
       "      <td>11.004889</td>\n",
       "      <td>6.431964</td>\n",
       "      <td>8.726867</td>\n",
       "      <td>5.142084</td>\n",
       "      <td>2.131745</td>\n",
       "      <td>1.115919</td>\n",
       "    </tr>\n",
       "    <tr>\n",
       "      <th>North America</th>\n",
       "      <td>5.000000</td>\n",
       "      <td>19.636394</td>\n",
       "      <td>12.820445</td>\n",
       "      <td>15.984651</td>\n",
       "      <td>10.651513</td>\n",
       "      <td>3.109632</td>\n",
       "      <td>1.554925</td>\n",
       "    </tr>\n",
       "    <tr>\n",
       "      <th>Southern Europe</th>\n",
       "      <td>5.000000</td>\n",
       "      <td>6.255311</td>\n",
       "      <td>3.943706</td>\n",
       "      <td>4.831929</td>\n",
       "      <td>2.711712</td>\n",
       "      <td>1.208200</td>\n",
       "      <td>1.006872</td>\n",
       "    </tr>\n",
       "    <tr>\n",
       "      <th>Western Europe</th>\n",
       "      <td>5.000000</td>\n",
       "      <td>10.275813</td>\n",
       "      <td>6.037261</td>\n",
       "      <td>8.400589</td>\n",
       "      <td>4.660874</td>\n",
       "      <td>1.288820</td>\n",
       "      <td>0.961817</td>\n",
       "    </tr>\n",
       "  </tbody>\n",
       "</table>\n",
       "</div>"
      ],
      "text/plain": [
       "                 CAT_GCR1   TEA17mal   TEA17fem   TEA17mop   TEA17fop  \\\n",
       "region                                                                  \n",
       "India            1.000000  10.290052   8.220669   5.114034   2.063614   \n",
       "Kazakhstan       2.000000  11.362801  11.271963   7.752988   7.971575   \n",
       "Africa           2.500000  16.926230  10.456018  12.046862   7.484557   \n",
       "China            3.000000  10.536183   9.185451   6.672659   6.353213   \n",
       "Southeast Asia   3.000000  19.208980  17.738755  16.713310  14.858366   \n",
       "South America    3.545455  20.333153  16.746049  15.090499  11.105970   \n",
       "Eastern Europe   4.000000  11.999584   7.408296   8.968177   5.092823   \n",
       "Middle East      4.428571  13.961683  10.397707  10.211223   6.734173   \n",
       "East Asia        5.000000  11.004889   6.431964   8.726867   5.142084   \n",
       "North America    5.000000  19.636394  12.820445  15.984651  10.651513   \n",
       "Southern Europe  5.000000   6.255311   3.943706   4.831929   2.711712   \n",
       "Western Europe   5.000000  10.275813   6.037261   8.400589   4.660874   \n",
       "\n",
       "                 TEA17mne  TEA17fne  \n",
       "region                               \n",
       "India            3.595120  3.568139  \n",
       "Kazakhstan       2.360258  1.699837  \n",
       "Africa           4.621606  2.889160  \n",
       "China            3.653948  2.732036  \n",
       "Southeast Asia   1.866163  2.598801  \n",
       "South America    4.993122  5.414792  \n",
       "Eastern Europe   2.563012  2.003206  \n",
       "Middle East      3.472931  3.211326  \n",
       "East Asia        2.131745  1.115919  \n",
       "North America    3.109632  1.554925  \n",
       "Southern Europe  1.208200  1.006872  \n",
       "Western Europe   1.288820  0.961817  "
      ]
     },
     "execution_count": 15,
     "metadata": {},
     "output_type": "execute_result"
    }
   ],
   "source": [
    "selected_groupby_region = selected_df.groupby('region').mean().sort_values(by='CAT_GCR1')\n",
    "selected_groupby_region"
   ]
  },
  {
   "cell_type": "code",
   "execution_count": 18,
   "metadata": {},
   "outputs": [
    {
     "data": {
      "image/png": "[encoded data removed]",
      "text/plain": [
       "<Figure size 432x288 with 1 Axes>"
      ]
     },
     "metadata": {
      "needs_background": "light"
     },
     "output_type": "display_data"
    }
   ],
   "source": [
    "TEA_cols = ['TEA17mal', 'TEA17fem']\n",
    "plt.plot(selected_groupby_region[TEA_cols])\n",
    "plt.legend(TEA_cols)\n",
    "plt.xticks(rotation=90)\n",
    "plt.show()"
   ]
  },
  {
   "cell_type": "code",
   "execution_count": 17,
   "metadata": {},
   "outputs": [
    {
     "data": {
      "image/png": "[encoded data removed]",
      "text/plain": [
       "<Figure size 432x288 with 1 Axes>"
      ]
     },
     "metadata": {
      "needs_background": "light"
     },
     "output_type": "display_data"
    }
   ],
   "source": [
    "OP_cols = ['TEA17mop', 'TEA17fop']\n",
    "plt.plot(selected_groupby_region[OP_cols])\n",
    "plt.legend(OP_cols)\n",
    "plt.xticks(rotation=90)\n",
    "plt.show()"
   ]
  },
  {
   "cell_type": "code",
   "execution_count": 20,
   "metadata": {},
   "outputs": [
    {
     "data": {
      "image/png": "[encoded data removed]",
      "text/plain": [
       "<Figure size 432x288 with 1 Axes>"
      ]
     },
     "metadata": {
      "needs_background": "light"
     },
     "output_type": "display_data"
    }
   ],
   "source": [
    "NE_cols = ['TEA17mne', 'TEA17fne']\n",
    "plt.plot(selected_groupby_region[NE_cols])\n",
    "plt.legend(NE_cols)\n",
    "plt.xticks(rotation=90)\n",
    "plt.show()"
   ]
  },
  {
   "cell_type": "code",
   "execution_count": null,
   "metadata": {},
   "outputs": [],
   "source": []
  },
  {
   "cell_type": "code",
   "execution_count": null,
   "metadata": {},
   "outputs": [],
   "source": []
  },
  {
   "cell_type": "code",
   "execution_count": null,
   "metadata": {},
   "outputs": [],
   "source": []
  }
 ],
 "metadata": {
  "kernelspec": {
   "display_name": "Python 3",
   "language": "python",
   "name": "python3"
  },
  "language_info": {
   "codemirror_mode": {
    "name": "ipython",
    "version": 3
   },
   "file_extension": ".py",
   "mimetype": "text/x-python",
   "name": "python",
   "nbconvert_exporter": "python",
   "pygments_lexer": "ipython3",
   "version": "3.8.5"
  }
 },
 "nbformat": 4,
 "nbformat_minor": 4
}
