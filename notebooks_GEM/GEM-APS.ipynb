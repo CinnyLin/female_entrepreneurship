{
 "cells": [
  {
   "cell_type": "markdown",
   "metadata": {},
   "source": [
    "# Global Entrepreneurship Monitor (GEM)\n",
    "\n",
    "## Entrepreneurial Behavior and Attitudes\n",
    "The Adult Population Survey (APS) looks at the characteristics, motivations and ambitions of individuals starting businesses, as well as social attitudes towards entrepreneurship.\n",
    "\n",
    "### Definitions\n",
    "Entrepreneurial Behaviour and Attitudes indicators measured via the Adult Population Survey (APS):\n",
    "\n",
    "- **Perceived Opportunities Rate (OPPOR)**: Percentage of 18-64 population (individuals involved in any stage of entrepreneurial activity excluded) who see good opportunities to start a firm in the area where they live\n",
    "\n",
    "- **Perceived Capabilities Rate (SUSKL)**: Percentage of 18-64 population (individuals involved in any stage of entrepreneurial activity excluded) who believe they have the required skills and knowledge to start a business\n",
    "\n",
    "- **Fear of Failure Rate (FFAIL)**: Percentage of 18-64 population (individuals involved in any stage of entrepreneurial activity excluded) who indicate that fear of failure would prevent them from setting up a business\n",
    "\n",
    "- **Entrepreneurial Intentions Rate**: Percentage of 18-64 population (individuals involved in any stage of entrepreneurial activity excluded) who are latent entrepreneurs and who intend to start a business within three years\n",
    "\n",
    "- **Total early-stage Entrepreneurial Activity (TEA) Rate**: Percentage of 18-64 population who are either a nascent entrepreneur or owner-manager of a new business\n",
    "\n",
    "- **Established Business Ownership Rate**: Percentage of 18-64 population who are currently an owner-manager of an established business, i.e., owning and managing a running business that has paid salaries, wages, or any other payments to the owners for more than 42 months\n",
    "\n",
    "- **Entrepreneurial Employee Activity Rate**: Rate of involvement of employees in entrepreneurial activities, such as developing or launching new goods or services, or setting up a new business unit, a new establishment or subsidiary\n",
    "\n",
    "- **Motivational Index**: Percentage of those involved in TEA that are improvement-driven opportunity motivated, divided by the percentage of TEA that is necessity-motivated\n",
    "\n",
    "- **Female/Male TEA Ratio**: Percentage of female 18-64 population who are either a nascent entrepreneur or owner-manager of a 'new business', divided by the equivalent percentage for their male counterparts\n",
    "\n",
    "- **Female/Male Opportunity-Driven TEA Ratio**: Percentage of those females involved in TEA who (i) claim to be driven by opportunity as opposed to finding no other option for work; and (ii) who indicate the main driver for being involved in this opportunity is being independent or increasing their income, rather than just maintaining their income, divided by the equivalent percentage for their male counterparts\n",
    "\n",
    "- **High Job Creation Expectation Rate**: Percentage of those involved in TEA who expect to create 6 or more jobs in 5 years\n",
    "\n",
    "- **Innovation Rate**: Percentage of those involved in TEA who indicate that their product or service is new to at least some customers AND that few/no businesses offer the same product\n",
    "\n",
    "- **Business Services Sector Rate**: Percentage of those involved in TEA in the 'Business Services' sector - Information and Communication, Financial Intermediation and Real Estate, Professional Services or Administrative Services, as defined by the ISIC 4.0 Business Type Codebook\n",
    "\n",
    "- **High Status to Successful Entrepreneurs Rate**: Percentage of 18-64 population who agree with the statement that in their country, successful entrepreneurs receive high status\n",
    "\n",
    "- **Entrepreneurship as a Good Career Choice Rate**: Percentage of 18-64 population who agree with the statement that in their country, most people consider starting a business as a desirable career choice"
   ]
  },
  {
   "cell_type": "code",
   "execution_count": 1,
   "metadata": {},
   "outputs": [],
   "source": [
    "import pandas as pd\n",
    "import numpy as np\n",
    "import matplotlib.pyplot as plt"
   ]
  },
  {
   "cell_type": "code",
   "execution_count": 2,
   "metadata": {},
   "outputs": [],
   "source": [
    "df = pd.read_excel('../data/GEM/GEM 2017 APS Global National Level Data_27Oct.xlsx')"
   ]
  },
  {
   "cell_type": "code",
   "execution_count": 3,
   "metadata": {},
   "outputs": [
    {
     "data": {
      "text/plain": [
       "(54, 194)"
      ]
     },
     "execution_count": 3,
     "metadata": {},
     "output_type": "execute_result"
    }
   ],
   "source": [
    "df.shape"
   ]
  },
  {
   "cell_type": "code",
   "execution_count": 4,
   "metadata": {},
   "outputs": [
    {
     "data": {
      "text/html": [
       "<div>\n",
       "<style scoped>\n",
       "    .dataframe tbody tr th:only-of-type {\n",
       "        vertical-align: middle;\n",
       "    }\n",
       "\n",
       "    .dataframe tbody tr th {\n",
       "        vertical-align: top;\n",
       "    }\n",
       "\n",
       "    .dataframe thead th {\n",
       "        text-align: right;\n",
       "    }\n",
       "</style>\n",
       "<table border=\"1\" class=\"dataframe\">\n",
       "  <thead>\n",
       "    <tr style=\"text-align: right;\">\n",
       "      <th></th>\n",
       "      <th>country</th>\n",
       "      <th>country_name</th>\n",
       "      <th>region</th>\n",
       "      <th>ctryalp</th>\n",
       "      <th>CAT_GCR1</th>\n",
       "      <th>CAT_GCR2</th>\n",
       "      <th>Bstart17</th>\n",
       "      <th>Bjobst17</th>\n",
       "      <th>Ownmge17</th>\n",
       "      <th>Busang17</th>\n",
       "      <th>...</th>\n",
       "      <th>TEAexpwk</th>\n",
       "      <th>BAFUNDUS</th>\n",
       "      <th>COUNTBAF</th>\n",
       "      <th>COUNTBUS</th>\n",
       "      <th>BUSANGVL</th>\n",
       "      <th>BUSANGVLWT</th>\n",
       "      <th>IPACTLD_ALL</th>\n",
       "      <th>IPACTLD_EMP</th>\n",
       "      <th>IPACTLDNOW_ALL</th>\n",
       "      <th>IPACTLDNOW_EMP</th>\n",
       "    </tr>\n",
       "  </thead>\n",
       "  <tbody>\n",
       "    <tr>\n",
       "      <th>0</th>\n",
       "      <td>1</td>\n",
       "      <td>USA</td>\n",
       "      <td>North America</td>\n",
       "      <td>US</td>\n",
       "      <td>5</td>\n",
       "      <td>3</td>\n",
       "      <td>16.484463</td>\n",
       "      <td>8.929930</td>\n",
       "      <td>19.643626</td>\n",
       "      <td>6.740430</td>\n",
       "      <td>...</td>\n",
       "      <td>86.441637</td>\n",
       "      <td>20243.118280</td>\n",
       "      <td>93</td>\n",
       "      <td>95</td>\n",
       "      <td>5.230596</td>\n",
       "      <td>5.257400</td>\n",
       "      <td>7.587636</td>\n",
       "      <td>10.977426</td>\n",
       "      <td>6.341433</td>\n",
       "      <td>9.174480</td>\n",
       "    </tr>\n",
       "    <tr>\n",
       "      <th>1</th>\n",
       "      <td>20</td>\n",
       "      <td>Egypt</td>\n",
       "      <td>Africa</td>\n",
       "      <td>EG</td>\n",
       "      <td>3</td>\n",
       "      <td>2</td>\n",
       "      <td>30.558540</td>\n",
       "      <td>21.104014</td>\n",
       "      <td>16.698833</td>\n",
       "      <td>3.766109</td>\n",
       "      <td>...</td>\n",
       "      <td>30.520236</td>\n",
       "      <td>5090.341288</td>\n",
       "      <td>88</td>\n",
       "      <td>88</td>\n",
       "      <td>3.490678</td>\n",
       "      <td>3.549859</td>\n",
       "      <td>2.176354</td>\n",
       "      <td>4.434803</td>\n",
       "      <td>1.695146</td>\n",
       "      <td>3.454236</td>\n",
       "    </tr>\n",
       "    <tr>\n",
       "      <th>2</th>\n",
       "      <td>27</td>\n",
       "      <td>South Africa</td>\n",
       "      <td>Africa</td>\n",
       "      <td>ZA</td>\n",
       "      <td>3</td>\n",
       "      <td>2</td>\n",
       "      <td>16.908842</td>\n",
       "      <td>7.316289</td>\n",
       "      <td>10.483170</td>\n",
       "      <td>2.747753</td>\n",
       "      <td>...</td>\n",
       "      <td>62.537307</td>\n",
       "      <td>1610.132465</td>\n",
       "      <td>47</td>\n",
       "      <td>52</td>\n",
       "      <td>1.584507</td>\n",
       "      <td>1.476898</td>\n",
       "      <td>0.453279</td>\n",
       "      <td>1.276094</td>\n",
       "      <td>0.328499</td>\n",
       "      <td>0.917118</td>\n",
       "    </tr>\n",
       "  </tbody>\n",
       "</table>\n",
       "<p>3 rows × 194 columns</p>\n",
       "</div>"
      ],
      "text/plain": [
       "   country  country_name         region ctryalp  CAT_GCR1  CAT_GCR2  \\\n",
       "0        1           USA  North America      US         5         3   \n",
       "1       20         Egypt         Africa      EG         3         2   \n",
       "2       27  South Africa         Africa      ZA         3         2   \n",
       "\n",
       "    Bstart17   Bjobst17   Ownmge17  Busang17  ...   TEAexpwk      BAFUNDUS  \\\n",
       "0  16.484463   8.929930  19.643626  6.740430  ...  86.441637  20243.118280   \n",
       "1  30.558540  21.104014  16.698833  3.766109  ...  30.520236   5090.341288   \n",
       "2  16.908842   7.316289  10.483170  2.747753  ...  62.537307   1610.132465   \n",
       "\n",
       "   COUNTBAF  COUNTBUS  BUSANGVL  BUSANGVLWT  IPACTLD_ALL  IPACTLD_EMP  \\\n",
       "0        93        95  5.230596    5.257400     7.587636    10.977426   \n",
       "1        88        88  3.490678    3.549859     2.176354     4.434803   \n",
       "2        47        52  1.584507    1.476898     0.453279     1.276094   \n",
       "\n",
       "   IPACTLDNOW_ALL  IPACTLDNOW_EMP  \n",
       "0        6.341433        9.174480  \n",
       "1        1.695146        3.454236  \n",
       "2        0.328499        0.917118  \n",
       "\n",
       "[3 rows x 194 columns]"
      ]
     },
     "execution_count": 4,
     "metadata": {},
     "output_type": "execute_result"
    }
   ],
   "source": [
    "df.head(3)"
   ]
  },
  {
   "cell_type": "code",
   "execution_count": 5,
   "metadata": {
    "collapsed": true
   },
   "outputs": [
    {
     "data": {
      "text/plain": [
       "['country',\n",
       " 'country_name',\n",
       " 'region',\n",
       " 'ctryalp',\n",
       " 'CAT_GCR1',\n",
       " 'CAT_GCR2',\n",
       " 'Bstart17',\n",
       " 'Bjobst17',\n",
       " 'Ownmge17',\n",
       " 'Busang17',\n",
       " 'Futsup17',\n",
       " 'Disent17',\n",
       " 'Exitct17',\n",
       " 'Knoent17',\n",
       " 'Opport17',\n",
       " 'Suskil17',\n",
       " 'Frfail17',\n",
       " 'Knoen17m',\n",
       " 'Knoen17f',\n",
       " 'Oppor17m',\n",
       " 'Oppor17f',\n",
       " 'Suskl17m',\n",
       " 'Suskl17f',\n",
       " 'Ffail17m',\n",
       " 'Ffail17f',\n",
       " 'Equali17',\n",
       " 'NBgood17',\n",
       " 'NBstat17',\n",
       " 'NBmedi17',\n",
       " 'Sub17',\n",
       " 'Subo17',\n",
       " 'Suboa17',\n",
       " 'Suboan17',\n",
       " 'Babybu17',\n",
       " 'Estbbu17',\n",
       " 'Anybus17',\n",
       " 'BO_17ina',\n",
       " 'BO_17exa',\n",
       " 'TEA17',\n",
       " 'TEA17mal',\n",
       " 'TEA17fem',\n",
       " 'EB_17mal',\n",
       " 'EB_17fem',\n",
       " 'TEA17opp',\n",
       " 'TEA17nec',\n",
       " 'TEA17mop',\n",
       " 'TEA17fop',\n",
       " 'TEA17mne',\n",
       " 'TEA17fne',\n",
       " 'TEA17ido',\n",
       " 'TEA17MT1',\n",
       " 'TEA17MT2',\n",
       " 'TEA17MT3',\n",
       " 'TEA17MT4',\n",
       " 'SUBOPP17',\n",
       " 'SUBNEC17',\n",
       " 'Sample17',\n",
       " 'SU_ct17',\n",
       " 'BB_ct17',\n",
       " 'EB_ct17',\n",
       " 'TEAct17',\n",
       " 'BA_ct17',\n",
       " 'DISCct17',\n",
       " 'SU_17tmz',\n",
       " 'BB_17tmz',\n",
       " 'EB_17tmz',\n",
       " 'TEA17tmz',\n",
       " 'Tea17s1p',\n",
       " 'Tea17s2p',\n",
       " 'Tea17s3p',\n",
       " 'Tea17s4p',\n",
       " 'EB_17s1p',\n",
       " 'EB_17s2p',\n",
       " 'EB_17s3p',\n",
       " 'EB_17s4p',\n",
       " 'TEA17mk1',\n",
       " 'TEA17mk2',\n",
       " 'TEA17mk3',\n",
       " 'TEA17mk4',\n",
       " 'EB_17mk1',\n",
       " 'EB_17mk2',\n",
       " 'EB_17mk3',\n",
       " 'EB_17mk4',\n",
       " 'TEA17HIX',\n",
       " 'EB_17HIX',\n",
       " 'SU_17e1p',\n",
       " 'SU_17e2p',\n",
       " 'SU_17e3p',\n",
       " 'SU_17e4p',\n",
       " 'Tea17e1p',\n",
       " 'Tea17e2p',\n",
       " 'Tea17e3p',\n",
       " 'Tea17e4p',\n",
       " 'EB_17e1p',\n",
       " 'EB_17e2p',\n",
       " 'EB_17e3p',\n",
       " 'EB_17e4p',\n",
       " 'AN17ye1p',\n",
       " 'AN17ye2p',\n",
       " 'AN17ye3p',\n",
       " 'AN17ye4p',\n",
       " 'TEA17EMP',\n",
       " 'TEA17HJG',\n",
       " 'TEA17job',\n",
       " 'EB_17job',\n",
       " 'TEA17npm',\n",
       " 'EB_17npm',\n",
       " 'TEA17tec',\n",
       " 'EB_17tec',\n",
       " 'Tea17cs1',\n",
       " 'Tea17cs2',\n",
       " 'Tea17cs3',\n",
       " 'EB_17cs1',\n",
       " 'EB_17cs2',\n",
       " 'EB_17cs3',\n",
       " 'Tea17cm1',\n",
       " 'Tea17cm2',\n",
       " 'Tea17cm3',\n",
       " 'EB_17cm1',\n",
       " 'EB_17cm2',\n",
       " 'EB_17cm3',\n",
       " 'Tea17nt1',\n",
       " 'Tea17nt2',\n",
       " 'Tea17nt3',\n",
       " 'EB_17nt1',\n",
       " 'EB_17nt2',\n",
       " 'EB_17nt3',\n",
       " 'Tea17ac1',\n",
       " 'Tea17ac2',\n",
       " 'Tea17ac3',\n",
       " 'Tea17ac4',\n",
       " 'Tea17ac5',\n",
       " 'EB_17ac1',\n",
       " 'EB_17ac2',\n",
       " 'EB_17ac3',\n",
       " 'EB_17ac4',\n",
       " 'EB_17ac5',\n",
       " 'Tea17ap1',\n",
       " 'Tea17ap2',\n",
       " 'Tea17ap3',\n",
       " 'Tea17ap4',\n",
       " 'Tea17ap5',\n",
       " 'EB_17ap1',\n",
       " 'EB_17ap2',\n",
       " 'EB_17ap3',\n",
       " 'EB_17ap4',\n",
       " 'EB_17ap5',\n",
       " 'Tea17WS1',\n",
       " 'Tea17WS2',\n",
       " 'Tea17WS3',\n",
       " 'TEA17ed1',\n",
       " 'TEA17ed2',\n",
       " 'TEA17ed3',\n",
       " 'TEA17ed4',\n",
       " 'EB_17ed1',\n",
       " 'EB_17ed2',\n",
       " 'EB_17ed3',\n",
       " 'EB_17ed4',\n",
       " 'TEAEDHI',\n",
       " 'TEA17hi1',\n",
       " 'TEA17hi2',\n",
       " 'TEA17hi3',\n",
       " 'EB_17hi1',\n",
       " 'EB_17hi2',\n",
       " 'EB_17hi3',\n",
       " 'TEA17op1',\n",
       " 'TEA17op2',\n",
       " 'TEA17op3',\n",
       " 'TEA17op4',\n",
       " 'EX17_RS1',\n",
       " 'EX17_RS2',\n",
       " 'EX17_RS3',\n",
       " 'EX17_RS4',\n",
       " 'EX17_RS5',\n",
       " 'EX17_RS6',\n",
       " 'EX17_RS7',\n",
       " 'EX17_RS8',\n",
       " 'EX17_RS11',\n",
       " 'TEAnec_p',\n",
       " 'TEAopp_p',\n",
       " 'TEAjobex',\n",
       " 'TEAnewpr',\n",
       " 'TEAnewmk',\n",
       " 'TEAexpst',\n",
       " 'TEAexpwk',\n",
       " 'BAFUNDUS',\n",
       " 'COUNTBAF',\n",
       " 'COUNTBUS',\n",
       " 'BUSANGVL',\n",
       " 'BUSANGVLWT',\n",
       " 'IPACTLD_ALL',\n",
       " 'IPACTLD_EMP',\n",
       " 'IPACTLDNOW_ALL',\n",
       " 'IPACTLDNOW_EMP']"
      ]
     },
     "execution_count": 5,
     "metadata": {},
     "output_type": "execute_result"
    }
   ],
   "source": [
    "list(df.columns)"
   ]
  },
  {
   "cell_type": "code",
   "execution_count": 6,
   "metadata": {},
   "outputs": [],
   "source": [
    "selected_cols = ['Oppor17m', 'Oppor17f', 'Suskl17m', 'Suskl17f', 'Ffail17m', 'Ffail17f']"
   ]
  },
  {
   "cell_type": "code",
   "execution_count": 7,
   "metadata": {},
   "outputs": [],
   "source": [
    "# TEA_cols = ['TEA17mal']"
   ]
  },
  {
   "cell_type": "markdown",
   "metadata": {},
   "source": [
    "`CAT_GCR1` is Country Group Global Competitiveness Report 5 categories, where countries with higher score are also in catgeory 5."
   ]
  },
  {
   "cell_type": "code",
   "execution_count": 8,
   "metadata": {},
   "outputs": [
    {
     "name": "stdout",
     "output_type": "stream",
     "text": [
      "1 ['India', 'Madagascar']\n",
      "2 ['Vietnam', 'Kazakhstan']\n",
      "3 ['Egypt', 'South Africa', 'Peru', 'Mexico', 'Brazil', 'Colombia', 'Indonesia', 'Thailand', 'China', 'Iran', 'Morocco', 'Bulgaria', 'Bosnia and Herzegovina', 'Guatemala', 'Ecuador']\n",
      "4 ['Poland', 'Argentina', 'Chile', 'Malaysia', 'Latvia', 'Croatia', 'Slovakia', 'Panama', 'Uruguay', 'Lebanon', 'Saudi Arabia']\n",
      "5 ['USA', 'Greece', 'Netherlands', 'France', 'Spain', 'Italy', 'Switzerland', 'United Kingdom', 'Sweden', 'Germany', 'Australia', 'Japan', 'Korea', 'Canada', 'Luxembourg', 'Ireland', 'Cyprus', 'Estonia', 'Slovenia', 'Puerto Rico', 'Taiwan', 'United Arab Emirates', 'Israel', 'Qatar']\n"
     ]
    }
   ],
   "source": [
    "for i in range(1,6):\n",
    "    print(i, list(df[df['CAT_GCR1']==i]['country_name']))"
   ]
  },
  {
   "cell_type": "markdown",
   "metadata": {},
   "source": [
    "`region` is a column I manually added for analysis purpose.\n",
    "\n",
    "Australia and Sweden is grouped in `Western Europe`, Mexico is grouped along with Central American countries to `South America`, Kazakhstan and India are not in a group name because there is only one country in their region, and China is also singled out because it has a different sociopolitical structure than rest of East Asia and also because it has a much lower GCR."
   ]
  },
  {
   "cell_type": "code",
   "execution_count": 20,
   "metadata": {},
   "outputs": [
    {
     "data": {
      "text/plain": [
       "South America      11\n",
       "Western Europe      9\n",
       "Eastern Europe      8\n",
       "Middle East         7\n",
       "Southeast Asia      4\n",
       "Africa              4\n",
       "Southern Europe     3\n",
       "East Asia           3\n",
       "North America       2\n",
       "China               1\n",
       "Kazakhstan          1\n",
       "India               1\n",
       "Name: region, dtype: int64"
      ]
     },
     "execution_count": 20,
     "metadata": {},
     "output_type": "execute_result"
    }
   ],
   "source": [
    "df['region'].value_counts()"
   ]
  },
  {
   "cell_type": "code",
   "execution_count": null,
   "metadata": {},
   "outputs": [],
   "source": []
  },
  {
   "cell_type": "code",
   "execution_count": 9,
   "metadata": {},
   "outputs": [],
   "source": [
    "selected_df = df[['country_name', 'region', 'CAT_GCR1'] + selected_cols]"
   ]
  },
  {
   "cell_type": "code",
   "execution_count": null,
   "metadata": {},
   "outputs": [],
   "source": []
  },
  {
   "cell_type": "markdown",
   "metadata": {},
   "source": [
    "## by Global Competitiveness Report"
   ]
  },
  {
   "cell_type": "code",
   "execution_count": 10,
   "metadata": {
    "collapsed": true
   },
   "outputs": [
    {
     "data": {
      "text/html": [
       "<div>\n",
       "<style scoped>\n",
       "    .dataframe tbody tr th:only-of-type {\n",
       "        vertical-align: middle;\n",
       "    }\n",
       "\n",
       "    .dataframe tbody tr th {\n",
       "        vertical-align: top;\n",
       "    }\n",
       "\n",
       "    .dataframe thead th {\n",
       "        text-align: right;\n",
       "    }\n",
       "</style>\n",
       "<table border=\"1\" class=\"dataframe\">\n",
       "  <thead>\n",
       "    <tr style=\"text-align: right;\">\n",
       "      <th></th>\n",
       "      <th>Oppor17m</th>\n",
       "      <th>Oppor17f</th>\n",
       "      <th>Suskl17m</th>\n",
       "      <th>Suskl17f</th>\n",
       "      <th>Ffail17m</th>\n",
       "      <th>Ffail17f</th>\n",
       "    </tr>\n",
       "    <tr>\n",
       "      <th>CAT_GCR1</th>\n",
       "      <th></th>\n",
       "      <th></th>\n",
       "      <th></th>\n",
       "      <th></th>\n",
       "      <th></th>\n",
       "      <th></th>\n",
       "    </tr>\n",
       "  </thead>\n",
       "  <tbody>\n",
       "    <tr>\n",
       "      <th>1</th>\n",
       "      <td>36.822515</td>\n",
       "      <td>32.297805</td>\n",
       "      <td>51.648594</td>\n",
       "      <td>45.582274</td>\n",
       "      <td>39.239930</td>\n",
       "      <td>35.485326</td>\n",
       "    </tr>\n",
       "    <tr>\n",
       "      <th>2</th>\n",
       "      <td>46.808634</td>\n",
       "      <td>49.831350</td>\n",
       "      <td>59.488301</td>\n",
       "      <td>58.276190</td>\n",
       "      <td>36.933558</td>\n",
       "      <td>37.376995</td>\n",
       "    </tr>\n",
       "    <tr>\n",
       "      <th>3</th>\n",
       "      <td>43.305460</td>\n",
       "      <td>39.130800</td>\n",
       "      <td>57.427330</td>\n",
       "      <td>46.308748</td>\n",
       "      <td>35.885384</td>\n",
       "      <td>42.794266</td>\n",
       "    </tr>\n",
       "    <tr>\n",
       "      <th>4</th>\n",
       "      <td>48.504685</td>\n",
       "      <td>45.839482</td>\n",
       "      <td>60.630291</td>\n",
       "      <td>50.961613</td>\n",
       "      <td>35.458761</td>\n",
       "      <td>42.099101</td>\n",
       "    </tr>\n",
       "    <tr>\n",
       "      <th>5</th>\n",
       "      <td>46.079694</td>\n",
       "      <td>40.885667</td>\n",
       "      <td>49.593656</td>\n",
       "      <td>36.294615</td>\n",
       "      <td>40.227262</td>\n",
       "      <td>46.198011</td>\n",
       "    </tr>\n",
       "  </tbody>\n",
       "</table>\n",
       "</div>"
      ],
      "text/plain": [
       "           Oppor17m   Oppor17f   Suskl17m   Suskl17f   Ffail17m   Ffail17f\n",
       "CAT_GCR1                                                                  \n",
       "1         36.822515  32.297805  51.648594  45.582274  39.239930  35.485326\n",
       "2         46.808634  49.831350  59.488301  58.276190  36.933558  37.376995\n",
       "3         43.305460  39.130800  57.427330  46.308748  35.885384  42.794266\n",
       "4         48.504685  45.839482  60.630291  50.961613  35.458761  42.099101\n",
       "5         46.079694  40.885667  49.593656  36.294615  40.227262  46.198011"
      ]
     },
     "execution_count": 10,
     "metadata": {},
     "output_type": "execute_result"
    }
   ],
   "source": [
    "selected_groupby = selected_df.groupby('CAT_GCR1').mean()\n",
    "selected_groupby"
   ]
  },
  {
   "cell_type": "code",
   "execution_count": 12,
   "metadata": {},
   "outputs": [
    {
     "data": {
      "image/png": "[encoded data removed]",
      "text/plain": [
       "<Figure size 432x288 with 1 Axes>"
      ]
     },
     "metadata": {
      "needs_background": "light"
     },
     "output_type": "display_data"
    }
   ],
   "source": [
    "OPPOR_cols = ['Oppor17m', 'Oppor17f']\n",
    "plt.plot(selected_groupby[OPPOR_cols])\n",
    "plt.legend(OPPOR_cols)\n",
    "plt.xticks(np.arange(1,6))\n",
    "plt.show()"
   ]
  },
  {
   "cell_type": "code",
   "execution_count": 26,
   "metadata": {},
   "outputs": [
    {
     "data": {
      "image/png": "[encoded data removed]",
      "text/plain": [
       "<Figure size 432x288 with 1 Axes>"
      ]
     },
     "metadata": {
      "needs_background": "light"
     },
     "output_type": "display_data"
    }
   ],
   "source": [
    "SUSKLL_cols = ['Suskl17m', 'Suskl17f']\n",
    "plt.plot(selected_groupby[SUSKLL_cols])\n",
    "plt.legend(SUSKLL_cols)\n",
    "plt.xticks(np.arange(1,6))\n",
    "plt.show()"
   ]
  },
  {
   "cell_type": "code",
   "execution_count": 14,
   "metadata": {},
   "outputs": [
    {
     "data": {
      "image/png": "[encoded data removed]",
      "text/plain": [
       "<Figure size 432x288 with 1 Axes>"
      ]
     },
     "metadata": {
      "needs_background": "light"
     },
     "output_type": "display_data"
    }
   ],
   "source": [
    "FFAIL_cols = ['Ffail17m', 'Ffail17f']\n",
    "plt.plot(selected_groupby[FFAIL_cols])\n",
    "plt.legend(FFAIL_cols)\n",
    "plt.xticks(np.arange(1,6))\n",
    "plt.show()"
   ]
  },
  {
   "cell_type": "code",
   "execution_count": null,
   "metadata": {},
   "outputs": [],
   "source": []
  },
  {
   "cell_type": "markdown",
   "metadata": {},
   "source": [
    "## by region"
   ]
  },
  {
   "cell_type": "code",
   "execution_count": 15,
   "metadata": {},
   "outputs": [
    {
     "data": {
      "text/html": [
       "<div>\n",
       "<style scoped>\n",
       "    .dataframe tbody tr th:only-of-type {\n",
       "        vertical-align: middle;\n",
       "    }\n",
       "\n",
       "    .dataframe tbody tr th {\n",
       "        vertical-align: top;\n",
       "    }\n",
       "\n",
       "    .dataframe thead th {\n",
       "        text-align: right;\n",
       "    }\n",
       "</style>\n",
       "<table border=\"1\" class=\"dataframe\">\n",
       "  <thead>\n",
       "    <tr style=\"text-align: right;\">\n",
       "      <th></th>\n",
       "      <th>CAT_GCR1</th>\n",
       "      <th>Oppor17m</th>\n",
       "      <th>Oppor17f</th>\n",
       "      <th>Suskl17m</th>\n",
       "      <th>Suskl17f</th>\n",
       "      <th>Ffail17m</th>\n",
       "      <th>Ffail17f</th>\n",
       "    </tr>\n",
       "    <tr>\n",
       "      <th>region</th>\n",
       "      <th></th>\n",
       "      <th></th>\n",
       "      <th></th>\n",
       "      <th></th>\n",
       "      <th></th>\n",
       "      <th></th>\n",
       "      <th></th>\n",
       "    </tr>\n",
       "  </thead>\n",
       "  <tbody>\n",
       "    <tr>\n",
       "      <th>India</th>\n",
       "      <td>1.000000</td>\n",
       "      <td>48.162672</td>\n",
       "      <td>41.295490</td>\n",
       "      <td>47.582741</td>\n",
       "      <td>36.050157</td>\n",
       "      <td>36.094271</td>\n",
       "      <td>32.881278</td>\n",
       "    </tr>\n",
       "    <tr>\n",
       "      <th>Kazakhstan</th>\n",
       "      <td>2.000000</td>\n",
       "      <td>47.047797</td>\n",
       "      <td>53.416788</td>\n",
       "      <td>65.763087</td>\n",
       "      <td>63.697818</td>\n",
       "      <td>20.353223</td>\n",
       "      <td>18.590413</td>\n",
       "    </tr>\n",
       "    <tr>\n",
       "      <th>Africa</th>\n",
       "      <td>2.500000</td>\n",
       "      <td>41.302195</td>\n",
       "      <td>32.900257</td>\n",
       "      <td>55.611339</td>\n",
       "      <td>40.192160</td>\n",
       "      <td>38.321643</td>\n",
       "      <td>42.803371</td>\n",
       "    </tr>\n",
       "    <tr>\n",
       "      <th>China</th>\n",
       "      <td>3.000000</td>\n",
       "      <td>35.695696</td>\n",
       "      <td>34.694300</td>\n",
       "      <td>29.704145</td>\n",
       "      <td>24.706594</td>\n",
       "      <td>38.104153</td>\n",
       "      <td>43.324896</td>\n",
       "    </tr>\n",
       "    <tr>\n",
       "      <th>Southeast Asia</th>\n",
       "      <td>3.000000</td>\n",
       "      <td>47.716812</td>\n",
       "      <td>46.437609</td>\n",
       "      <td>53.303245</td>\n",
       "      <td>49.325222</td>\n",
       "      <td>51.037431</td>\n",
       "      <td>54.725045</td>\n",
       "    </tr>\n",
       "    <tr>\n",
       "      <th>South America</th>\n",
       "      <td>3.545455</td>\n",
       "      <td>46.750714</td>\n",
       "      <td>43.197425</td>\n",
       "      <td>63.402400</td>\n",
       "      <td>54.490280</td>\n",
       "      <td>29.803285</td>\n",
       "      <td>36.368914</td>\n",
       "    </tr>\n",
       "    <tr>\n",
       "      <th>Eastern Europe</th>\n",
       "      <td>4.000000</td>\n",
       "      <td>38.071325</td>\n",
       "      <td>35.148385</td>\n",
       "      <td>52.853196</td>\n",
       "      <td>41.581828</td>\n",
       "      <td>36.128498</td>\n",
       "      <td>44.527143</td>\n",
       "    </tr>\n",
       "    <tr>\n",
       "      <th>Middle East</th>\n",
       "      <td>4.428571</td>\n",
       "      <td>52.305016</td>\n",
       "      <td>52.246701</td>\n",
       "      <td>61.057729</td>\n",
       "      <td>51.553248</td>\n",
       "      <td>44.201991</td>\n",
       "      <td>47.847472</td>\n",
       "    </tr>\n",
       "    <tr>\n",
       "      <th>East Asia</th>\n",
       "      <td>5.000000</td>\n",
       "      <td>23.605931</td>\n",
       "      <td>22.555996</td>\n",
       "      <td>34.436228</td>\n",
       "      <td>20.452024</td>\n",
       "      <td>38.249743</td>\n",
       "      <td>40.906831</td>\n",
       "    </tr>\n",
       "    <tr>\n",
       "      <th>North America</th>\n",
       "      <td>5.000000</td>\n",
       "      <td>66.065592</td>\n",
       "      <td>57.678024</td>\n",
       "      <td>62.609744</td>\n",
       "      <td>47.408579</td>\n",
       "      <td>37.053890</td>\n",
       "      <td>44.490370</td>\n",
       "    </tr>\n",
       "    <tr>\n",
       "      <th>Southern Europe</th>\n",
       "      <td>5.000000</td>\n",
       "      <td>27.679367</td>\n",
       "      <td>21.771573</td>\n",
       "      <td>44.527095</td>\n",
       "      <td>34.535183</td>\n",
       "      <td>51.591884</td>\n",
       "      <td>58.303244</td>\n",
       "    </tr>\n",
       "    <tr>\n",
       "      <th>Western Europe</th>\n",
       "      <td>5.000000</td>\n",
       "      <td>55.375062</td>\n",
       "      <td>46.614237</td>\n",
       "      <td>50.265651</td>\n",
       "      <td>33.197038</td>\n",
       "      <td>36.025528</td>\n",
       "      <td>44.083588</td>\n",
       "    </tr>\n",
       "  </tbody>\n",
       "</table>\n",
       "</div>"
      ],
      "text/plain": [
       "                 CAT_GCR1   Oppor17m   Oppor17f   Suskl17m   Suskl17f  \\\n",
       "region                                                                  \n",
       "India            1.000000  48.162672  41.295490  47.582741  36.050157   \n",
       "Kazakhstan       2.000000  47.047797  53.416788  65.763087  63.697818   \n",
       "Africa           2.500000  41.302195  32.900257  55.611339  40.192160   \n",
       "China            3.000000  35.695696  34.694300  29.704145  24.706594   \n",
       "Southeast Asia   3.000000  47.716812  46.437609  53.303245  49.325222   \n",
       "South America    3.545455  46.750714  43.197425  63.402400  54.490280   \n",
       "Eastern Europe   4.000000  38.071325  35.148385  52.853196  41.581828   \n",
       "Middle East      4.428571  52.305016  52.246701  61.057729  51.553248   \n",
       "East Asia        5.000000  23.605931  22.555996  34.436228  20.452024   \n",
       "North America    5.000000  66.065592  57.678024  62.609744  47.408579   \n",
       "Southern Europe  5.000000  27.679367  21.771573  44.527095  34.535183   \n",
       "Western Europe   5.000000  55.375062  46.614237  50.265651  33.197038   \n",
       "\n",
       "                  Ffail17m   Ffail17f  \n",
       "region                                 \n",
       "India            36.094271  32.881278  \n",
       "Kazakhstan       20.353223  18.590413  \n",
       "Africa           38.321643  42.803371  \n",
       "China            38.104153  43.324896  \n",
       "Southeast Asia   51.037431  54.725045  \n",
       "South America    29.803285  36.368914  \n",
       "Eastern Europe   36.128498  44.527143  \n",
       "Middle East      44.201991  47.847472  \n",
       "East Asia        38.249743  40.906831  \n",
       "North America    37.053890  44.490370  \n",
       "Southern Europe  51.591884  58.303244  \n",
       "Western Europe   36.025528  44.083588  "
      ]
     },
     "execution_count": 15,
     "metadata": {},
     "output_type": "execute_result"
    }
   ],
   "source": [
    "selected_groupby_region = selected_df.groupby('region').mean().sort_values(by='CAT_GCR1')\n",
    "selected_groupby_region"
   ]
  },
  {
   "cell_type": "code",
   "execution_count": 16,
   "metadata": {},
   "outputs": [
    {
     "data": {
      "image/png": "[encoded data removed]",
      "text/plain": [
       "<Figure size 432x288 with 1 Axes>"
      ]
     },
     "metadata": {
      "needs_background": "light"
     },
     "output_type": "display_data"
    }
   ],
   "source": [
    "OPPOR_cols = ['Oppor17m', 'Oppor17f']\n",
    "plt.plot(selected_groupby_region[OPPOR_cols])\n",
    "plt.legend(OPPOR_cols)\n",
    "plt.xticks(rotation=90)\n",
    "plt.show()"
   ]
  },
  {
   "cell_type": "code",
   "execution_count": 18,
   "metadata": {},
   "outputs": [
    {
     "data": {
      "image/png": "[encoded data removed]",
      "text/plain": [
       "<Figure size 432x288 with 1 Axes>"
      ]
     },
     "metadata": {
      "needs_background": "light"
     },
     "output_type": "display_data"
    }
   ],
   "source": [
    "SUSKLL_cols = ['Suskl17m', 'Suskl17f']\n",
    "plt.plot(selected_groupby_region[SUSKLL_cols])\n",
    "plt.legend(SUSKLL_cols)\n",
    "plt.xticks(rotation=90)\n",
    "plt.show()"
   ]
  },
  {
   "cell_type": "code",
   "execution_count": 19,
   "metadata": {},
   "outputs": [
    {
     "data": {
      "image/png": "[encoded data removed]",
      "text/plain": [
       "<Figure size 432x288 with 1 Axes>"
      ]
     },
     "metadata": {
      "needs_background": "light"
     },
     "output_type": "display_data"
    }
   ],
   "source": [
    "FFAIL_cols = ['Ffail17m', 'Ffail17f']\n",
    "plt.plot(selected_groupby_region[FFAIL_cols])\n",
    "plt.legend(FFAIL_cols)\n",
    "plt.xticks(rotation=90)\n",
    "plt.show()"
   ]
  },
  {
   "cell_type": "code",
   "execution_count": null,
   "metadata": {},
   "outputs": [],
   "source": []
  },
  {
   "cell_type": "code",
   "execution_count": null,
   "metadata": {},
   "outputs": [],
   "source": []
  },
  {
   "cell_type": "code",
   "execution_count": null,
   "metadata": {},
   "outputs": [],
   "source": []
  }
 ],
 "metadata": {
  "kernelspec": {
   "display_name": "Python 3",
   "language": "python",
   "name": "python3"
  },
  "language_info": {
   "codemirror_mode": {
    "name": "ipython",
    "version": 3
   },
   "file_extension": ".py",
   "mimetype": "text/x-python",
   "name": "python",
   "nbconvert_exporter": "python",
   "pygments_lexer": "ipython3",
   "version": "3.8.5"
  }
 },
 "nbformat": 4,
 "nbformat_minor": 4
}
