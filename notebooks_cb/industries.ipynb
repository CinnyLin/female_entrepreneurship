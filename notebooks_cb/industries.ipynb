{
 "cells": [
  {
   "cell_type": "markdown",
   "metadata": {},
   "source": [
    "### Top Industries"
   ]
  },
  {
   "cell_type": "markdown",
   "metadata": {},
   "source": [
    "** for the top 20 industries, see the females, and see how the men still take up a lot of it when its female top; and for male, show how when its male-dominant female is barely present"
   ]
  },
  {
   "cell_type": "code",
   "execution_count": 1,
   "metadata": {},
   "outputs": [],
   "source": [
    "import pandas as pd"
   ]
  },
  {
   "cell_type": "code",
   "execution_count": 2,
   "metadata": {},
   "outputs": [],
   "source": [
    "n = 20\n",
    "regions = ['US', 'EU', 'Europe', 'China']\n",
    "\n",
    "df_industries = pd.DataFrame()\n",
    "df_industries['region'] = regions\n",
    "\n",
    "by_industry_group = ['industry_groups', 'industries']\n",
    "\n",
    "for big in by_industry_group:\n",
    "        \n",
    "        # initiate containers\n",
    "        # top_n\n",
    "        top_n_female_data = []\n",
    "        top_n_not_female_data = []\n",
    "        # diff\n",
    "        female_diff_data = [] # female-male\n",
    "        not_female_diff_data = [] # male-female\n",
    "        \n",
    "        # read data\n",
    "        for region in regions:\n",
    "    \n",
    "            df1 = pd.read_csv(f'../data/crunchbase-aggregated/{region}-{big}_equal.csv')\n",
    "            df2 = pd.read_csv(f'../data/crunchbase-aggregated/{region}-{big}.csv').round(2)\n",
    "            \n",
    "            # merge\n",
    "            df = df1.merge(df2, on='industry', suffixes=('', '_full'))[\n",
    "                ['industry', '#female_co', '#not_female_co', '#companies_full', '%not_female_full']]\n",
    "            \n",
    "            # extract info\n",
    "            top_n_female = list(df.sort_values(by=['#female_co'], ascending=False)[:n]['industry'])\n",
    "            top_n_female_p = list(df.sort_values(by=['#female_co'], ascending=False)[:n]['%not_female_full'])\n",
    "            top_n_not_female = list(df.sort_values(by=['#not_female_co'], ascending=False)[:n]['industry'])\n",
    "            top_n_not_female_p = list(df.sort_values(by=['#not_female_co'], ascending=False)[:n]['%not_female_full'])\n",
    "            \n",
    "            # create dict\n",
    "            female_dict = dict(zip(top_n_female, top_n_female_p))\n",
    "            not_female_dict = dict(zip(top_n_not_female, top_n_not_female_p))\n",
    "            \n",
    "            # get diff\n",
    "            female_diff = female_dict.items() - not_female_dict.items()\n",
    "            not_female_diff = not_female_dict.items() - female_dict.items()\n",
    "            \n",
    "            # record data\n",
    "            top_n_female_data.append(female_dict)\n",
    "            top_n_not_female_data.append(not_female_dict)\n",
    "            female_diff_data.append(female_diff)\n",
    "            not_female_diff_data.append(not_female_diff)\n",
    "            \n",
    "        # add data to df\n",
    "        if (big=='industries'):\n",
    "            df_industries['top_n_female'] = top_n_female_data\n",
    "            df_industries['top_n_not_female'] = top_n_not_female_data\n",
    "            df_industries['female_diff'] = female_diff_data\n",
    "            df_industries['not_female_diff'] = not_female_diff_data\n",
    "\n",
    "        elif (big=='industry_groups'):\n",
    "            df_industries['top_n_female_group'] = top_n_female_data\n",
    "            df_industries['top_n_not_female_group'] = top_n_not_female_data\n",
    "            df_industries['female_diff_group'] = female_diff_data\n",
    "            df_industries['not_female_diff_group'] = not_female_diff_data"
   ]
  },
  {
   "cell_type": "code",
   "execution_count": null,
   "metadata": {},
   "outputs": [],
   "source": []
  },
  {
   "cell_type": "code",
   "execution_count": 2,
   "metadata": {},
   "outputs": [],
   "source": [
    "region='US'\n",
    "big='industries'\n",
    "df = pd.read_csv(f'../data/crunchbase-aggregated/{region}-{big}.csv')"
   ]
  },
  {
   "cell_type": "code",
   "execution_count": 8,
   "metadata": {},
   "outputs": [
    {
     "data": {
      "text/plain": [
       "425.0"
      ]
     },
     "execution_count": 8,
     "metadata": {},
     "output_type": "execute_result"
    }
   ],
   "source": [
    "df['#female_co'].sort_values(ascending=False)[31:].sum()"
   ]
  },
  {
   "cell_type": "code",
   "execution_count": 9,
   "metadata": {},
   "outputs": [
    {
     "data": {
      "text/plain": [
       "868.0"
      ]
     },
     "execution_count": 9,
     "metadata": {},
     "output_type": "execute_result"
    }
   ],
   "source": [
    "df['#female_co'].sum()"
   ]
  },
  {
   "cell_type": "code",
   "execution_count": 10,
   "metadata": {},
   "outputs": [
    {
     "data": {
      "text/plain": [
       "0.48963133640552997"
      ]
     },
     "execution_count": 10,
     "metadata": {},
     "output_type": "execute_result"
    }
   ],
   "source": [
    "425/868"
   ]
  },
  {
   "cell_type": "code",
   "execution_count": 12,
   "metadata": {},
   "outputs": [],
   "source": [
    "df1 = pd.read_csv(f'../data/crunchbase-aggregated/{region}-gender.csv')"
   ]
  },
  {
   "cell_type": "code",
   "execution_count": null,
   "metadata": {},
   "outputs": [],
   "source": []
  },
  {
   "cell_type": "code",
   "execution_count": 3,
   "metadata": {},
   "outputs": [
    {
     "data": {
      "text/html": [
       "<div>\n",
       "<style scoped>\n",
       "    .dataframe tbody tr th:only-of-type {\n",
       "        vertical-align: middle;\n",
       "    }\n",
       "\n",
       "    .dataframe tbody tr th {\n",
       "        vertical-align: top;\n",
       "    }\n",
       "\n",
       "    .dataframe thead th {\n",
       "        text-align: right;\n",
       "    }\n",
       "</style>\n",
       "<table border=\"1\" class=\"dataframe\">\n",
       "  <thead>\n",
       "    <tr style=\"text-align: right;\">\n",
       "      <th>region</th>\n",
       "      <th>US</th>\n",
       "      <th>EU</th>\n",
       "      <th>Europe</th>\n",
       "      <th>China</th>\n",
       "    </tr>\n",
       "  </thead>\n",
       "  <tbody>\n",
       "    <tr>\n",
       "      <th>top_n_female_group</th>\n",
       "      <td>{'Software': 81.0, 'Health Care': 73.89, 'Scie...</td>\n",
       "      <td>{'Software': 86.25, 'Internet Services': 86.21...</td>\n",
       "      <td>{'Software': 84.58, 'Internet Services': 83.89...</td>\n",
       "      <td>{'Software': 84.48, 'Hardware': 83.67, 'Media ...</td>\n",
       "    </tr>\n",
       "    <tr>\n",
       "      <th>top_n_not_female_group</th>\n",
       "      <td>{'Software': 81.0, 'Information Technology': 8...</td>\n",
       "      <td>{'Software': 86.25, 'Internet Services': 86.21...</td>\n",
       "      <td>{'Software': 84.58, 'Internet Services': 83.89...</td>\n",
       "      <td>{'Software': 84.48, 'Other': 91.67, 'Media and...</td>\n",
       "    </tr>\n",
       "    <tr>\n",
       "      <th>female_diff_group</th>\n",
       "      <td>{(Community and Lifestyle, 52.08), (Design, 70...</td>\n",
       "      <td>{(Biotechnology, 80.33), (Clothing and Apparel...</td>\n",
       "      <td>{(Advertising, 86.36), (Design, 78.26), (Real ...</td>\n",
       "      <td>{(Consumer Goods, 81.82), (Food and Beverage, ...</td>\n",
       "    </tr>\n",
       "    <tr>\n",
       "      <th>not_female_diff_group</th>\n",
       "      <td>{(Transportation, 85.71), (Consumer Electronic...</td>\n",
       "      <td>{(Transportation, 93.42), (Consumer Electronic...</td>\n",
       "      <td>{(Professional Services, 92.59), (Community an...</td>\n",
       "      <td>{(Sales and Marketing, 92.75), (Content and Pu...</td>\n",
       "    </tr>\n",
       "    <tr>\n",
       "      <th>top_n_female</th>\n",
       "      <td>{'Software': 80.74, 'Health Care': 75.0, 'Biot...</td>\n",
       "      <td>{'Software': 88.12, 'Health Care': 76.14, 'E-C...</td>\n",
       "      <td>{'Software': 87.36, 'Health Care': 81.48, 'E-C...</td>\n",
       "      <td>{'Artificial Intelligence': 71.15, 'E-Commerce...</td>\n",
       "    </tr>\n",
       "    <tr>\n",
       "      <th>top_n_not_female</th>\n",
       "      <td>{'Software': 80.74, 'Information Technology': ...</td>\n",
       "      <td>{'Software': 88.12, 'Information Technology': ...</td>\n",
       "      <td>{'Software': 87.36, 'Information Technology': ...</td>\n",
       "      <td>{'E-Commerce': 87.1, 'Consumer': 87.5, 'Intern...</td>\n",
       "    </tr>\n",
       "    <tr>\n",
       "      <th>female_diff</th>\n",
       "      <td>{(Advertising, 79.07), (Wellness, 55.0), (Medi...</td>\n",
       "      <td>{(Biotechnology, 76.92), (Medical, 69.57), (Ph...</td>\n",
       "      <td>{(Mobile Apps, 69.57), (Fashion, 58.82), (Bloc...</td>\n",
       "      <td>{(Video, 70.0), (Medical, 90.77), (Consumer Go...</td>\n",
       "    </tr>\n",
       "    <tr>\n",
       "      <th>not_female_diff</th>\n",
       "      <td>{(Machine Learning, 83.64), (Pharmaceutical, 8...</td>\n",
       "      <td>{(Sports, 87.5), (FinTech, 91.84), (Financial ...</td>\n",
       "      <td>{(Payments, 86.67), (Marketing, 91.11), (Analy...</td>\n",
       "      <td>{(Retail, 87.5), (Hardware, 94.59), (Automotiv...</td>\n",
       "    </tr>\n",
       "  </tbody>\n",
       "</table>\n",
       "</div>"
      ],
      "text/plain": [
       "region                                                                 US  \\\n",
       "top_n_female_group      {'Software': 81.0, 'Health Care': 73.89, 'Scie...   \n",
       "top_n_not_female_group  {'Software': 81.0, 'Information Technology': 8...   \n",
       "female_diff_group       {(Community and Lifestyle, 52.08), (Design, 70...   \n",
       "not_female_diff_group   {(Transportation, 85.71), (Consumer Electronic...   \n",
       "top_n_female            {'Software': 80.74, 'Health Care': 75.0, 'Biot...   \n",
       "top_n_not_female        {'Software': 80.74, 'Information Technology': ...   \n",
       "female_diff             {(Advertising, 79.07), (Wellness, 55.0), (Medi...   \n",
       "not_female_diff         {(Machine Learning, 83.64), (Pharmaceutical, 8...   \n",
       "\n",
       "region                                                                 EU  \\\n",
       "top_n_female_group      {'Software': 86.25, 'Internet Services': 86.21...   \n",
       "top_n_not_female_group  {'Software': 86.25, 'Internet Services': 86.21...   \n",
       "female_diff_group       {(Biotechnology, 80.33), (Clothing and Apparel...   \n",
       "not_female_diff_group   {(Transportation, 93.42), (Consumer Electronic...   \n",
       "top_n_female            {'Software': 88.12, 'Health Care': 76.14, 'E-C...   \n",
       "top_n_not_female        {'Software': 88.12, 'Information Technology': ...   \n",
       "female_diff             {(Biotechnology, 76.92), (Medical, 69.57), (Ph...   \n",
       "not_female_diff         {(Sports, 87.5), (FinTech, 91.84), (Financial ...   \n",
       "\n",
       "region                                                             Europe  \\\n",
       "top_n_female_group      {'Software': 84.58, 'Internet Services': 83.89...   \n",
       "top_n_not_female_group  {'Software': 84.58, 'Internet Services': 83.89...   \n",
       "female_diff_group       {(Advertising, 86.36), (Design, 78.26), (Real ...   \n",
       "not_female_diff_group   {(Professional Services, 92.59), (Community an...   \n",
       "top_n_female            {'Software': 87.36, 'Health Care': 81.48, 'E-C...   \n",
       "top_n_not_female        {'Software': 87.36, 'Information Technology': ...   \n",
       "female_diff             {(Mobile Apps, 69.57), (Fashion, 58.82), (Bloc...   \n",
       "not_female_diff         {(Payments, 86.67), (Marketing, 91.11), (Analy...   \n",
       "\n",
       "region                                                              China  \n",
       "top_n_female_group      {'Software': 84.48, 'Hardware': 83.67, 'Media ...  \n",
       "top_n_not_female_group  {'Software': 84.48, 'Other': 91.67, 'Media and...  \n",
       "female_diff_group       {(Consumer Goods, 81.82), (Food and Beverage, ...  \n",
       "not_female_diff_group   {(Sales and Marketing, 92.75), (Content and Pu...  \n",
       "top_n_female            {'Artificial Intelligence': 71.15, 'E-Commerce...  \n",
       "top_n_not_female        {'E-Commerce': 87.1, 'Consumer': 87.5, 'Intern...  \n",
       "female_diff             {(Video, 70.0), (Medical, 90.77), (Consumer Go...  \n",
       "not_female_diff         {(Retail, 87.5), (Hardware, 94.59), (Automotiv...  "
      ]
     },
     "execution_count": 3,
     "metadata": {},
     "output_type": "execute_result"
    }
   ],
   "source": [
    "df_industries_T = df_industries.set_index('region').transpose()\n",
    "df_industries_T"
   ]
  },
  {
   "cell_type": "code",
   "execution_count": 4,
   "metadata": {},
   "outputs": [],
   "source": [
    "# df_industries_T.to_csv(f'../data/crunchbase-aggregated/region_top_industries.csv')"
   ]
  },
  {
   "cell_type": "code",
   "execution_count": null,
   "metadata": {},
   "outputs": [],
   "source": []
  },
  {
   "cell_type": "code",
   "execution_count": 7,
   "metadata": {},
   "outputs": [
    {
     "name": "stdout",
     "output_type": "stream",
     "text": [
      "US {('Advertising', 79.07), ('Wellness', 55.0), ('Medical Device', 67.65), ('Mobile Apps', 58.33), ('Social Media', 72.5)}\n",
      "EU {('Biotechnology', 76.92), ('Medical', 69.57), ('Pharmaceutical', 59.09), ('Advertising', 83.33), ('Shopping', 46.15), ('Mobile Apps', 78.79), ('Fashion', 60.0)}\n",
      "Europe {('Mobile Apps', 69.57), ('Fashion', 58.82), ('Blockchain', 66.67), ('Medical', 81.25), ('Advertising', 83.64), ('Shopping', 45.45)}\n",
      "China {('Video', 70.0), ('Medical', 90.77), ('Consumer Goods', 69.23), ('Mobile Apps', 74.29), ('Consumer Electronics', 57.14), ('Food and Beverage', 77.42), ('Robotics', 84.38), ('Music', 69.23)}\n"
     ]
    }
   ],
   "source": [
    "for region in regions:\n",
    "    print(region, df_industries_T.loc['female_diff'][f'{region}'])"
   ]
  },
  {
   "cell_type": "code",
   "execution_count": null,
   "metadata": {},
   "outputs": [],
   "source": []
  }
 ],
 "metadata": {
  "kernelspec": {
   "display_name": "Python 3",
   "language": "python",
   "name": "python3"
  },
  "language_info": {
   "codemirror_mode": {
    "name": "ipython",
    "version": 3
   },
   "file_extension": ".py",
   "mimetype": "text/x-python",
   "name": "python",
   "nbconvert_exporter": "python",
   "pygments_lexer": "ipython3",
   "version": "3.8.5"
  }
 },
 "nbformat": 4,
 "nbformat_minor": 4
}
