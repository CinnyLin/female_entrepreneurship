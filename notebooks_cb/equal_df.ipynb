{
 "cells": [
  {
   "cell_type": "markdown",
   "metadata": {},
   "source": [
    "create equalized data for comparison"
   ]
  },
  {
   "cell_type": "code",
   "execution_count": 1,
   "metadata": {},
   "outputs": [],
   "source": [
    "import pandas as pd"
   ]
  },
  {
   "cell_type": "code",
   "execution_count": 2,
   "metadata": {},
   "outputs": [],
   "source": [
    "regions = ['US', 'EU', 'Europe', 'China']"
   ]
  },
  {
   "cell_type": "code",
   "execution_count": 43,
   "metadata": {},
   "outputs": [],
   "source": [
    "def top_n_df(n):\n",
    "    \n",
    "    for region in regions:\n",
    "        df = pd.read_csv(f'../data/crunchbase-aggregated/{region}-gender.csv')\n",
    "\n",
    "        df_f = df[df['#female']>0].sort_values(by='Total Funding Amount')[:n]\n",
    "        df_f.to_csv(f'../data/crunchbase-cropped/{region}-{n}f.csv', index=False)\n",
    "\n",
    "        df_m = df[~(df['#female']>0)].sort_values(by='Total Funding Amount')[:n]\n",
    "        df_m.to_csv(f'../data/crunchbase-cropped/{region}-{n}m.csv', index=False)"
   ]
  },
  {
   "cell_type": "code",
   "execution_count": null,
   "metadata": {},
   "outputs": [],
   "source": []
  },
  {
   "cell_type": "markdown",
   "metadata": {},
   "source": [
    "## percentage of female companies in top 1000"
   ]
  },
  {
   "cell_type": "code",
   "execution_count": 3,
   "metadata": {},
   "outputs": [
    {
     "name": "stdout",
     "output_type": "stream",
     "text": [
      "percentage of female companies\n",
      "US: 19.6%\n",
      "EU: 13.8%\n",
      "Europe: 15.0%\n",
      "China: 9.8%\n"
     ]
    }
   ],
   "source": [
    "print('percentage of female companies')\n",
    "for region in regions:\n",
    "    df = pd.read_csv(f'../data/crunchbase-aggregated/{region}-gender.csv')\n",
    "    n_females = df[df['#female']>0].shape[0]\n",
    "    print(f'{region}: {n_females/df.shape[0]*100}%')"
   ]
  },
  {
   "cell_type": "markdown",
   "metadata": {},
   "source": [
    "get data of top `98` rows for by gender and region"
   ]
  },
  {
   "cell_type": "code",
   "execution_count": 44,
   "metadata": {},
   "outputs": [],
   "source": [
    "top_n_df(98)"
   ]
  },
  {
   "cell_type": "code",
   "execution_count": null,
   "metadata": {},
   "outputs": [],
   "source": []
  },
  {
   "cell_type": "markdown",
   "metadata": {},
   "source": [
    "## number of companies with over 50% female founders"
   ]
  },
  {
   "cell_type": "code",
   "execution_count": 27,
   "metadata": {},
   "outputs": [
    {
     "name": "stdout",
     "output_type": "stream",
     "text": [
      "number of companies with over 50% female founders\n",
      "US: 59\n",
      "EU: 35\n",
      "Europe: 32\n",
      "China: 51\n"
     ]
    }
   ],
   "source": [
    "print('number of companies with over 50% female founders')\n",
    "\n",
    "for region in regions:\n",
    "    df = pd.read_csv(f'../data/crunchbase-aggregated/{region}-gender.csv')\n",
    "    \n",
    "    female_p = (df['#female']/df['Founders'].str.split(';').apply(len))\n",
    "    female_pd = dict(female_p.value_counts())\n",
    "    \n",
    "    val = 0\n",
    "    for key in female_pd:\n",
    "        if key>0.5:\n",
    "            val += female_pd[key]\n",
    "    \n",
    "    print(f'{region}: {val}')"
   ]
  },
  {
   "cell_type": "markdown",
   "metadata": {},
   "source": [
    "get data of top `32` rows for by gender and region"
   ]
  },
  {
   "cell_type": "code",
   "execution_count": 45,
   "metadata": {},
   "outputs": [],
   "source": [
    "top_n_df(32)"
   ]
  },
  {
   "cell_type": "code",
   "execution_count": null,
   "metadata": {},
   "outputs": [],
   "source": []
  }
 ],
 "metadata": {
  "kernelspec": {
   "display_name": "Python 3",
   "language": "python",
   "name": "python3"
  },
  "language_info": {
   "codemirror_mode": {
    "name": "ipython",
    "version": 3
   },
   "file_extension": ".py",
   "mimetype": "text/x-python",
   "name": "python",
   "nbconvert_exporter": "python",
   "pygments_lexer": "ipython3",
   "version": "3.8.5"
  }
 },
 "nbformat": 4,
 "nbformat_minor": 4
}
