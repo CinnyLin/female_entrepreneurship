{
 "cells": [
  {
   "cell_type": "code",
   "execution_count": 1,
   "metadata": {},
   "outputs": [],
   "source": [
    "import pandas as pd\n",
    "from ast import literal_eval"
   ]
  },
  {
   "cell_type": "code",
   "execution_count": 2,
   "metadata": {},
   "outputs": [],
   "source": [
    "df_EU = pd.read_csv(f'../data/crunchbase-aggregated/EU1000.csv')"
   ]
  },
  {
   "cell_type": "code",
   "execution_count": 3,
   "metadata": {},
   "outputs": [
    {
     "data": {
      "text/plain": [
       "0                                  [Viktor Chernomyrdin]\n",
       "1                                                    [—]\n",
       "2                                                    [—]\n",
       "3                                                    [—]\n",
       "4      [Claude Ritter,  Dave Bailey,  Kolja Hebenstre...\n",
       "                             ...                        \n",
       "995                                                  [—]\n",
       "996                                       [Darren Ridge]\n",
       "997                                                  [—]\n",
       "998                                                  [—]\n",
       "999                      [Juan Lobato,  Salvador Garcia]\n",
       "Name: Founders, Length: 1000, dtype: object"
      ]
     },
     "execution_count": 3,
     "metadata": {},
     "output_type": "execute_result"
    }
   ],
   "source": [
    "df_EU['Founders'].str.split(';')"
   ]
  },
  {
   "cell_type": "code",
   "execution_count": 4,
   "metadata": {},
   "outputs": [],
   "source": [
    "df_EU['#founders'] = df_EU['Founders'].str.split(';').str.len()"
   ]
  },
  {
   "cell_type": "code",
   "execution_count": 5,
   "metadata": {},
   "outputs": [
    {
     "name": "stderr",
     "output_type": "stream",
     "text": [
      "/Users/cinny/opt/anaconda3/lib/python3.8/site-packages/pandas/core/indexing.py:1637: SettingWithCopyWarning: \n",
      "A value is trying to be set on a copy of a slice from a DataFrame\n",
      "\n",
      "See the caveats in the documentation: https://pandas.pydata.org/pandas-docs/stable/user_guide/indexing.html#returning-a-view-versus-a-copy\n",
      "  self._setitem_single_block(indexer, value, name)\n"
     ]
    }
   ],
   "source": [
    "for i in range(1000):\n",
    "    if df_EU['Founders'].iloc[i] == '—':\n",
    "        df_EU['#founders'].iloc[i] = 0"
   ]
  },
  {
   "cell_type": "code",
   "execution_count": null,
   "metadata": {},
   "outputs": [],
   "source": []
  },
  {
   "cell_type": "code",
   "execution_count": 6,
   "metadata": {},
   "outputs": [],
   "source": [
    "# results_list = []\n",
    "# for i in range(1000):\n",
    "#     founders_list = df_EU['Founders'][i].split(';')\n",
    "#     result_list = []\n",
    "#     for name in founders_list:\n",
    "#         name_block = name.split(' ')\n",
    "#         first = ''.join(name_block[:-1])\n",
    "#         last = name_block[-1]\n",
    "#         result = !curl -X GET \"https://v2.namsor.com/NamSorAPIv2/api2/json/gender/{first}/{last}\" -H \"accept: application/json\" -H \"X-API-KEY: fbeeb9ce36bee0728d3a577e10b06dc4\"\n",
    "#         result_list.append(result)\n",
    "#     results_list.append(result_list)"
   ]
  },
  {
   "cell_type": "code",
   "execution_count": 7,
   "metadata": {},
   "outputs": [],
   "source": [
    "# file = open('../data/api_results/EU1000_api.txt','w')\n",
    "# file.writelines(str(results_list))\n",
    "# file.close()"
   ]
  },
  {
   "cell_type": "code",
   "execution_count": 8,
   "metadata": {},
   "outputs": [],
   "source": [
    "with open('../data/api_results/EU1000_api.txt', 'r') as f:\n",
    "    api_result_string = f.read()"
   ]
  },
  {
   "cell_type": "code",
   "execution_count": 9,
   "metadata": {},
   "outputs": [],
   "source": [
    "api_result_data = literal_eval(api_result_string)"
   ]
  },
  {
   "cell_type": "code",
   "execution_count": 10,
   "metadata": {},
   "outputs": [
    {
     "data": {
      "text/plain": [
       "0.9935642481532811"
      ]
     },
     "execution_count": 10,
     "metadata": {},
     "output_type": "execute_result"
    }
   ],
   "source": [
    "literal_eval(api_result_data[0][0][5])['probabilityCalibrated']"
   ]
  },
  {
   "cell_type": "code",
   "execution_count": 11,
   "metadata": {},
   "outputs": [],
   "source": [
    "df_gender = pd.DataFrame({'api_raw': api_result_data})"
   ]
  },
  {
   "cell_type": "code",
   "execution_count": null,
   "metadata": {},
   "outputs": [],
   "source": []
  },
  {
   "cell_type": "code",
   "execution_count": 12,
   "metadata": {},
   "outputs": [],
   "source": [
    "gender_data = []\n",
    "prob_data = [] # will need to check through prob<0.5\n",
    "female_data = [] # number of females\n",
    "\n",
    "# loop through rows\n",
    "for i in range(1000):\n",
    "    \n",
    "    row = df_gender.iloc[i][0]\n",
    "    \n",
    "    gender_list = []\n",
    "    prob_list = []\n",
    "    \n",
    "    count = 0\n",
    "        \n",
    "    # loop through name list\n",
    "    for name in row:\n",
    "        \n",
    "        # yield results\n",
    "        try: \n",
    "            gender = literal_eval(name[5])['likelyGender']\n",
    "            gender_list.append(gender)\n",
    "\n",
    "            prob = literal_eval(name[5])['probabilityCalibrated']\n",
    "            prob_list.append(prob)\n",
    "\n",
    "            if (gender == 'female') and (prob > 0.5):\n",
    "                count += 1\n",
    "        \n",
    "        # if bad request, literal_eval can't read html on name[5]\n",
    "        except SyntaxError:\n",
    "            gender_list.append('N/A')\n",
    "            prob_list.append('N/A')\n",
    "            \n",
    "    # founders col was entirely empty\n",
    "    if gender_list == ['N/A']:\n",
    "        count = 'N/A'\n",
    "    \n",
    "    gender_data.append(gender_list)\n",
    "    prob_data.append(prob_list)\n",
    "    female_data.append(count)"
   ]
  },
  {
   "cell_type": "code",
   "execution_count": 13,
   "metadata": {},
   "outputs": [],
   "source": [
    "df_gender['gender'] = gender_data\n",
    "df_gender['prob'] = prob_data\n",
    "df_gender['#female'] = female_data"
   ]
  },
  {
   "cell_type": "code",
   "execution_count": 14,
   "metadata": {},
   "outputs": [],
   "source": [
    "# df_gender"
   ]
  },
  {
   "cell_type": "code",
   "execution_count": 15,
   "metadata": {},
   "outputs": [
    {
     "data": {
      "text/plain": [
       "0"
      ]
     },
     "execution_count": 15,
     "metadata": {},
     "output_type": "execute_result"
    }
   ],
   "source": [
    "# check: good to know that all probs were higher than 50%\n",
    "\n",
    "count = 0\n",
    "\n",
    "for prob in prob_data:\n",
    "    for p in prob:\n",
    "        if type(p)==float and (p < 0.5):\n",
    "            count += 1\n",
    "\n",
    "count"
   ]
  },
  {
   "cell_type": "code",
   "execution_count": null,
   "metadata": {},
   "outputs": [],
   "source": []
  },
  {
   "cell_type": "code",
   "execution_count": 16,
   "metadata": {},
   "outputs": [],
   "source": [
    "df = pd.merge(left=df_EU, right=df_gender, left_index=True, right_index=True)"
   ]
  },
  {
   "cell_type": "code",
   "execution_count": 17,
   "metadata": {},
   "outputs": [],
   "source": [
    "# df.to_csv(f'../data/crunchbase-aggregated/EU1000-gender.csv', index=False)"
   ]
  },
  {
   "cell_type": "code",
   "execution_count": null,
   "metadata": {},
   "outputs": [],
   "source": []
  }
 ],
 "metadata": {
  "kernelspec": {
   "display_name": "Python 3",
   "language": "python",
   "name": "python3"
  },
  "language_info": {
   "codemirror_mode": {
    "name": "ipython",
    "version": 3
   },
   "file_extension": ".py",
   "mimetype": "text/x-python",
   "name": "python",
   "nbconvert_exporter": "python",
   "pygments_lexer": "ipython3",
   "version": "3.8.5"
  }
 },
 "nbformat": 4,
 "nbformat_minor": 4
}
