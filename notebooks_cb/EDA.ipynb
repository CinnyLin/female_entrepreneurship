{
 "cells": [
  {
   "cell_type": "code",
   "execution_count": 3,
   "metadata": {},
   "outputs": [],
   "source": [
    "import pandas as pd\n",
    "import matplotlib.pyplot as plt"
   ]
  },
  {
   "cell_type": "code",
   "execution_count": 45,
   "metadata": {},
   "outputs": [],
   "source": [
    "regions = ['US', 'EU', 'Europe', 'China']\n",
    "by_industry_group = ['industry_groups', 'industries']"
   ]
  },
  {
   "cell_type": "code",
   "execution_count": null,
   "metadata": {},
   "outputs": [],
   "source": []
  },
  {
   "cell_type": "code",
   "execution_count": 16,
   "metadata": {},
   "outputs": [],
   "source": [
    "df_industries = pd.read_csv(f'../data/crunchbase-aggregated/region_top_industries.csv', index_col=0)"
   ]
  },
  {
   "cell_type": "code",
   "execution_count": null,
   "metadata": {},
   "outputs": [],
   "source": []
  },
  {
   "cell_type": "code",
   "execution_count": 22,
   "metadata": {},
   "outputs": [],
   "source": [
    "equal_diff_rows = ['female_diff_group_equal', 'male_diff_group_equal', 'female_diff_equal', 'male_diff_equal']"
   ]
  },
  {
   "cell_type": "code",
   "execution_count": 25,
   "metadata": {},
   "outputs": [
    {
     "name": "stdout",
     "output_type": "stream",
     "text": [
      "female_diff_group_equal\n",
      "US: ['Design', 'Community and Lifestyle', 'Real Estate']\n",
      "EU: ['Community and Lifestyle', 'Biotechnology', 'Advertising', 'Clothing and Apparel']\n",
      "Europe: ['Design', 'Advertising', 'Real Estate']\n",
      "China: ['Consumer Goods', 'Food and Beverage', 'Artificial Intelligence', 'Real Estate']\n",
      "\n",
      "male_diff_group_equal\n",
      "US: ['Consumer Electronics', 'Privacy and Security', 'Transportation']\n",
      "EU: ['Consumer Electronics', 'Transportation', 'Manufacturing', 'Professional Services']\n",
      "Europe: ['Consumer Electronics', 'Community and Lifestyle', 'Professional Services']\n",
      "China: ['Financial Services', 'Manufacturing', 'Content and Publishing', 'Sales and Marketing']\n",
      "\n",
      "female_diff_equal\n",
      "US: ['Wellness', 'Medical Device', 'Advertising', 'Social Media', 'Mobile Apps']\n",
      "EU: ['Biotechnology', 'Fashion', 'Pharmaceutical', 'Medical', 'Advertising', 'Mobile Apps', 'Shopping']\n",
      "Europe: ['Fashion', 'Medical', 'Advertising', 'Blockchain', 'Mobile Apps', 'Shopping']\n",
      "China: ['Consumer Electronics', 'Consumer Goods', 'Music', 'Medical', 'Food and Beverage', 'Robotics', 'Mobile Apps', 'Video']\n",
      "\n",
      "male_diff_equal\n",
      "US: ['Pharmaceutical', 'Cyber Security', 'FinTech', 'Security', 'Machine Learning']\n",
      "EU: ['Analytics', 'Financial Services', 'FinTech', 'Sports', 'Blockchain', 'Automotive', 'Search Engine']\n",
      "Europe: ['Analytics', 'Marketplace', 'Payments', 'FinTech', 'Internet of Things', 'Marketing']\n",
      "China: ['Education', 'Financial Services', 'Manufacturing', 'Automotive', 'Hardware', 'Sales', 'Retail', 'Marketing']\n",
      "\n"
     ]
    }
   ],
   "source": [
    "for row in equal_diff_rows:\n",
    "    \n",
    "    print(row)\n",
    "\n",
    "    for region in regions:\n",
    "\n",
    "        result = df_industries.loc[row][region]\n",
    "        print(f'{region}: {result}')\n",
    "    print()"
   ]
  },
  {
   "cell_type": "code",
   "execution_count": null,
   "metadata": {},
   "outputs": [],
   "source": []
  },
  {
   "cell_type": "code",
   "execution_count": 107,
   "metadata": {},
   "outputs": [],
   "source": [
    "region = 'China'\n",
    "df2 = pd.read_csv(f'../data/crunchbase-aggregated/{region}-industry_groups_equal.csv')\n",
    "df4 = pd.read_csv(f'../data/crunchbase-aggregated/{region}-industries_equal.csv')"
   ]
  },
  {
   "cell_type": "code",
   "execution_count": 113,
   "metadata": {},
   "outputs": [
    {
     "data": {
      "text/html": [
       "<div>\n",
       "<style scoped>\n",
       "    .dataframe tbody tr th:only-of-type {\n",
       "        vertical-align: middle;\n",
       "    }\n",
       "\n",
       "    .dataframe tbody tr th {\n",
       "        vertical-align: top;\n",
       "    }\n",
       "\n",
       "    .dataframe thead th {\n",
       "        text-align: right;\n",
       "    }\n",
       "</style>\n",
       "<table border=\"1\" class=\"dataframe\">\n",
       "  <thead>\n",
       "    <tr style=\"text-align: right;\">\n",
       "      <th></th>\n",
       "      <th>industry</th>\n",
       "      <th>#companies</th>\n",
       "      <th>#female_co</th>\n",
       "      <th>#not_female_co</th>\n",
       "      <th>%female</th>\n",
       "      <th>%not_female</th>\n",
       "    </tr>\n",
       "  </thead>\n",
       "  <tbody>\n",
       "    <tr>\n",
       "      <th>59</th>\n",
       "      <td>Hardware</td>\n",
       "      <td>6</td>\n",
       "      <td>2.0</td>\n",
       "      <td>4.0</td>\n",
       "      <td>33.333333</td>\n",
       "      <td>66.666667</td>\n",
       "    </tr>\n",
       "  </tbody>\n",
       "</table>\n",
       "</div>"
      ],
      "text/plain": [
       "    industry  #companies  #female_co  #not_female_co    %female  %not_female\n",
       "59  Hardware           6         2.0             4.0  33.333333    66.666667"
      ]
     },
     "execution_count": 113,
     "metadata": {},
     "output_type": "execute_result"
    }
   ],
   "source": [
    "df4[df4['industry']=='Hardware']"
   ]
  },
  {
   "cell_type": "code",
   "execution_count": null,
   "metadata": {},
   "outputs": [],
   "source": []
  },
  {
   "cell_type": "markdown",
   "metadata": {},
   "source": [
    "## female representation "
   ]
  },
  {
   "cell_type": "markdown",
   "metadata": {},
   "source": [
    "### across regions"
   ]
  },
  {
   "cell_type": "code",
   "execution_count": 4,
   "metadata": {},
   "outputs": [
    {
     "name": "stdout",
     "output_type": "stream",
     "text": [
      "China: 51, 98\n",
      "EU: 35, 138\n",
      "Europe: 32, 150\n",
      "US: 59, 196\n"
     ]
    }
   ],
   "source": [
    "for region in regions:\n",
    "    df = pd.read_csv(f'../data/crunchbase-aggregated/{region}-gender.csv')\n",
    "    n1 = df[df['%female']>0.5].shape[0]\n",
    "    n2 = df[df['#female']>0].shape[0]\n",
    "    print(f'{region}: {n1}, {n2}')"
   ]
  },
  {
   "cell_type": "markdown",
   "metadata": {},
   "source": [
    "### across industries"
   ]
  },
  {
   "cell_type": "code",
   "execution_count": 106,
   "metadata": {},
   "outputs": [
    {
     "name": "stdout",
     "output_type": "stream",
     "text": [
      "US_industry_groups: 4.682839470582604, 5.725221823170381\n",
      "US_industries: 1.7506629634925193, 2.3610194193213827\n",
      "EU_industry_groups: 2.644076519751921, 3.115119300118096\n",
      "EU_industries: 1.1694877190695359, 1.2573228433558685\n",
      "Europe_industry_groups: 2.942992537196751, 2.9360382926002466\n",
      "Europe_industries: 1.4044205433844599, 1.4073836350390911\n",
      "China_industry_groups: 4.083703398151646, 3.6535982931631774\n",
      "China_industries: 1.5135480634892882, 1.1323330860757272\n"
     ]
    }
   ],
   "source": [
    "for region in regions:\n",
    "    for big in by_industry_group:\n",
    "        df = pd.read_csv(f'../data/crunchbase-aggregated/{region}-{big}_updated.csv')\n",
    "        metric1 = df['#female_co'].std()\n",
    "        metric2 = df['#not_female_co'].std()\n",
    "        print(f'{region}_{big}: {metric1}, {metric2}')"
   ]
  },
  {
   "cell_type": "code",
   "execution_count": 47,
   "metadata": {},
   "outputs": [
    {
     "name": "stdout",
     "output_type": "stream",
     "text": [
      "US: Health Care, 12.0, 54.55\n",
      "EU: Software, 8.0, 50.00\n",
      "Europe: Software, 10.0, 50.00\n",
      "China: E-Commerce, 9.0, 56.25\n"
     ]
    }
   ],
   "source": [
    "for region in regions:\n",
    "    df = pd.read_csv(f'../data/crunchbase-aggregated/{region}-industries_updated.csv')\n",
    "    data = df.sort_values(['#female_co'], ascending=False).iloc[0]\n",
    "    print(f'{region}: {data[\"industry\"]}, {data[\"#female_co\"]}, {data[\"%female\"]:.2f}')"
   ]
  },
  {
   "cell_type": "code",
   "execution_count": 48,
   "metadata": {},
   "outputs": [
    {
     "name": "stdout",
     "output_type": "stream",
     "text": [
      "US: Software, 18.0, 60.00\n",
      "EU: Software, 8.0, 50.00\n",
      "Europe: Software, 10.0, 50.00\n",
      "China: E-Commerce, 7.0, 43.75\n"
     ]
    }
   ],
   "source": [
    "for region in regions:\n",
    "    df = pd.read_csv(f'../data/crunchbase-aggregated/{region}-industries_updated.csv')\n",
    "    data = df.sort_values(['#not_female_co'], ascending=False).iloc[0]\n",
    "    print(f'{region}: {data[\"industry\"]}, {data[\"#not_female_co\"]}, {data[\"%not_female\"]:.2f}')"
   ]
  },
  {
   "cell_type": "code",
   "execution_count": 107,
   "metadata": {},
   "outputs": [
    {
     "data": {
      "text/html": [
       "<div>\n",
       "<style scoped>\n",
       "    .dataframe tbody tr th:only-of-type {\n",
       "        vertical-align: middle;\n",
       "    }\n",
       "\n",
       "    .dataframe tbody tr th {\n",
       "        vertical-align: top;\n",
       "    }\n",
       "\n",
       "    .dataframe thead th {\n",
       "        text-align: right;\n",
       "    }\n",
       "</style>\n",
       "<table border=\"1\" class=\"dataframe\">\n",
       "  <thead>\n",
       "    <tr style=\"text-align: right;\">\n",
       "      <th></th>\n",
       "      <th>industry</th>\n",
       "      <th>#not_female_co</th>\n",
       "      <th>%not_female</th>\n",
       "    </tr>\n",
       "  </thead>\n",
       "  <tbody>\n",
       "    <tr>\n",
       "      <th>50</th>\n",
       "      <td>Software</td>\n",
       "      <td>284.0</td>\n",
       "      <td>95.95</td>\n",
       "    </tr>\n",
       "    <tr>\n",
       "      <th>4</th>\n",
       "      <td>Health Care</td>\n",
       "      <td>144.0</td>\n",
       "      <td>92.31</td>\n",
       "    </tr>\n",
       "    <tr>\n",
       "      <th>29</th>\n",
       "      <td>Information Technology</td>\n",
       "      <td>137.0</td>\n",
       "      <td>99.28</td>\n",
       "    </tr>\n",
       "    <tr>\n",
       "      <th>24</th>\n",
       "      <td>SaaS</td>\n",
       "      <td>119.0</td>\n",
       "      <td>95.97</td>\n",
       "    </tr>\n",
       "    <tr>\n",
       "      <th>1</th>\n",
       "      <td>Biotechnology</td>\n",
       "      <td>99.0</td>\n",
       "      <td>90.83</td>\n",
       "    </tr>\n",
       "    <tr>\n",
       "      <th>23</th>\n",
       "      <td>Mobile</td>\n",
       "      <td>90.0</td>\n",
       "      <td>92.78</td>\n",
       "    </tr>\n",
       "    <tr>\n",
       "      <th>52</th>\n",
       "      <td>Internet</td>\n",
       "      <td>81.0</td>\n",
       "      <td>98.78</td>\n",
       "    </tr>\n",
       "    <tr>\n",
       "      <th>166</th>\n",
       "      <td>Enterprise Software</td>\n",
       "      <td>80.0</td>\n",
       "      <td>96.39</td>\n",
       "    </tr>\n",
       "    <tr>\n",
       "      <th>47</th>\n",
       "      <td>Artificial Intelligence</td>\n",
       "      <td>75.0</td>\n",
       "      <td>96.15</td>\n",
       "    </tr>\n",
       "    <tr>\n",
       "      <th>117</th>\n",
       "      <td>Analytics</td>\n",
       "      <td>73.0</td>\n",
       "      <td>93.59</td>\n",
       "    </tr>\n",
       "  </tbody>\n",
       "</table>\n",
       "</div>"
      ],
      "text/plain": [
       "                    industry  #not_female_co  %not_female\n",
       "50                  Software           284.0        95.95\n",
       "4                Health Care           144.0        92.31\n",
       "29    Information Technology           137.0        99.28\n",
       "24                      SaaS           119.0        95.97\n",
       "1              Biotechnology            99.0        90.83\n",
       "23                    Mobile            90.0        92.78\n",
       "52                  Internet            81.0        98.78\n",
       "166      Enterprise Software            80.0        96.39\n",
       "47   Artificial Intelligence            75.0        96.15\n",
       "117                Analytics            73.0        93.59"
      ]
     },
     "execution_count": 107,
     "metadata": {},
     "output_type": "execute_result"
    }
   ],
   "source": [
    "region='US'\n",
    "select='not_female'\n",
    "updated='' #'_updated'\n",
    "df = pd.read_csv(f'../data/crunchbase-aggregated/{region}-industries{updated}.csv')\n",
    "df.sort_values([f'#{select}_co'], ascending=False)[:10][\n",
    "    ['industry', f'#{select}_co', f'%{select}']].round(2)"
   ]
  },
  {
   "cell_type": "code",
   "execution_count": 115,
   "metadata": {},
   "outputs": [],
   "source": [
    "regions=['China', 'EU', 'Europe', 'US']"
   ]
  },
  {
   "cell_type": "code",
   "execution_count": 121,
   "metadata": {},
   "outputs": [
    {
     "name": "stdout",
     "output_type": "stream",
     "text": [
      "China_industries: 1.0666666666666667, 1.6732673267326732\n",
      "EU_industries: 0.9485294117647058, 1.6436781609195403\n",
      "Europe_industries: 1.0564516129032258, 1.6585365853658536\n",
      "US_industries: 1.2746113989637307, 1.9603174603174602\n"
     ]
    }
   ],
   "source": [
    "big='industries'\n",
    "for region in regions:\n",
    "    #for big in by_industry_group:\n",
    "    df = pd.read_csv(f'../data/crunchbase-aggregated/{region}-{big}_updated.csv')\n",
    "    #metric = df['#companies'].mean()\n",
    "    #print(f'{region}_{big}: {metric}')\n",
    "    \n",
    "    metric1 = df['#female_co'].mean()\n",
    "    metric2 = df['#not_female_co'].mean()\n",
    "    print(f'{region}_{big}: {metric1}, {metric2}')"
   ]
  },
  {
   "cell_type": "code",
   "execution_count": 122,
   "metadata": {},
   "outputs": [
    {
     "name": "stdout",
     "output_type": "stream",
     "text": [
      "China_industries: 0.4359673024523161, 7.477653631284916\n",
      "EU_industries: 0.2665289256198347, 7.934873949579832\n",
      "Europe_industries: 0.26899383983572894, 7.985537190082645\n",
      "US_industries: 0.5082644628099173, 8.334736842105263\n"
     ]
    }
   ],
   "source": [
    "# big='industries'\n",
    "for region in regions:\n",
    "    #for big in by_industry_group:\n",
    "    df = pd.read_csv(f'../data/crunchbase-aggregated/{region}-{big}.csv')\n",
    "    #metric = df['#companies'].mean()\n",
    "    #print(f'{region}_{big}: {metric}')\n",
    "    \n",
    "    metric1 = df['#female_co'].mean()\n",
    "    metric2 = df['#not_female_co'].mean()\n",
    "    print(f'{region}_{big}: {metric1}, {metric2}')"
   ]
  },
  {
   "cell_type": "code",
   "execution_count": null,
   "metadata": {},
   "outputs": [],
   "source": []
  },
  {
   "cell_type": "code",
   "execution_count": 134,
   "metadata": {},
   "outputs": [
    {
     "data": {
      "text/html": [
       "<div>\n",
       "<style scoped>\n",
       "    .dataframe tbody tr th:only-of-type {\n",
       "        vertical-align: middle;\n",
       "    }\n",
       "\n",
       "    .dataframe tbody tr th {\n",
       "        vertical-align: top;\n",
       "    }\n",
       "\n",
       "    .dataframe thead th {\n",
       "        text-align: right;\n",
       "    }\n",
       "</style>\n",
       "<table border=\"1\" class=\"dataframe\">\n",
       "  <thead>\n",
       "    <tr style=\"text-align: right;\">\n",
       "      <th></th>\n",
       "      <th>industry</th>\n",
       "      <th>#female_co</th>\n",
       "      <th>%female</th>\n",
       "    </tr>\n",
       "  </thead>\n",
       "  <tbody>\n",
       "    <tr>\n",
       "      <th>319</th>\n",
       "      <td>Smart Building</td>\n",
       "      <td>2.0</td>\n",
       "      <td>100.00</td>\n",
       "    </tr>\n",
       "    <tr>\n",
       "      <th>179</th>\n",
       "      <td>Speech Recognition</td>\n",
       "      <td>2.0</td>\n",
       "      <td>100.00</td>\n",
       "    </tr>\n",
       "    <tr>\n",
       "      <th>323</th>\n",
       "      <td>B2C</td>\n",
       "      <td>2.0</td>\n",
       "      <td>40.00</td>\n",
       "    </tr>\n",
       "    <tr>\n",
       "      <th>30</th>\n",
       "      <td>Brand Marketing</td>\n",
       "      <td>2.0</td>\n",
       "      <td>33.33</td>\n",
       "    </tr>\n",
       "    <tr>\n",
       "      <th>120</th>\n",
       "      <td>Consumer Electronics</td>\n",
       "      <td>2.0</td>\n",
       "      <td>28.57</td>\n",
       "    </tr>\n",
       "    <tr>\n",
       "      <th>54</th>\n",
       "      <td>Food Delivery</td>\n",
       "      <td>2.0</td>\n",
       "      <td>28.57</td>\n",
       "    </tr>\n",
       "    <tr>\n",
       "      <th>170</th>\n",
       "      <td>Consumer Goods</td>\n",
       "      <td>3.0</td>\n",
       "      <td>23.08</td>\n",
       "    </tr>\n",
       "    <tr>\n",
       "      <th>69</th>\n",
       "      <td>Video</td>\n",
       "      <td>4.0</td>\n",
       "      <td>20.00</td>\n",
       "    </tr>\n",
       "    <tr>\n",
       "      <th>32</th>\n",
       "      <td>Food and Beverage</td>\n",
       "      <td>6.0</td>\n",
       "      <td>19.35</td>\n",
       "    </tr>\n",
       "    <tr>\n",
       "      <th>57</th>\n",
       "      <td>Trading Platform</td>\n",
       "      <td>2.0</td>\n",
       "      <td>18.18</td>\n",
       "    </tr>\n",
       "  </tbody>\n",
       "</table>\n",
       "</div>"
      ],
      "text/plain": [
       "                 industry  #female_co  %female\n",
       "319        Smart Building         2.0   100.00\n",
       "179    Speech Recognition         2.0   100.00\n",
       "323                   B2C         2.0    40.00\n",
       "30        Brand Marketing         2.0    33.33\n",
       "120  Consumer Electronics         2.0    28.57\n",
       "54          Food Delivery         2.0    28.57\n",
       "170        Consumer Goods         3.0    23.08\n",
       "69                  Video         4.0    20.00\n",
       "32      Food and Beverage         6.0    19.35\n",
       "57       Trading Platform         2.0    18.18"
      ]
     },
     "execution_count": 134,
     "metadata": {},
     "output_type": "execute_result"
    }
   ],
   "source": [
    "region='China'\n",
    "select='female'\n",
    "updated='' #'_updated'\n",
    "df = pd.read_csv(f'../data/crunchbase-aggregated/{region}-industries{updated}.csv')\n",
    "filter = df['#female_co']>1\n",
    "df[filter].sort_values([f'%{select}'], ascending=False)[:10][\n",
    "    ['industry', f'#{select}_co', f'%{select}']].round(2)"
   ]
  },
  {
   "cell_type": "code",
   "execution_count": null,
   "metadata": {},
   "outputs": [],
   "source": []
  },
  {
   "cell_type": "code",
   "execution_count": null,
   "metadata": {},
   "outputs": [],
   "source": []
  },
  {
   "cell_type": "code",
   "execution_count": null,
   "metadata": {},
   "outputs": [],
   "source": []
  },
  {
   "cell_type": "code",
   "execution_count": null,
   "metadata": {},
   "outputs": [],
   "source": []
  }
 ],
 "metadata": {
  "kernelspec": {
   "display_name": "Python 3",
   "language": "python",
   "name": "python3"
  },
  "language_info": {
   "codemirror_mode": {
    "name": "ipython",
    "version": 3
   },
   "file_extension": ".py",
   "mimetype": "text/x-python",
   "name": "python",
   "nbconvert_exporter": "python",
   "pygments_lexer": "ipython3",
   "version": "3.8.5"
  }
 },
 "nbformat": 4,
 "nbformat_minor": 4
}
