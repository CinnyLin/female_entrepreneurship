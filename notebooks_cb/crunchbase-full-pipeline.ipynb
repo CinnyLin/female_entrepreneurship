{
 "cells": [
  {
   "cell_type": "markdown",
   "metadata": {},
   "source": [
    "# Crunchbase data full pipeline\n",
    "The full pipeline includes three main steps:\n",
    "1. data preprocessing\n",
    "2. adding gender info to preprocessed data\n",
    "3. compare industry diversification by gender"
   ]
  },
  {
   "cell_type": "code",
   "execution_count": 2,
   "metadata": {},
   "outputs": [],
   "source": [
    "# import dependencies \n",
    "import pandas as pd\n",
    "from ast import literal_eval\n",
    "from collections import Counter"
   ]
  },
  {
   "cell_type": "markdown",
   "metadata": {},
   "source": [
    "## I. Data Preprocessing\n",
    "\n",
    "## #1 Get raw txt data from crunchbase\n",
    "\n",
    "This is done manually by filtering, sorting, and copying-pasting from the crunchbase pro free trial.\n",
    "\n",
    "Filtering:\n",
    "- **Company Headquarters**: US, Europe/EU, China\n",
    "- Financials:\n",
    "    - **Last Funding Date**: Custom Date Range 2015-2019\n",
    "    - **Last Funding Type**: Seed, Series A\n",
    "- Company Status:\n",
    "    - **Operating Status**: Active\n",
    "    - **IPO Status**: Private\n",
    "    \n",
    "Sorting: by **Total Amount of Funding**"
   ]
  },
  {
   "cell_type": "code",
   "execution_count": 3,
   "metadata": {},
   "outputs": [],
   "source": [
    "# manual input based on headquarters region filter\n",
    "regions = ['US', 'EU', 'Europe', 'China']  #'Germany', France', Latvia'"
   ]
  },
  {
   "cell_type": "markdown",
   "metadata": {},
   "source": [
    "## #2 Cleaning raw text data"
   ]
  },
  {
   "cell_type": "markdown",
   "metadata": {},
   "source": [
    "### Cleaning Function"
   ]
  },
  {
   "cell_type": "code",
   "execution_count": 3,
   "metadata": {},
   "outputs": [],
   "source": [
    "def cb_txt_to_csv(filename, i):\n",
    "    \n",
    "    text = ''\n",
    "    \n",
    "    with open(f'../data/crunchbase-raw/{filename}.txt', 'r') as f:\n",
    "    \n",
    "        # log row counts\n",
    "        count = i\n",
    "\n",
    "        # log previous line\n",
    "        last_line = ''\n",
    "\n",
    "        for line in f:\n",
    "\n",
    "            # meets index, switch to next line\n",
    "            if (line == f'{count}.\\n') or (line == f'{count}.'):\n",
    "                count += 1\n",
    "                text += '\\n'\n",
    "                last_line = line\n",
    "\n",
    "            # logo for company\n",
    "            elif (last_line == f'{count}.\\n') and ('Logo' in line):\n",
    "                pass\n",
    "\n",
    "            # logo for investors etc.\n",
    "            elif 'Logo' in line:\n",
    "                last_line = line\n",
    "                pass\n",
    "\n",
    "            # empty lines\n",
    "            elif line == '\\n':\n",
    "                last_line = line\n",
    "                pass\n",
    "\n",
    "            # line with commas\n",
    "            elif ',' in line:\n",
    "                line = line.strip('\\n').replace(',', ';') #note below\n",
    "                text += line\n",
    "                text += ','\n",
    "                last_line = line\n",
    "\n",
    "            # data on same row, add comma \n",
    "            else:\n",
    "                text += line.strip('\\n')\n",
    "                text += ','\n",
    "                last_line = line\n",
    "\n",
    "    with open(f'../data/crunchbase-csv/{filename}.csv', 'w') as f:\n",
    "        f.write(text)"
   ]
  },
  {
   "cell_type": "markdown",
   "metadata": {},
   "source": [
    "*note*:\n",
    "this is not the best approach, though it works well now for a list of values in a single column; e.g. sentences, dates, or money values also had their commas replaced might need to clean the data again before using it."
   ]
  },
  {
   "cell_type": "markdown",
   "metadata": {},
   "source": [
    "### Run Script"
   ]
  },
  {
   "cell_type": "code",
   "execution_count": 4,
   "metadata": {},
   "outputs": [],
   "source": [
    "# because crunchbase only shows 50 rows per page \n",
    "first_n = list(range(1,1000,50))\n",
    "last_n = list(range(50,1001,50))"
   ]
  },
  {
   "cell_type": "code",
   "execution_count": 5,
   "metadata": {},
   "outputs": [],
   "source": [
    "for region in regions:\n",
    "    for i in range(len(first_n)):\n",
    "        filename = f'{region}_{first_n[i]}-{last_n[i]}'\n",
    "#         cb_txt_to_csv(f'{region}/{filename}', first_n[i])"
   ]
  },
  {
   "cell_type": "code",
   "execution_count": 6,
   "metadata": {},
   "outputs": [],
   "source": [
    "# check: if nothing printed means everything is good!\n",
    "for region in regions:\n",
    "    for i in range(len(first_n)):\n",
    "        filename = f'{region}_{first_n[i]}-{last_n[i]}'\n",
    "        \n",
    "        try:\n",
    "            df = pd.read_csv(f'../data/crunchbase-csv/{region}/{filename}.csv')\n",
    "            \n",
    "            # check correct format\n",
    "            if (df.shape[0]!=50) or (df.shape[1]!=108):\n",
    "                print(f'{filename}: {df.shape}')\n",
    "        \n",
    "        except:\n",
    "            print(f'{filename}')"
   ]
  },
  {
   "cell_type": "markdown",
   "metadata": {},
   "source": [
    "## #3 Combine data files\n",
    "Currently, each file only includes 50 rows. Combine to get one single file for each region with 1000 rows."
   ]
  },
  {
   "cell_type": "markdown",
   "metadata": {},
   "source": [
    "### Run Script"
   ]
  },
  {
   "cell_type": "code",
   "execution_count": 7,
   "metadata": {},
   "outputs": [],
   "source": [
    "for region in regions:\n",
    "    df_1000 = pd.DataFrame()\n",
    "    for i in range(len(first_n)):\n",
    "        filename = f'{region}_{first_n[i]}-{last_n[i]}'\n",
    "        df_50 = pd.read_csv(f'../data/crunchbase-csv/{region}/{filename}.csv')\n",
    "        df_1000 = pd.concat([df_1000, df_50], ignore_index=True)\n",
    "#     df_1000.to_csv(f'../data/crunchbase-aggregated/{region}1000.csv', index=False)"
   ]
  },
  {
   "cell_type": "code",
   "execution_count": 8,
   "metadata": {},
   "outputs": [],
   "source": [
    "# check: if nothing printed means everything is good!\n",
    "for region in regions:\n",
    "    df = pd.read_csv(f'../data/crunchbase-aggregated/{region}1000.csv')\n",
    "    if (df.shape[0]!=1000) or (df.shape[1]!=108):\n",
    "                print(f'{region}: {df.shape}')"
   ]
  },
  {
   "cell_type": "markdown",
   "metadata": {},
   "source": [
    "## II. Gender Inference\n",
    "\n",
    "## #4 Run gender API on Founder Names"
   ]
  },
  {
   "cell_type": "code",
   "execution_count": 9,
   "metadata": {},
   "outputs": [],
   "source": [
    "api_keys = []\n",
    "with open(f'../data/api_key.txt', 'r') as f:\n",
    "    for line in f:\n",
    "        api_keys.append(line.strip())"
   ]
  },
  {
   "cell_type": "markdown",
   "metadata": {},
   "source": [
    "### Run API"
   ]
  },
  {
   "cell_type": "code",
   "execution_count": 10,
   "metadata": {},
   "outputs": [],
   "source": [
    "# for k in range(len(regions)):\n",
    "    \n",
    "#     # set up\n",
    "#     df_region = pd.read_csv(f'../data/crunchbase-aggregated/{regions[k]}1000.csv')\n",
    "#     key = api_keys[k+1]\n",
    "    \n",
    "#     # save api results\n",
    "#     results_list = []\n",
    "    \n",
    "#     for i in range(1000):\n",
    "#         founders_list = df_region['Founders'][i].split(';')\n",
    "#         result_list = []\n",
    "        \n",
    "#         for name in founders_list:\n",
    "#             name_block = name.split(' ')\n",
    "#             first = ''.join(name_block[:-1])\n",
    "#             last = name_block[-1]\n",
    "#             result = !curl -X GET \"https://v2.namsor.com/NamSorAPIv2/api2/json/gender/{first}/{last}\" -H \"accept: application/json\" -H \"X-API-KEY: {key}\"\n",
    "#             result_list.append(result)\n",
    "#         results_list.append(result_list)\n",
    "    \n",
    "#     file = open(f'../data/api_results/{regions[k]}_api.txt','w')\n",
    "#     file.writelines(str(results_list))\n",
    "#     file.close()"
   ]
  },
  {
   "cell_type": "markdown",
   "metadata": {},
   "source": [
    "### Extract important info from api result"
   ]
  },
  {
   "cell_type": "code",
   "execution_count": 5,
   "metadata": {},
   "outputs": [],
   "source": [
    "def extract_api_results(df):\n",
    "\n",
    "    gender_data = []\n",
    "    prob_data = [] # will need to check later for prob<0.5\n",
    "    female_data = [] # number of females\n",
    "\n",
    "    # loop through rows\n",
    "    for i in range(1000):\n",
    "\n",
    "        row = df.iloc[i][0]\n",
    "\n",
    "        gender_list = []\n",
    "        prob_list = []\n",
    "\n",
    "        count = 0\n",
    "\n",
    "        # loop through name list\n",
    "        for name in row:\n",
    "\n",
    "            # yield results\n",
    "            try: \n",
    "                gender = literal_eval(name[5])['likelyGender']\n",
    "                gender_list.append(gender)\n",
    "\n",
    "                prob = literal_eval(name[5])['probabilityCalibrated']\n",
    "                prob_list.append(prob)\n",
    "                \n",
    "                # count female founders\n",
    "                if (gender == 'female') and (prob > 0.5):\n",
    "                    count += 1\n",
    "\n",
    "            # if bad request, literal_eval can't read html on name[5]\n",
    "            except SyntaxError:\n",
    "                gender_list.append('N/A')\n",
    "                prob_list.append('N/A')\n",
    "\n",
    "        # founders col was entirely empty\n",
    "        if gender_list == ['N/A']:\n",
    "            count = 'N/A'\n",
    "        \n",
    "        # record data\n",
    "        gender_data.append(gender_list)\n",
    "        prob_data.append(prob_list)\n",
    "        female_data.append(count)\n",
    "\n",
    "    # add api results to df\n",
    "    df['gender'] = gender_data\n",
    "    df['prob'] = prob_data\n",
    "    df['#female'] = female_data\n",
    "    \n",
    "    return df"
   ]
  },
  {
   "cell_type": "markdown",
   "metadata": {},
   "source": [
    "### Run Script: Aggregate API results to original dataframe"
   ]
  },
  {
   "cell_type": "code",
   "execution_count": 13,
   "metadata": {},
   "outputs": [],
   "source": [
    "for region in regions:\n",
    "    \n",
    "    # original df\n",
    "    df = pd.read_csv(f'../data/crunchbase-aggregated/{region}1000.csv')\n",
    "    \n",
    "    # read file\n",
    "    with open(f'../data/api_results/{region}_api.txt', 'r') as f:\n",
    "        api_result_string = f.read()\n",
    "    \n",
    "    # string to dict\n",
    "    api_result_data = literal_eval(api_result_string)\n",
    "    \n",
    "    # create dataframe\n",
    "    df_gender = pd.DataFrame({'api_raw': api_result_data})\n",
    "    \n",
    "    # add extracted info to df\n",
    "    df_gender = extract_api_results(df_gender)\n",
    "    \n",
    "    # merge api results to original df\n",
    "    df = pd.merge(left=df, right=df_gender, left_index=True, right_index=True)\n",
    "    \n",
    "    # add >50% female representation\n",
    "    df['Number of Founders'] = df['Number of Founders'].replace('—', 0)\n",
    "    df['Number of Founders'] = df['Number of Founders'].astype(int)\n",
    "    df['#female'] = df['#female'].fillna(0)\n",
    "    df['#female'] = df['#female'].replace('N/A', 0)\n",
    "    df['#female'] = df['#female'].astype(int)\n",
    "    df['%female'] = df['#female']/df['Number of Founders']\n",
    "    \n",
    "    # export aggregated df\n",
    "#     df.to_csv(f'../data/crunchbase-aggregated/{region}-gender.csv', index=False)"
   ]
  },
  {
   "cell_type": "markdown",
   "metadata": {},
   "source": [
    "## III. Industry Diversification by Gender"
   ]
  },
  {
   "cell_type": "markdown",
   "metadata": {},
   "source": [
    "### Count number of companies by industry & gender"
   ]
  },
  {
   "cell_type": "code",
   "execution_count": 8,
   "metadata": {},
   "outputs": [],
   "source": [
    "def industry_gender(df, group=True, equal=True):\n",
    "    '''\n",
    "    - if `group`==False, use the detailed `Industries` column\n",
    "    - if `equal`==True, get same number of male and female companies\n",
    "    '''\n",
    "    \n",
    "    # group flag\n",
    "    if group:\n",
    "        col = 'Industry Groups'\n",
    "    elif not group:\n",
    "        col = 'Industries'\n",
    "\n",
    "    # equal flag\n",
    "    if equal:\n",
    "        # update female def\n",
    "        n_female = df[df['%female']>0.5].shape[0]\n",
    "        #n_female = df[df['#female']>0].shape[0]\n",
    "\n",
    "        n_not_female = df[df['%female']<=0.5].shape[0]\n",
    "\n",
    "        if n_female <= n_not_female:\n",
    "            n = n_female\n",
    "            df_female = df[df['%female']>0.5]\n",
    "            df_not_female = df[df['%female']<=0.5].sort_values(by=['Total Funding Amount'])[:n]\n",
    "            df = df_female.append(df_not_female, ignore_index=True)\n",
    "\n",
    "        elif n_female > n_not_female:\n",
    "            n = n_not_female\n",
    "            df_female = df[df['%female']>0.5].sort_values(by=['Total Funding Amount'])[:n]\n",
    "            df_not_female = df[df['%female']<=0.5]\n",
    "            df = df_female.append(df_not_female, ignore_index=True)\n",
    "\n",
    "        \n",
    "    # initiate data\n",
    "    industry_full = []\n",
    "    industry_female = []\n",
    "    industry_not_female = []\n",
    "        \n",
    "    for i in range(df.shape[0]):\n",
    "        \n",
    "        # preprocess data\n",
    "        industry_list_raw = df[col].str.split(';')[i]\n",
    "        industry_list = [industry_name.strip() for industry_name in industry_list_raw]\n",
    "        \n",
    "        # industry counts\n",
    "        industry_full += industry_list\n",
    "        \n",
    "        # gender counts\n",
    "#         if (df['#female'][i] != 'N/A') and (df['#female'][i] > 0):\n",
    "        if (df['%female'][i] > 0.5):\n",
    "            industry_female += industry_list\n",
    "        else:\n",
    "            industry_not_female += industry_list\n",
    "    \n",
    "    industry_counts = Counter(industry_full)\n",
    "    \n",
    "    return industry_counts, industry_female, industry_not_female"
   ]
  },
  {
   "cell_type": "markdown",
   "metadata": {},
   "source": [
    "### Run Script"
   ]
  },
  {
   "cell_type": "code",
   "execution_count": 9,
   "metadata": {},
   "outputs": [],
   "source": [
    "for region in regions:\n",
    "\n",
    "    df = pd.read_csv(f'../data/crunchbase-aggregated/{region}-gender.csv')\n",
    "\n",
    "    by_industry_group = [True, False]\n",
    "    by_gender_equal = [True, False]\n",
    "\n",
    "    for big in by_industry_group:\n",
    "        for bge in by_gender_equal:\n",
    "\n",
    "            # get calculations\n",
    "            industry_counts, industry_female, industry_not_female = industry_gender(df, group=big, equal=bge)\n",
    "\n",
    "            # create new df with metrics\n",
    "            df_metrics = pd.DataFrame({'#companies': industry_counts, \n",
    "                                       '#female_co': Counter(industry_female),\n",
    "                                       '#not_female_co': Counter(industry_not_female)})\n",
    "\n",
    "            # deal with nan\n",
    "            df_metrics['#female_co'] = df_metrics['#female_co'].fillna(0)\n",
    "\n",
    "            # derived data\n",
    "            df_metrics['%female'] = df_metrics['#female_co']/df_metrics['#companies']*100\n",
    "            df_metrics['%not_female'] = 100-df_metrics['%female']\n",
    "            df_metrics.reset_index(inplace=True)\n",
    "            df_metrics.rename(columns={'index': 'industry'}, inplace=True)\n",
    "\n",
    "            # filename\n",
    "            if big and bge:\n",
    "                df_metrics.to_csv(f'../data/crunchbase-aggregated/{region}-industry_groups_updated.csv', index=False)\n",
    "            elif not big and bge:\n",
    "                df_metrics.to_csv(f'../data/crunchbase-aggregated/{region}-industries_updated.csv', index=False)\n",
    "\n",
    "    #         if big and bge:\n",
    "    #             df_metrics.to_csv(f'../data/crunchbase-aggregated/{region}-industry_groups_equal.csv', index=False)\n",
    "            if big and not bge:\n",
    "                df_metrics.to_csv(f'../data/crunchbase-aggregated/{region}-industry_groups.csv', index=False)\n",
    "    #         elif not big and bge:\n",
    "    #             df_metrics.to_csv(f'../data/crunchbase-aggregated/{region}-industries_equal.csv', index=False)\n",
    "            elif not big and not bge:\n",
    "                df_metrics.to_csv(f'../data/crunchbase-aggregated/{region}-industries.csv', index=False)"
   ]
  },
  {
   "cell_type": "markdown",
   "metadata": {},
   "source": [
    "### Run Script\n",
    "Get industry counts for cropped/equalized dataframe"
   ]
  },
  {
   "cell_type": "code",
   "execution_count": 53,
   "metadata": {},
   "outputs": [],
   "source": [
    "for region in regions:\n",
    "    for gender in ['f', 'm']:\n",
    "        for n in [98, 32]:\n",
    "\n",
    "            df = pd.read_csv(f'../data/crunchbase-cropped/{region}-{n}{gender}.csv')\n",
    "\n",
    "            by_industry_group = [True, False]\n",
    "\n",
    "            for big in by_industry_group:\n",
    "\n",
    "                # get calculations\n",
    "                industry_counts, _, _ = industry_gender(df, group=big, equal=bge)\n",
    "\n",
    "                # create new df with metrics\n",
    "                df_metrics = pd.DataFrame({'#companies': industry_counts})\n",
    "\n",
    "                # derived data\n",
    "                df_metrics.reset_index(inplace=True)\n",
    "                df_metrics.rename(columns={'index': 'industry'}, inplace=True)\n",
    "\n",
    "                # filename\n",
    "#                 if big:\n",
    "#                     df_metrics.to_csv(f'../data/crunchbase-cropped/{region}-{n}{gender}-industry_groups.csv', index=False)\n",
    "#                 elif not big:\n",
    "#                     df_metrics.to_csv(f'../data/crunchbase-cropped/{region}-{n}{gender}-industries.csv', index=False)"
   ]
  },
  {
   "cell_type": "markdown",
   "metadata": {},
   "source": [
    "### Run Script\n",
    "Aggregate cropped gender dataframes by region"
   ]
  },
  {
   "cell_type": "code",
   "execution_count": 54,
   "metadata": {},
   "outputs": [],
   "source": [
    "for region in regions:\n",
    "    for big in ['industry_groups', 'industries']:\n",
    "        \n",
    "        for n in [98, 32]:    \n",
    "            df_agg = pd.DataFrame()\n",
    "            for gender in ['f', 'm']:\n",
    "\n",
    "                df = pd.read_csv(f'../data/crunchbase-cropped/{region}-{n}{gender}-{big}.csv')\n",
    "\n",
    "                if gender=='f':\n",
    "                    df.rename(columns={'#companies': '#female_co'}, inplace=True)\n",
    "                elif gender=='m':\n",
    "                    df.rename(columns={'#companies': '#not_female_co'}, inplace=True)\n",
    "                    \n",
    "                try:\n",
    "                    df_agg = df_agg.merge(df, on='industry')\n",
    "                except:\n",
    "                    df_agg = df_agg.append(df)\n",
    "                \n",
    "#             df_agg.to_csv(f'../data/crunchbase-aggregated/{region}-{n}-{big}.csv', index=False)"
   ]
  }
 ],
 "metadata": {
  "kernelspec": {
   "display_name": "Python 3",
   "language": "python",
   "name": "python3"
  },
  "language_info": {
   "codemirror_mode": {
    "name": "ipython",
    "version": 3
   },
   "file_extension": ".py",
   "mimetype": "text/x-python",
   "name": "python",
   "nbconvert_exporter": "python",
   "pygments_lexer": "ipython3",
   "version": "3.8.5"
  }
 },
 "nbformat": 4,
 "nbformat_minor": 4
}
