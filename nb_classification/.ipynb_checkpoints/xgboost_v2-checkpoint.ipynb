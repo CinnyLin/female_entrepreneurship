{
 "cells": [
  {
   "cell_type": "markdown",
   "metadata": {},
   "source": [
    "# classification with xgboost\n",
    "model v2\n",
    "- preliminary model\n",
    "- data with toop 100 important features based on pca\n",
    "- imbalanced classification still not dealt with"
   ]
  },
  {
   "cell_type": "code",
   "execution_count": 1,
   "metadata": {},
   "outputs": [],
   "source": [
    "# ignore warnings\n",
    "import warnings\n",
    "warnings.filterwarnings(\"ignore\")\n",
    "\n",
    "# data\n",
    "import pandas as pd\n",
    "import ast\n",
    "\n",
    "# visualization\n",
    "import matplotlib.pyplot as plt\n",
    "\n",
    "# chosen models\n",
    "from xgboost import XGBClassifier\n",
    "\n",
    "# feature engineering\n",
    "from xgboost import plot_importance\n",
    "\n",
    "# model training selection\n",
    "from sklearn.model_selection import train_test_split\n",
    "\n",
    "## model evaluation metrics\n",
    "from collections import Counter\n",
    "from sklearn.metrics import accuracy_score\n",
    "from sklearn.metrics import precision_score\n",
    "from sklearn.metrics import recall_score\n",
    "from sklearn.metrics import f1_score\n",
    "from sklearn.metrics import roc_auc_score\n",
    "from sklearn.metrics import log_loss\n",
    "from sklearn.metrics import matthews_corrcoef\n",
    "from sklearn.metrics import cohen_kappa_score"
   ]
  },
  {
   "cell_type": "code",
   "execution_count": 2,
   "metadata": {},
   "outputs": [
    {
     "data": {
      "text/plain": [
       "(3000, 7353)"
      ]
     },
     "execution_count": 2,
     "metadata": {},
     "output_type": "execute_result"
    }
   ],
   "source": [
    "df = pd.read_csv('../data/combined_feng.csv', index_col=0)\n",
    "df.shape"
   ]
  },
  {
   "cell_type": "code",
   "execution_count": 3,
   "metadata": {},
   "outputs": [
    {
     "data": {
      "text/html": [
       "<div>\n",
       "<style scoped>\n",
       "    .dataframe tbody tr th:only-of-type {\n",
       "        vertical-align: middle;\n",
       "    }\n",
       "\n",
       "    .dataframe tbody tr th {\n",
       "        vertical-align: top;\n",
       "    }\n",
       "\n",
       "    .dataframe thead th {\n",
       "        text-align: right;\n",
       "    }\n",
       "</style>\n",
       "<table border=\"1\" class=\"dataframe\">\n",
       "  <thead>\n",
       "    <tr style=\"text-align: right;\">\n",
       "      <th></th>\n",
       "      <th>Number of Founders</th>\n",
       "      <th>Number of Funding Rounds</th>\n",
       "      <th>Trend Score (7 Days)</th>\n",
       "      <th>Trend Score (30 Days)</th>\n",
       "      <th>Trend Score (90 Days)</th>\n",
       "      <th>Early Stage Venture</th>\n",
       "      <th>M&amp;A</th>\n",
       "      <th>Seed</th>\n",
       "      <th>Made Acquisitions</th>\n",
       "      <th>Made Acquisitions; Was Acquired</th>\n",
       "      <th>...</th>\n",
       "      <th>last_funding_amount</th>\n",
       "      <th>cvr</th>\n",
       "      <th>last_funding_amount_usd</th>\n",
       "      <th>last_equity_funding_amount</th>\n",
       "      <th>last_equity_funding_amount_usd</th>\n",
       "      <th>total_equity_funding_amount</th>\n",
       "      <th>total_equity_funding_amount_usd</th>\n",
       "      <th>total_funding_amount</th>\n",
       "      <th>total_funding_amount_usd</th>\n",
       "      <th>female_led</th>\n",
       "    </tr>\n",
       "    <tr>\n",
       "      <th>Organization Name</th>\n",
       "      <th></th>\n",
       "      <th></th>\n",
       "      <th></th>\n",
       "      <th></th>\n",
       "      <th></th>\n",
       "      <th></th>\n",
       "      <th></th>\n",
       "      <th></th>\n",
       "      <th></th>\n",
       "      <th></th>\n",
       "      <th></th>\n",
       "      <th></th>\n",
       "      <th></th>\n",
       "      <th></th>\n",
       "      <th></th>\n",
       "      <th></th>\n",
       "      <th></th>\n",
       "      <th></th>\n",
       "      <th></th>\n",
       "      <th></th>\n",
       "      <th></th>\n",
       "    </tr>\n",
       "  </thead>\n",
       "  <tbody>\n",
       "    <tr>\n",
       "      <th>CMC</th>\n",
       "      <td>1</td>\n",
       "      <td>1</td>\n",
       "      <td>-0.4</td>\n",
       "      <td>-0.8</td>\n",
       "      <td>-1.2</td>\n",
       "      <td>1.0</td>\n",
       "      <td>0.0</td>\n",
       "      <td>0.0</td>\n",
       "      <td>0.0</td>\n",
       "      <td>0.0</td>\n",
       "      <td>...</td>\n",
       "      <td>10000000000</td>\n",
       "      <td>0.16</td>\n",
       "      <td>1.600000e+09</td>\n",
       "      <td>10000000000</td>\n",
       "      <td>1.600000e+09</td>\n",
       "      <td>10000000000</td>\n",
       "      <td>1.600000e+09</td>\n",
       "      <td>10000000000</td>\n",
       "      <td>1.600000e+09</td>\n",
       "      <td>0</td>\n",
       "    </tr>\n",
       "    <tr>\n",
       "      <th>Ping An Healthcare Management</th>\n",
       "      <td>1</td>\n",
       "      <td>1</td>\n",
       "      <td>-0.1</td>\n",
       "      <td>-0.2</td>\n",
       "      <td>-0.4</td>\n",
       "      <td>1.0</td>\n",
       "      <td>0.0</td>\n",
       "      <td>0.0</td>\n",
       "      <td>0.0</td>\n",
       "      <td>0.0</td>\n",
       "      <td>...</td>\n",
       "      <td>1150000000</td>\n",
       "      <td>1.00</td>\n",
       "      <td>1.150000e+09</td>\n",
       "      <td>1150000000</td>\n",
       "      <td>1.150000e+09</td>\n",
       "      <td>1150000000</td>\n",
       "      <td>1.150000e+09</td>\n",
       "      <td>1150000000</td>\n",
       "      <td>1.150000e+09</td>\n",
       "      <td>0</td>\n",
       "    </tr>\n",
       "    <tr>\n",
       "      <th>LeSee</th>\n",
       "      <td>1</td>\n",
       "      <td>1</td>\n",
       "      <td>-0.4</td>\n",
       "      <td>0.0</td>\n",
       "      <td>-0.5</td>\n",
       "      <td>1.0</td>\n",
       "      <td>0.0</td>\n",
       "      <td>0.0</td>\n",
       "      <td>0.0</td>\n",
       "      <td>0.0</td>\n",
       "      <td>...</td>\n",
       "      <td>1080000000</td>\n",
       "      <td>1.00</td>\n",
       "      <td>1.080000e+09</td>\n",
       "      <td>1080000000</td>\n",
       "      <td>1.080000e+09</td>\n",
       "      <td>1080000000</td>\n",
       "      <td>1.080000e+09</td>\n",
       "      <td>1080000000</td>\n",
       "      <td>1.080000e+09</td>\n",
       "      <td>0</td>\n",
       "    </tr>\n",
       "  </tbody>\n",
       "</table>\n",
       "<p>3 rows × 7353 columns</p>\n",
       "</div>"
      ],
      "text/plain": [
       "                               Number of Founders  Number of Funding Rounds  \\\n",
       "Organization Name                                                             \n",
       "CMC                                             1                         1   \n",
       "Ping An Healthcare Management                   1                         1   \n",
       "LeSee                                           1                         1   \n",
       "\n",
       "                               Trend Score (7 Days)  Trend Score (30 Days)  \\\n",
       "Organization Name                                                            \n",
       "CMC                                            -0.4                   -0.8   \n",
       "Ping An Healthcare Management                  -0.1                   -0.2   \n",
       "LeSee                                          -0.4                    0.0   \n",
       "\n",
       "                               Trend Score (90 Days)  Early Stage Venture  \\\n",
       "Organization Name                                                           \n",
       "CMC                                             -1.2                  1.0   \n",
       "Ping An Healthcare Management                   -0.4                  1.0   \n",
       "LeSee                                           -0.5                  1.0   \n",
       "\n",
       "                               M&A  Seed  Made Acquisitions  \\\n",
       "Organization Name                                             \n",
       "CMC                            0.0   0.0                0.0   \n",
       "Ping An Healthcare Management  0.0   0.0                0.0   \n",
       "LeSee                          0.0   0.0                0.0   \n",
       "\n",
       "                               Made Acquisitions; Was Acquired  ...  \\\n",
       "Organization Name                                               ...   \n",
       "CMC                                                        0.0  ...   \n",
       "Ping An Healthcare Management                              0.0  ...   \n",
       "LeSee                                                      0.0  ...   \n",
       "\n",
       "                               last_funding_amount   cvr  \\\n",
       "Organization Name                                          \n",
       "CMC                                    10000000000  0.16   \n",
       "Ping An Healthcare Management           1150000000  1.00   \n",
       "LeSee                                   1080000000  1.00   \n",
       "\n",
       "                               last_funding_amount_usd  \\\n",
       "Organization Name                                        \n",
       "CMC                                       1.600000e+09   \n",
       "Ping An Healthcare Management             1.150000e+09   \n",
       "LeSee                                     1.080000e+09   \n",
       "\n",
       "                               last_equity_funding_amount  \\\n",
       "Organization Name                                           \n",
       "CMC                                           10000000000   \n",
       "Ping An Healthcare Management                  1150000000   \n",
       "LeSee                                          1080000000   \n",
       "\n",
       "                               last_equity_funding_amount_usd  \\\n",
       "Organization Name                                               \n",
       "CMC                                              1.600000e+09   \n",
       "Ping An Healthcare Management                    1.150000e+09   \n",
       "LeSee                                            1.080000e+09   \n",
       "\n",
       "                               total_equity_funding_amount  \\\n",
       "Organization Name                                            \n",
       "CMC                                            10000000000   \n",
       "Ping An Healthcare Management                   1150000000   \n",
       "LeSee                                           1080000000   \n",
       "\n",
       "                               total_equity_funding_amount_usd  \\\n",
       "Organization Name                                                \n",
       "CMC                                               1.600000e+09   \n",
       "Ping An Healthcare Management                     1.150000e+09   \n",
       "LeSee                                             1.080000e+09   \n",
       "\n",
       "                               total_funding_amount  total_funding_amount_usd  \\\n",
       "Organization Name                                                               \n",
       "CMC                                     10000000000              1.600000e+09   \n",
       "Ping An Healthcare Management            1150000000              1.150000e+09   \n",
       "LeSee                                    1080000000              1.080000e+09   \n",
       "\n",
       "                               female_led  \n",
       "Organization Name                          \n",
       "CMC                                     0  \n",
       "Ping An Healthcare Management           0  \n",
       "LeSee                                   0  \n",
       "\n",
       "[3 rows x 7353 columns]"
      ]
     },
     "execution_count": 3,
     "metadata": {},
     "output_type": "execute_result"
    }
   ],
   "source": [
    "df.head(3)"
   ]
  },
  {
   "cell_type": "markdown",
   "metadata": {},
   "source": [
    "### get top 100 features based on pca"
   ]
  },
  {
   "cell_type": "code",
   "execution_count": 4,
   "metadata": {},
   "outputs": [],
   "source": [
    "with open('high_var_org_col_index100.txt', 'r') as reader:\n",
    "    high_var_org_col_index = reader.read()"
   ]
  },
  {
   "cell_type": "code",
   "execution_count": 5,
   "metadata": {},
   "outputs": [],
   "source": [
    "high_var_org_col_index = ast.literal_eval(high_var_org_col_index)"
   ]
  },
  {
   "cell_type": "code",
   "execution_count": 6,
   "metadata": {},
   "outputs": [],
   "source": [
    "df100 = df[df.columns[high_var_org_col_index]]"
   ]
  },
  {
   "cell_type": "code",
   "execution_count": null,
   "metadata": {},
   "outputs": [],
   "source": []
  },
  {
   "cell_type": "markdown",
   "metadata": {},
   "source": [
    "### split data"
   ]
  },
  {
   "cell_type": "code",
   "execution_count": 7,
   "metadata": {},
   "outputs": [],
   "source": [
    "# get data\n",
    "X = df100\n",
    "y = df['female_led']"
   ]
  },
  {
   "cell_type": "code",
   "execution_count": 8,
   "metadata": {},
   "outputs": [],
   "source": [
    "# split data\n",
    "X_train, X_test, y_train, y_test = train_test_split(X, y, test_size=0.33, random_state=42)"
   ]
  },
  {
   "cell_type": "markdown",
   "metadata": {},
   "source": [
    "## model evaluation"
   ]
  },
  {
   "cell_type": "code",
   "execution_count": 9,
   "metadata": {},
   "outputs": [],
   "source": [
    "def metrics(y_true, y_pred):\n",
    "    accuracy = accuracy_score(y_true, y_pred) #perfect=1\n",
    "    precision = precision_score(y_true, y_pred) #perfect=1\n",
    "    recall = recall_score(y_true, y_pred) #perfect=1\n",
    "    f1 = f1_score(y_true, y_pred) #perfect=1\n",
    "#     roc_auc = roc_auc_score(y, clf.decision_function(X)) #perfect=1\n",
    "#     log = log_loss(y_true, y_pred) #perfect=0\n",
    "    mcc = matthews_corrcoef(y_true, y_pred) #perfect=1\n",
    "    kappa = cohen_kappa_score(y_true, y_pred) #perfect=1\n",
    "    \n",
    "#     print(f'accuracy={accuracy},\\\n",
    "#             precision={precision}, recall={recall}, \\\n",
    "#             f1={f1}, mcc={mcc}, kappa={kappa}')\n",
    "\n",
    "    return [accuracy, precision, recall, f1, mcc, kappa]"
   ]
  },
  {
   "cell_type": "code",
   "execution_count": 10,
   "metadata": {},
   "outputs": [],
   "source": [
    "def evaluate(model, X_train=X_train, X_test=X_test):\n",
    "    model.fit(X_train, y_train)\n",
    "    y_pred = model.predict(X_test)\n",
    "    return metrics(y_test, y_pred)"
   ]
  },
  {
   "cell_type": "markdown",
   "metadata": {},
   "source": [
    "## machine learning"
   ]
  },
  {
   "cell_type": "code",
   "execution_count": 11,
   "metadata": {},
   "outputs": [],
   "source": [
    "xgb = XGBClassifier()"
   ]
  },
  {
   "cell_type": "code",
   "execution_count": 12,
   "metadata": {},
   "outputs": [
    {
     "name": "stdout",
     "output_type": "stream",
     "text": [
      "[19:45:12] WARNING: /Users/travis/build/dmlc/xgboost/src/learner.cc:1095: Starting in XGBoost 1.3.0, the default evaluation metric used with the objective 'binary:logistic' was changed from 'error' to 'logloss'. Explicitly set eval_metric if you'd like to restore the old behavior.\n"
     ]
    },
    {
     "data": {
      "text/plain": [
       "[0.9565656565656566,\n",
       " 0.0,\n",
       " 0.0,\n",
       " 0.0,\n",
       " -0.015386239477696191,\n",
       " -0.01053980914399677]"
      ]
     },
     "execution_count": 12,
     "metadata": {},
     "output_type": "execute_result"
    }
   ],
   "source": [
    "metrics_xgb = evaluate(xgb)\n",
    "metrics_xgb"
   ]
  },
  {
   "cell_type": "markdown",
   "metadata": {},
   "source": [
    "Result is high in accuracy but precision and recall rate is even lower than before because the classification label is extremely imbalanced: the negative class takes up 95% of the dataset. Dealing with imbalanced class is necessary."
   ]
  },
  {
   "cell_type": "code",
   "execution_count": 13,
   "metadata": {},
   "outputs": [],
   "source": [
    "important_features_dict = xgb.get_booster().get_score(importance_type='weight')\n",
    "important_cols = list(important_features_dict.keys())"
   ]
  },
  {
   "cell_type": "code",
   "execution_count": 14,
   "metadata": {},
   "outputs": [
    {
     "data": {
      "text/plain": [
       "6"
      ]
     },
     "execution_count": 14,
     "metadata": {},
     "output_type": "execute_result"
    }
   ],
   "source": [
    "len(important_cols)"
   ]
  },
  {
   "cell_type": "code",
   "execution_count": 15,
   "metadata": {},
   "outputs": [
    {
     "data": {
      "text/plain": [
       "<AxesSubplot:title={'center':'Feature importance'}, xlabel='F score', ylabel='Features'>"
      ]
     },
     "execution_count": 15,
     "metadata": {},
     "output_type": "execute_result"
    },
    {
     "data": {
      "image/png": "[encoded data removed]",
      "text/plain": [
       "<Figure size 432x288 with 1 Axes>"
      ]
     },
     "metadata": {
      "needs_background": "light"
     },
     "output_type": "display_data"
    }
   ],
   "source": [
    "# plt.rcParams[\"figure.figsize\"] = (20, 15)\n",
    "plot_importance(xgb, max_num_features=50)"
   ]
  },
  {
   "cell_type": "markdown",
   "metadata": {},
   "source": [
    "Somehow the selected PCA columns also resulted in a very different feature selection in the xgboost model compared to the first time. Out of the 100, xgboost selected 6. In the first model, xgboost selected 92 out of 7532."
   ]
  },
  {
   "cell_type": "markdown",
   "metadata": {},
   "source": [
    "### Version Differences\n",
    "\n",
    "model_version | feature selection | imbalanced class | hyperparameter tuning | cross validation\n",
    "--------------|-------------------|------------------|-----------------------|-----------------\n",
    "xgboost_v1 | no | no | no | no\n",
    "xgboost_v2 | yes, top100 | no | no | no"
   ]
  },
  {
   "cell_type": "markdown",
   "metadata": {},
   "source": [
    "### Model Results\n",
    "\n",
    "model_version | settings | accuracy | precision | recall | f1 | mcc | kappa\n",
    "--------------|----------|----------|-----------|--------|----|-----|------\n",
    "xgboost_v1 | n/a | 0.9575757575757575 | 0.14285714285714285 | 0.02702702702702703 | 0.045454545454545456 | 0.0469293226254877 | 0.033966823103015686\n",
    "xgboost_v2 | top100 features | 0.9565656565656566 | 0.0 | 0.0 | 0.0 | -0.015386239477696191 | -0.01053980914399677"
   ]
  },
  {
   "cell_type": "code",
   "execution_count": null,
   "metadata": {},
   "outputs": [],
   "source": []
  }
 ],
 "metadata": {
  "kernelspec": {
   "display_name": "Python 3",
   "language": "python",
   "name": "python3"
  },
  "language_info": {
   "codemirror_mode": {
    "name": "ipython",
    "version": 3
   },
   "file_extension": ".py",
   "mimetype": "text/x-python",
   "name": "python",
   "nbconvert_exporter": "python",
   "pygments_lexer": "ipython3",
   "version": "3.8.5"
  }
 },
 "nbformat": 4,
 "nbformat_minor": 4
}
