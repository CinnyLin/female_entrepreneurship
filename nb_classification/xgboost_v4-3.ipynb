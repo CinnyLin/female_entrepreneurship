{
 "cells": [
  {
   "cell_type": "markdown",
   "metadata": {},
   "source": [
    "# classification with xgboost\n",
    "model v4\n",
    "- preliminary model (no hyperparameter tuning)\n",
    "- data with all 1352 important features based on pca and threshold\n",
    "- imbalanced classification dealt with using weighted xgboost (`scale_pos_weight`)"
   ]
  },
  {
   "cell_type": "code",
   "execution_count": 1,
   "metadata": {},
   "outputs": [],
   "source": [
    "# ignore warnings\n",
    "import warnings\n",
    "warnings.filterwarnings(\"ignore\")\n",
    "\n",
    "# data\n",
    "import pandas as pd\n",
    "import ast\n",
    "from numpy import mean\n",
    "\n",
    "# visualization\n",
    "import matplotlib.pyplot as plt\n",
    "\n",
    "# chosen models\n",
    "from xgboost import XGBClassifier\n",
    "\n",
    "# feature engineering\n",
    "from xgboost import plot_importance\n",
    "\n",
    "# model training selection\n",
    "from sklearn.model_selection import train_test_split\n",
    "# from sklearn.model_selection import RepeatedStratifiedKFold\n",
    "\n",
    "## model evaluation metrics\n",
    "from collections import Counter\n",
    "# from sklearn.model_selection import cross_val_score\n",
    "from sklearn.metrics import accuracy_score\n",
    "from sklearn.metrics import precision_score\n",
    "from sklearn.metrics import recall_score\n",
    "from sklearn.metrics import f1_score\n",
    "from sklearn.metrics import roc_auc_score\n",
    "from sklearn.metrics import log_loss\n",
    "from sklearn.metrics import matthews_corrcoef\n",
    "from sklearn.metrics import cohen_kappa_score"
   ]
  },
  {
   "cell_type": "code",
   "execution_count": 2,
   "metadata": {},
   "outputs": [
    {
     "data": {
      "text/plain": [
       "(3000, 7353)"
      ]
     },
     "execution_count": 2,
     "metadata": {},
     "output_type": "execute_result"
    }
   ],
   "source": [
    "df = pd.read_csv('../data/combined_feng3.csv', index_col=0)\n",
    "df.shape"
   ]
  },
  {
   "cell_type": "code",
   "execution_count": 3,
   "metadata": {},
   "outputs": [
    {
     "data": {
      "text/html": [
       "<div>\n",
       "<style scoped>\n",
       "    .dataframe tbody tr th:only-of-type {\n",
       "        vertical-align: middle;\n",
       "    }\n",
       "\n",
       "    .dataframe tbody tr th {\n",
       "        vertical-align: top;\n",
       "    }\n",
       "\n",
       "    .dataframe thead th {\n",
       "        text-align: right;\n",
       "    }\n",
       "</style>\n",
       "<table border=\"1\" class=\"dataframe\">\n",
       "  <thead>\n",
       "    <tr style=\"text-align: right;\">\n",
       "      <th></th>\n",
       "      <th>Number of Founders</th>\n",
       "      <th>Number of Funding Rounds</th>\n",
       "      <th>Trend Score (7 Days)</th>\n",
       "      <th>Trend Score (30 Days)</th>\n",
       "      <th>Trend Score (90 Days)</th>\n",
       "      <th>Early Stage Venture</th>\n",
       "      <th>M&amp;A</th>\n",
       "      <th>Seed</th>\n",
       "      <th>Made Acquisitions</th>\n",
       "      <th>Made Acquisitions; Was Acquired</th>\n",
       "      <th>...</th>\n",
       "      <th>last_funding_amount</th>\n",
       "      <th>cvr</th>\n",
       "      <th>last_funding_amount_usd</th>\n",
       "      <th>last_equity_funding_amount</th>\n",
       "      <th>last_equity_funding_amount_usd</th>\n",
       "      <th>total_equity_funding_amount</th>\n",
       "      <th>total_equity_funding_amount_usd</th>\n",
       "      <th>total_funding_amount</th>\n",
       "      <th>total_funding_amount_usd</th>\n",
       "      <th>female_led</th>\n",
       "    </tr>\n",
       "    <tr>\n",
       "      <th>Organization Name</th>\n",
       "      <th></th>\n",
       "      <th></th>\n",
       "      <th></th>\n",
       "      <th></th>\n",
       "      <th></th>\n",
       "      <th></th>\n",
       "      <th></th>\n",
       "      <th></th>\n",
       "      <th></th>\n",
       "      <th></th>\n",
       "      <th></th>\n",
       "      <th></th>\n",
       "      <th></th>\n",
       "      <th></th>\n",
       "      <th></th>\n",
       "      <th></th>\n",
       "      <th></th>\n",
       "      <th></th>\n",
       "      <th></th>\n",
       "      <th></th>\n",
       "      <th></th>\n",
       "    </tr>\n",
       "  </thead>\n",
       "  <tbody>\n",
       "    <tr>\n",
       "      <th>CMC</th>\n",
       "      <td>1</td>\n",
       "      <td>1</td>\n",
       "      <td>-0.4</td>\n",
       "      <td>-0.8</td>\n",
       "      <td>-1.2</td>\n",
       "      <td>1.0</td>\n",
       "      <td>0.0</td>\n",
       "      <td>0.0</td>\n",
       "      <td>0.0</td>\n",
       "      <td>0.0</td>\n",
       "      <td>...</td>\n",
       "      <td>10000000000</td>\n",
       "      <td>0.16</td>\n",
       "      <td>1.600000e+09</td>\n",
       "      <td>10000000000</td>\n",
       "      <td>1.600000e+09</td>\n",
       "      <td>10000000000</td>\n",
       "      <td>1.600000e+09</td>\n",
       "      <td>10000000000</td>\n",
       "      <td>1.600000e+09</td>\n",
       "      <td>2</td>\n",
       "    </tr>\n",
       "    <tr>\n",
       "      <th>Ping An Healthcare Management</th>\n",
       "      <td>1</td>\n",
       "      <td>1</td>\n",
       "      <td>-0.1</td>\n",
       "      <td>-0.2</td>\n",
       "      <td>-0.4</td>\n",
       "      <td>1.0</td>\n",
       "      <td>0.0</td>\n",
       "      <td>0.0</td>\n",
       "      <td>0.0</td>\n",
       "      <td>0.0</td>\n",
       "      <td>...</td>\n",
       "      <td>1150000000</td>\n",
       "      <td>1.00</td>\n",
       "      <td>1.150000e+09</td>\n",
       "      <td>1150000000</td>\n",
       "      <td>1.150000e+09</td>\n",
       "      <td>1150000000</td>\n",
       "      <td>1.150000e+09</td>\n",
       "      <td>1150000000</td>\n",
       "      <td>1.150000e+09</td>\n",
       "      <td>2</td>\n",
       "    </tr>\n",
       "    <tr>\n",
       "      <th>LeSee</th>\n",
       "      <td>1</td>\n",
       "      <td>1</td>\n",
       "      <td>-0.4</td>\n",
       "      <td>0.0</td>\n",
       "      <td>-0.5</td>\n",
       "      <td>1.0</td>\n",
       "      <td>0.0</td>\n",
       "      <td>0.0</td>\n",
       "      <td>0.0</td>\n",
       "      <td>0.0</td>\n",
       "      <td>...</td>\n",
       "      <td>1080000000</td>\n",
       "      <td>1.00</td>\n",
       "      <td>1.080000e+09</td>\n",
       "      <td>1080000000</td>\n",
       "      <td>1.080000e+09</td>\n",
       "      <td>1080000000</td>\n",
       "      <td>1.080000e+09</td>\n",
       "      <td>1080000000</td>\n",
       "      <td>1.080000e+09</td>\n",
       "      <td>2</td>\n",
       "    </tr>\n",
       "  </tbody>\n",
       "</table>\n",
       "<p>3 rows × 7353 columns</p>\n",
       "</div>"
      ],
      "text/plain": [
       "                               Number of Founders  Number of Funding Rounds  \\\n",
       "Organization Name                                                             \n",
       "CMC                                             1                         1   \n",
       "Ping An Healthcare Management                   1                         1   \n",
       "LeSee                                           1                         1   \n",
       "\n",
       "                               Trend Score (7 Days)  Trend Score (30 Days)  \\\n",
       "Organization Name                                                            \n",
       "CMC                                            -0.4                   -0.8   \n",
       "Ping An Healthcare Management                  -0.1                   -0.2   \n",
       "LeSee                                          -0.4                    0.0   \n",
       "\n",
       "                               Trend Score (90 Days)  Early Stage Venture  \\\n",
       "Organization Name                                                           \n",
       "CMC                                             -1.2                  1.0   \n",
       "Ping An Healthcare Management                   -0.4                  1.0   \n",
       "LeSee                                           -0.5                  1.0   \n",
       "\n",
       "                               M&A  Seed  Made Acquisitions  \\\n",
       "Organization Name                                             \n",
       "CMC                            0.0   0.0                0.0   \n",
       "Ping An Healthcare Management  0.0   0.0                0.0   \n",
       "LeSee                          0.0   0.0                0.0   \n",
       "\n",
       "                               Made Acquisitions; Was Acquired  ...  \\\n",
       "Organization Name                                               ...   \n",
       "CMC                                                        0.0  ...   \n",
       "Ping An Healthcare Management                              0.0  ...   \n",
       "LeSee                                                      0.0  ...   \n",
       "\n",
       "                               last_funding_amount   cvr  \\\n",
       "Organization Name                                          \n",
       "CMC                                    10000000000  0.16   \n",
       "Ping An Healthcare Management           1150000000  1.00   \n",
       "LeSee                                   1080000000  1.00   \n",
       "\n",
       "                               last_funding_amount_usd  \\\n",
       "Organization Name                                        \n",
       "CMC                                       1.600000e+09   \n",
       "Ping An Healthcare Management             1.150000e+09   \n",
       "LeSee                                     1.080000e+09   \n",
       "\n",
       "                               last_equity_funding_amount  \\\n",
       "Organization Name                                           \n",
       "CMC                                           10000000000   \n",
       "Ping An Healthcare Management                  1150000000   \n",
       "LeSee                                          1080000000   \n",
       "\n",
       "                               last_equity_funding_amount_usd  \\\n",
       "Organization Name                                               \n",
       "CMC                                              1.600000e+09   \n",
       "Ping An Healthcare Management                    1.150000e+09   \n",
       "LeSee                                            1.080000e+09   \n",
       "\n",
       "                               total_equity_funding_amount  \\\n",
       "Organization Name                                            \n",
       "CMC                                            10000000000   \n",
       "Ping An Healthcare Management                   1150000000   \n",
       "LeSee                                           1080000000   \n",
       "\n",
       "                               total_equity_funding_amount_usd  \\\n",
       "Organization Name                                                \n",
       "CMC                                               1.600000e+09   \n",
       "Ping An Healthcare Management                     1.150000e+09   \n",
       "LeSee                                             1.080000e+09   \n",
       "\n",
       "                               total_funding_amount  total_funding_amount_usd  \\\n",
       "Organization Name                                                               \n",
       "CMC                                     10000000000              1.600000e+09   \n",
       "Ping An Healthcare Management            1150000000              1.150000e+09   \n",
       "LeSee                                    1080000000              1.080000e+09   \n",
       "\n",
       "                               female_led  \n",
       "Organization Name                          \n",
       "CMC                                     2  \n",
       "Ping An Healthcare Management           2  \n",
       "LeSee                                   2  \n",
       "\n",
       "[3 rows x 7353 columns]"
      ]
     },
     "execution_count": 3,
     "metadata": {},
     "output_type": "execute_result"
    }
   ],
   "source": [
    "df.head(3)"
   ]
  },
  {
   "cell_type": "markdown",
   "metadata": {},
   "source": [
    "### get all top features based on pca"
   ]
  },
  {
   "cell_type": "code",
   "execution_count": 4,
   "metadata": {},
   "outputs": [],
   "source": [
    "with open('high_var_org_col_index.txt', 'r') as reader:\n",
    "    high_var_org_col_index = reader.read()"
   ]
  },
  {
   "cell_type": "code",
   "execution_count": 5,
   "metadata": {},
   "outputs": [],
   "source": [
    "high_var_org_col_index = ast.literal_eval(high_var_org_col_index)"
   ]
  },
  {
   "cell_type": "code",
   "execution_count": 6,
   "metadata": {},
   "outputs": [],
   "source": [
    "df1352 = df[df.columns[high_var_org_col_index]]"
   ]
  },
  {
   "cell_type": "markdown",
   "metadata": {},
   "source": [
    "### split data"
   ]
  },
  {
   "cell_type": "code",
   "execution_count": 7,
   "metadata": {},
   "outputs": [],
   "source": [
    "# get data\n",
    "X = df1352\n",
    "y = df['female_led']"
   ]
  },
  {
   "cell_type": "code",
   "execution_count": 8,
   "metadata": {},
   "outputs": [],
   "source": [
    "# split data\n",
    "X_train, X_test, y_train, y_test = train_test_split(X, y, test_size=0.33, random_state=42)"
   ]
  },
  {
   "cell_type": "markdown",
   "metadata": {},
   "source": [
    "## model evaluation"
   ]
  },
  {
   "cell_type": "code",
   "execution_count": 9,
   "metadata": {},
   "outputs": [],
   "source": [
    "#metrics3\n",
    "def metrics(y_true, y_pred):\n",
    "    accuracy = accuracy_score(y_true, y_pred) #perfect=1\n",
    "    \n",
    "    ### adjust average for multiclass\n",
    "    precision = precision_score(y_true, y_pred, average='micro') #perfect=1\n",
    "    recall = recall_score(y_true, y_pred, average='micro') #perfect=1\n",
    "    f1 = f1_score(y_true, y_pred, average='micro') #perfect=1\n",
    "\n",
    "    # roc_auc = roc_auc_score(y, clf.decision_function(X)) #perfect=1\n",
    "    # log = log_loss(y_true, y_pred) #perfect=0\n",
    "    \n",
    "    mcc = matthews_corrcoef(y_true, y_pred) #perfect=1\n",
    "    kappa = cohen_kappa_score(y_true, y_pred) #perfect=1\n",
    "    \n",
    "#     print(f'accuracy={accuracy},\\\n",
    "#             precision={precision}, recall={recall}, \\\n",
    "#             f1={f1}, mcc={mcc}, kappa={kappa}')\n",
    "    \n",
    "#     return [accuracy, precision, recall]\n",
    "    return [accuracy, precision, recall, f1, mcc, kappa]"
   ]
  },
  {
   "cell_type": "code",
   "execution_count": 10,
   "metadata": {},
   "outputs": [],
   "source": [
    "def evaluate(model, X_train=X_train, X_test=X_test):\n",
    "    model.fit(X_train, y_train)\n",
    "    y_pred = model.predict(X_test)\n",
    "    return metrics(y_test, y_pred)"
   ]
  },
  {
   "cell_type": "markdown",
   "metadata": {},
   "source": [
    "## machine learning\n",
    "\n",
    "Gradients are used as the basis for fitting subsequent trees added to boost or correct errors made by the existing state of the ensemble of decision trees.\n",
    "\n",
    "The `scale_pos_weight` value is used to scale the gradient for the positive class. The scale_pos_weight can be used to train a class-weighted or cost-sensitive version of XGBoost for imbalanced classification.\n",
    "\n",
    "A sensible default value to set for the scale_pos_weight hyperparameter is the inverse of the class distribution. For example, for a dataset with a 1 to 100 ratio for examples in the minority to majority classes, the scale_pos_weight can be set to 100. This will give classification errors made by the model on the minority class (positive class) 100 times more impact, and in turn, 100 times more correction than errors made on the majority class."
   ]
  },
  {
   "cell_type": "code",
   "execution_count": 11,
   "metadata": {},
   "outputs": [
    {
     "data": {
      "text/plain": [
       "2    2692\n",
       "1     166\n",
       "0     142\n",
       "Name: female_led, dtype: int64"
      ]
     },
     "execution_count": 11,
     "metadata": {},
     "output_type": "execute_result"
    }
   ],
   "source": [
    "y.value_counts()"
   ]
  },
  {
   "cell_type": "code",
   "execution_count": 12,
   "metadata": {},
   "outputs": [
    {
     "data": {
      "text/plain": [
       "20.12676056338028"
      ]
     },
     "execution_count": 12,
     "metadata": {},
     "output_type": "execute_result"
    }
   ],
   "source": [
    "2858/142 #class imbalance proportion"
   ]
  },
  {
   "cell_type": "code",
   "execution_count": 13,
   "metadata": {},
   "outputs": [],
   "source": [
    "xgb = XGBClassifier(scale_pos_weight=20)"
   ]
  },
  {
   "cell_type": "code",
   "execution_count": 14,
   "metadata": {},
   "outputs": [
    {
     "name": "stdout",
     "output_type": "stream",
     "text": [
      "[16:30:35] WARNING: /Users/travis/build/dmlc/xgboost/src/learner.cc:573: \n",
      "Parameters: { \"scale_pos_weight\" } might not be used.\n",
      "\n",
      "  This may not be accurate due to some parameters are only used in language bindings but\n",
      "  passed down to XGBoost core.  Or some parameters are not used but slip through this\n",
      "  verification. Please open an issue if you find above cases.\n",
      "\n",
      "\n",
      "[16:30:35] WARNING: /Users/travis/build/dmlc/xgboost/src/learner.cc:1095: Starting in XGBoost 1.3.0, the default evaluation metric used with the objective 'multi:softprob' was changed from 'merror' to 'mlogloss'. Explicitly set eval_metric if you'd like to restore the old behavior.\n"
     ]
    },
    {
     "data": {
      "text/plain": [
       "[0.8787878787878788,\n",
       " 0.8787878787878788,\n",
       " 0.8787878787878788,\n",
       " 0.8787878787878788,\n",
       " 0.07061146220890892,\n",
       " 0.05069360097168063]"
      ]
     },
     "execution_count": 14,
     "metadata": {},
     "output_type": "execute_result"
    }
   ],
   "source": [
    "metrics_xgb = evaluate(xgb)\n",
    "metrics_xgb"
   ]
  },
  {
   "cell_type": "markdown",
   "metadata": {},
   "source": [
    "Result is high in accuracy but precision and recall rate is still low before because the classification label is extremely imbalanced: the negative class takes up 95% of the dataset. Dealing with imbalanced class is necessary."
   ]
  },
  {
   "cell_type": "code",
   "execution_count": 15,
   "metadata": {},
   "outputs": [],
   "source": [
    "xgb = XGBClassifier(scale_pos_weight=30)"
   ]
  },
  {
   "cell_type": "code",
   "execution_count": 16,
   "metadata": {},
   "outputs": [
    {
     "name": "stdout",
     "output_type": "stream",
     "text": [
      "[16:30:40] WARNING: /Users/travis/build/dmlc/xgboost/src/learner.cc:573: \n",
      "Parameters: { \"scale_pos_weight\" } might not be used.\n",
      "\n",
      "  This may not be accurate due to some parameters are only used in language bindings but\n",
      "  passed down to XGBoost core.  Or some parameters are not used but slip through this\n",
      "  verification. Please open an issue if you find above cases.\n",
      "\n",
      "\n",
      "[16:30:40] WARNING: /Users/travis/build/dmlc/xgboost/src/learner.cc:1095: Starting in XGBoost 1.3.0, the default evaluation metric used with the objective 'multi:softprob' was changed from 'merror' to 'mlogloss'. Explicitly set eval_metric if you'd like to restore the old behavior.\n"
     ]
    },
    {
     "data": {
      "text/plain": [
       "[0.8787878787878788,\n",
       " 0.8787878787878788,\n",
       " 0.8787878787878788,\n",
       " 0.8787878787878788,\n",
       " 0.07061146220890892,\n",
       " 0.05069360097168063]"
      ]
     },
     "execution_count": 16,
     "metadata": {},
     "output_type": "execute_result"
    }
   ],
   "source": [
    "metrics_xgb = evaluate(xgb)\n",
    "metrics_xgb"
   ]
  },
  {
   "cell_type": "code",
   "execution_count": 17,
   "metadata": {},
   "outputs": [
    {
     "name": "stdout",
     "output_type": "stream",
     "text": [
      "[16:30:47] WARNING: /Users/travis/build/dmlc/xgboost/src/learner.cc:573: \n",
      "Parameters: { \"scale_pos_weight\" } might not be used.\n",
      "\n",
      "  This may not be accurate due to some parameters are only used in language bindings but\n",
      "  passed down to XGBoost core.  Or some parameters are not used but slip through this\n",
      "  verification. Please open an issue if you find above cases.\n",
      "\n",
      "\n",
      "[16:30:47] WARNING: /Users/travis/build/dmlc/xgboost/src/learner.cc:1095: Starting in XGBoost 1.3.0, the default evaluation metric used with the objective 'multi:softprob' was changed from 'merror' to 'mlogloss'. Explicitly set eval_metric if you'd like to restore the old behavior.\n",
      "20 [0.8787878787878788, 0.8787878787878788, 0.8787878787878788, 0.8787878787878788, 0.07061146220890892, 0.05069360097168063]\n",
      "[16:30:53] WARNING: /Users/travis/build/dmlc/xgboost/src/learner.cc:573: \n",
      "Parameters: { \"scale_pos_weight\" } might not be used.\n",
      "\n",
      "  This may not be accurate due to some parameters are only used in language bindings but\n",
      "  passed down to XGBoost core.  Or some parameters are not used but slip through this\n",
      "  verification. Please open an issue if you find above cases.\n",
      "\n",
      "\n",
      "[16:30:53] WARNING: /Users/travis/build/dmlc/xgboost/src/learner.cc:1095: Starting in XGBoost 1.3.0, the default evaluation metric used with the objective 'multi:softprob' was changed from 'merror' to 'mlogloss'. Explicitly set eval_metric if you'd like to restore the old behavior.\n",
      "25 [0.8787878787878788, 0.8787878787878788, 0.8787878787878788, 0.8787878787878788, 0.07061146220890892, 0.05069360097168063]\n",
      "[16:30:59] WARNING: /Users/travis/build/dmlc/xgboost/src/learner.cc:573: \n",
      "Parameters: { \"scale_pos_weight\" } might not be used.\n",
      "\n",
      "  This may not be accurate due to some parameters are only used in language bindings but\n",
      "  passed down to XGBoost core.  Or some parameters are not used but slip through this\n",
      "  verification. Please open an issue if you find above cases.\n",
      "\n",
      "\n",
      "[16:30:59] WARNING: /Users/travis/build/dmlc/xgboost/src/learner.cc:1095: Starting in XGBoost 1.3.0, the default evaluation metric used with the objective 'multi:softprob' was changed from 'merror' to 'mlogloss'. Explicitly set eval_metric if you'd like to restore the old behavior.\n",
      "30 [0.8787878787878788, 0.8787878787878788, 0.8787878787878788, 0.8787878787878788, 0.07061146220890892, 0.05069360097168063]\n",
      "[16:31:06] WARNING: /Users/travis/build/dmlc/xgboost/src/learner.cc:573: \n",
      "Parameters: { \"scale_pos_weight\" } might not be used.\n",
      "\n",
      "  This may not be accurate due to some parameters are only used in language bindings but\n",
      "  passed down to XGBoost core.  Or some parameters are not used but slip through this\n",
      "  verification. Please open an issue if you find above cases.\n",
      "\n",
      "\n",
      "[16:31:06] WARNING: /Users/travis/build/dmlc/xgboost/src/learner.cc:1095: Starting in XGBoost 1.3.0, the default evaluation metric used with the objective 'multi:softprob' was changed from 'merror' to 'mlogloss'. Explicitly set eval_metric if you'd like to restore the old behavior.\n",
      "35 [0.8787878787878788, 0.8787878787878788, 0.8787878787878788, 0.8787878787878788, 0.07061146220890892, 0.05069360097168063]\n",
      "[16:31:12] WARNING: /Users/travis/build/dmlc/xgboost/src/learner.cc:573: \n",
      "Parameters: { \"scale_pos_weight\" } might not be used.\n",
      "\n",
      "  This may not be accurate due to some parameters are only used in language bindings but\n",
      "  passed down to XGBoost core.  Or some parameters are not used but slip through this\n",
      "  verification. Please open an issue if you find above cases.\n",
      "\n",
      "\n",
      "[16:31:12] WARNING: /Users/travis/build/dmlc/xgboost/src/learner.cc:1095: Starting in XGBoost 1.3.0, the default evaluation metric used with the objective 'multi:softprob' was changed from 'merror' to 'mlogloss'. Explicitly set eval_metric if you'd like to restore the old behavior.\n",
      "40 [0.8787878787878788, 0.8787878787878788, 0.8787878787878788, 0.8787878787878788, 0.07061146220890892, 0.05069360097168063]\n",
      "[16:31:18] WARNING: /Users/travis/build/dmlc/xgboost/src/learner.cc:573: \n",
      "Parameters: { \"scale_pos_weight\" } might not be used.\n",
      "\n",
      "  This may not be accurate due to some parameters are only used in language bindings but\n",
      "  passed down to XGBoost core.  Or some parameters are not used but slip through this\n",
      "  verification. Please open an issue if you find above cases.\n",
      "\n",
      "\n",
      "[16:31:18] WARNING: /Users/travis/build/dmlc/xgboost/src/learner.cc:1095: Starting in XGBoost 1.3.0, the default evaluation metric used with the objective 'multi:softprob' was changed from 'merror' to 'mlogloss'. Explicitly set eval_metric if you'd like to restore the old behavior.\n",
      "45 [0.8787878787878788, 0.8787878787878788, 0.8787878787878788, 0.8787878787878788, 0.07061146220890892, 0.05069360097168063]\n"
     ]
    }
   ],
   "source": [
    "for i in range(20,50,5):\n",
    "    xgb = XGBClassifier(scale_pos_weight=i)\n",
    "    metrics_xgb = evaluate(xgb)\n",
    "    print(i, metrics_xgb)"
   ]
  },
  {
   "cell_type": "code",
   "execution_count": null,
   "metadata": {},
   "outputs": [],
   "source": []
  },
  {
   "cell_type": "code",
   "execution_count": 18,
   "metadata": {},
   "outputs": [
    {
     "name": "stdout",
     "output_type": "stream",
     "text": [
      "[16:31:25] WARNING: /Users/travis/build/dmlc/xgboost/src/learner.cc:573: \n",
      "Parameters: { \"scale_pos_weight\" } might not be used.\n",
      "\n",
      "  This may not be accurate due to some parameters are only used in language bindings but\n",
      "  passed down to XGBoost core.  Or some parameters are not used but slip through this\n",
      "  verification. Please open an issue if you find above cases.\n",
      "\n",
      "\n",
      "[16:31:25] WARNING: /Users/travis/build/dmlc/xgboost/src/learner.cc:1095: Starting in XGBoost 1.3.0, the default evaluation metric used with the objective 'multi:softprob' was changed from 'merror' to 'mlogloss'. Explicitly set eval_metric if you'd like to restore the old behavior.\n"
     ]
    }
   ],
   "source": [
    "xgb = XGBClassifier(scale_pos_weight=40)\n",
    "metrics_xgb = evaluate(xgb)"
   ]
  },
  {
   "cell_type": "code",
   "execution_count": 19,
   "metadata": {},
   "outputs": [],
   "source": [
    "important_features_dict = xgb.get_booster().get_score(importance_type='weight')\n",
    "important_cols = list(important_features_dict.keys())"
   ]
  },
  {
   "cell_type": "code",
   "execution_count": 20,
   "metadata": {},
   "outputs": [
    {
     "data": {
      "text/plain": [
       "72"
      ]
     },
     "execution_count": 20,
     "metadata": {},
     "output_type": "execute_result"
    }
   ],
   "source": [
    "len(important_cols)"
   ]
  },
  {
   "cell_type": "code",
   "execution_count": 21,
   "metadata": {},
   "outputs": [
    {
     "data": {
      "text/plain": [
       "<AxesSubplot:title={'center':'Feature importance'}, xlabel='F score', ylabel='Features'>"
      ]
     },
     "execution_count": 21,
     "metadata": {},
     "output_type": "execute_result"
    },
    {
     "data": {
      "image/png": "[encoded data removed]",
      "text/plain": [
       "<Figure size 1440x1080 with 1 Axes>"
      ]
     },
     "metadata": {
      "needs_background": "light"
     },
     "output_type": "display_data"
    }
   ],
   "source": [
    "plt.rcParams[\"figure.figsize\"] = (20, 15)\n",
    "plot_importance(xgb, max_num_features=50)"
   ]
  },
  {
   "cell_type": "markdown",
   "metadata": {},
   "source": [
    "### Feature Selection\n",
    "Somehow the selected PCA columns also resulted in a very different feature selection in the xgboost model compared to the first time. \n",
    "- v1: xgboost selected 92 out of 7532\n",
    "- v2: xgboost selected 6 out of 100\n",
    "- v3: xgboost selected 48 out of 1352\n",
    "- v4: xgboost (weighted 40) selected 79 out of 1352\n",
    "\n",
    "v1-v3 does not deal with imbalance of the dataset"
   ]
  },
  {
   "cell_type": "markdown",
   "metadata": {},
   "source": [
    "### Version Differences\n",
    "\n",
    "model_version | feature selection | imbalanced class | hyperparameter tuning | cross validation\n",
    "--------------|-------------------|------------------|-----------------------|-----------------\n",
    "xgboost_v1 | no | no | no | no\n",
    "xgboost_v2 | yes, top100 | no | no | no\n",
    "xgboost_v3 | yes, top all 1352 | no | no | no\n",
    "xgboost_v4 | yes, top all 1352 | yes (weighted 20-50) | no | no"
   ]
  },
  {
   "cell_type": "markdown",
   "metadata": {},
   "source": [
    "### Model Results\n",
    "\n",
    "model_version | settings | accuracy | precision | recall | f1 | mcc | kappa\n",
    "--------------|----------|----------|-----------|--------|----|-----|------\n",
    "xgboost_v1 | n/a | 0.9575757575757575 | 0.14285714285714285 | 0.02702702702702703 | 0.045454545454545456 | 0.0469293226254877 | 0.033966823103015686\n",
    "xgboost_v2 | top100 features | 0.9565656565656566 | 0.0 | 0.0 | 0.0 | -0.015386239477696191 | -0.01053980914399677\n",
    "xgboost_v3 | top1352 features | 0.9575757575757575 | 0.14285714285714285 | 0.02702702702702703 | 0.045454545454545456 | 0.0469293226254877 | 0.033966823103015686\n",
    "xgboost_v4 | weighted(20) | 0.9424242424242424 | 0.11538461538461539 | 0.08108108108108109 | 0.09523809523809523 | 0.06754468881461238 | 0.06643946663137335\n",
    "xgboost_v4 | weighted (25) | 0.9404040404040404 | 0.15625 | 0.13513513513513514 | 0.14492753623188406 | 0.1145447687086118 | 0.11422158866883025\n",
    "xgboost_v4 | weighted (30) | 0.9414141414141414 | 0.16129032258064516 | 0.13513513513513514 | 0.14705882352941174 | 0.11745969331028693 | 0.11696859717651398\n",
    "xgboost_v4 | weighted (35) | 0.9424242424242424 | 0.16666666666666666 | 0.13513513513513514 | 0.14925373134328357 | 0.12050017236597041 | 0.1197941038839494\n",
    "xgboost_v4 | weighted (40) | 0.9414141414141414 | 0.18181818181818182 | 0.16216216216216217 | 0.17142857142857143 | 0.1414131271441933 | 0.14116485686080948\n",
    "xgboost_v4 | weighted (45) | 0.9393939393939394 | 0.12903225806451613 | 0.10810810810810811 | 0.11764705882352941 | 0.08688249205412493 | 0.08651923845846277"
   ]
  },
  {
   "cell_type": "code",
   "execution_count": null,
   "metadata": {},
   "outputs": [],
   "source": []
  }
 ],
 "metadata": {
  "kernelspec": {
   "display_name": "Python 3",
   "language": "python",
   "name": "python3"
  },
  "language_info": {
   "codemirror_mode": {
    "name": "ipython",
    "version": 3
   },
   "file_extension": ".py",
   "mimetype": "text/x-python",
   "name": "python",
   "nbconvert_exporter": "python",
   "pygments_lexer": "ipython3",
   "version": "3.8.5"
  }
 },
 "nbformat": 4,
 "nbformat_minor": 4
}
