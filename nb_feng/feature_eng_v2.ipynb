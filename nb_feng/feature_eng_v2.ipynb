{
 "cells": [
  {
   "cell_type": "markdown",
   "metadata": {},
   "source": [
    "# feature engineering\n",
    "\n",
    "if the target variable is changed to `total_funding_amount_usd`, then no need to drop data with no male/female information...? also, instead of encoding the `female_led` info, better to just keep the percentage??"
   ]
  },
  {
   "cell_type": "code",
   "execution_count": 1,
   "metadata": {},
   "outputs": [],
   "source": [
    "# ignore warnings\n",
    "import warnings\n",
    "warnings.filterwarnings(\"ignore\")\n",
    "\n",
    "# data\n",
    "import pandas as pd\n",
    "import numpy as np\n",
    "\n",
    "# visualization\n",
    "import matplotlib.pyplot as plt\n",
    "\n",
    "# feature engineering\n",
    "from numpy import asarray\n",
    "from sklearn.preprocessing import OneHotEncoder, OrdinalEncoder, MultiLabelBinarizer"
   ]
  },
  {
   "cell_type": "markdown",
   "metadata": {},
   "source": [
    "## 1. Aggregate Data\n",
    "combine data of regions China, Europe, and the US."
   ]
  },
  {
   "cell_type": "code",
   "execution_count": 2,
   "metadata": {},
   "outputs": [],
   "source": [
    "regions = ['China', 'Europe', 'US']"
   ]
  },
  {
   "cell_type": "code",
   "execution_count": 3,
   "metadata": {},
   "outputs": [],
   "source": [
    "df0 = pd.read_csv(f'../data/crunchbase-aggregated/{regions[0]}-gender.csv')\n",
    "df1 = pd.read_csv(f'../data/crunchbase-aggregated/{regions[1]}-gender.csv')\n",
    "df2 = pd.read_csv(f'../data/crunchbase-aggregated/{regions[2]}-gender.csv')"
   ]
  },
  {
   "cell_type": "code",
   "execution_count": 4,
   "metadata": {},
   "outputs": [
    {
     "data": {
      "text/plain": [
       "(3000, 113)"
      ]
     },
     "execution_count": 4,
     "metadata": {},
     "output_type": "execute_result"
    }
   ],
   "source": [
    "df = pd.concat([df0, df1, df2])\n",
    "df.reset_index(inplace=True, drop=True)\n",
    "df.shape"
   ]
  },
  {
   "cell_type": "markdown",
   "metadata": {},
   "source": [
    "## 2. Feature Transformation\n",
    "data scaling, discretization, dealing missing values etc."
   ]
  },
  {
   "cell_type": "code",
   "execution_count": 5,
   "metadata": {},
   "outputs": [
    {
     "data": {
      "text/html": [
       "<div>\n",
       "<style scoped>\n",
       "    .dataframe tbody tr th:only-of-type {\n",
       "        vertical-align: middle;\n",
       "    }\n",
       "\n",
       "    .dataframe tbody tr th {\n",
       "        vertical-align: top;\n",
       "    }\n",
       "\n",
       "    .dataframe thead th {\n",
       "        text-align: right;\n",
       "    }\n",
       "</style>\n",
       "<table border=\"1\" class=\"dataframe\">\n",
       "  <thead>\n",
       "    <tr style=\"text-align: right;\">\n",
       "      <th></th>\n",
       "      <th>Organization Name</th>\n",
       "      <th>Last Funding Date</th>\n",
       "      <th>IPO Status</th>\n",
       "      <th>Operating Status</th>\n",
       "      <th>Last Funding Type</th>\n",
       "      <th>Industries</th>\n",
       "      <th>Headquarters Location</th>\n",
       "      <th>Description</th>\n",
       "      <th>CB Rank (Company)</th>\n",
       "      <th>Headquarters Regions</th>\n",
       "      <th>...</th>\n",
       "      <th>Most Recent Valuation Range</th>\n",
       "      <th>Date of Most Recent Valuation</th>\n",
       "      <th>Number of Private Notes</th>\n",
       "      <th>Tags</th>\n",
       "      <th>Unnamed: 107</th>\n",
       "      <th>api_raw</th>\n",
       "      <th>gender</th>\n",
       "      <th>prob</th>\n",
       "      <th>#female</th>\n",
       "      <th>%female</th>\n",
       "    </tr>\n",
       "  </thead>\n",
       "  <tbody>\n",
       "    <tr>\n",
       "      <th>0</th>\n",
       "      <td>CMC</td>\n",
       "      <td>Jul 3; 2018</td>\n",
       "      <td>Private</td>\n",
       "      <td>Active</td>\n",
       "      <td>Series A</td>\n",
       "      <td>—</td>\n",
       "      <td>Shanghai; Shanghai; China</td>\n",
       "      <td>CMC Inc is a Chinese state-backed media group.</td>\n",
       "      <td>36;576</td>\n",
       "      <td>Asia-Pacific (APAC)</td>\n",
       "      <td>...</td>\n",
       "      <td>—</td>\n",
       "      <td>—</td>\n",
       "      <td>—</td>\n",
       "      <td>—</td>\n",
       "      <td>NaN</td>\n",
       "      <td>[['  % Total    % Received % Xferd  Average Sp...</td>\n",
       "      <td>['N/A']</td>\n",
       "      <td>['N/A']</td>\n",
       "      <td>0</td>\n",
       "      <td>0.0</td>\n",
       "    </tr>\n",
       "  </tbody>\n",
       "</table>\n",
       "<p>1 rows × 113 columns</p>\n",
       "</div>"
      ],
      "text/plain": [
       "  Organization Name Last Funding Date IPO Status Operating Status  \\\n",
       "0               CMC       Jul 3; 2018    Private           Active   \n",
       "\n",
       "  Last Funding Type Industries      Headquarters Location  \\\n",
       "0          Series A          —  Shanghai; Shanghai; China   \n",
       "\n",
       "                                      Description CB Rank (Company)  \\\n",
       "0  CMC Inc is a Chinese state-backed media group.            36;576   \n",
       "\n",
       "  Headquarters Regions  ... Most Recent Valuation Range  \\\n",
       "0  Asia-Pacific (APAC)  ...                           —   \n",
       "\n",
       "  Date of Most Recent Valuation Number of Private Notes Tags Unnamed: 107  \\\n",
       "0                             —                       —    —          NaN   \n",
       "\n",
       "                                             api_raw   gender     prob  \\\n",
       "0  [['  % Total    % Received % Xferd  Average Sp...  ['N/A']  ['N/A']   \n",
       "\n",
       "  #female %female  \n",
       "0       0     0.0  \n",
       "\n",
       "[1 rows x 113 columns]"
      ]
     },
     "execution_count": 5,
     "metadata": {},
     "output_type": "execute_result"
    }
   ],
   "source": [
    "df.head(1)"
   ]
  },
  {
   "cell_type": "markdown",
   "metadata": {},
   "source": [
    "## Defining column data types\n",
    "\n",
    "Column Name | current dtype | new dtype\n",
    "------------|---------------|-----------\n",
    "'Organization Name' | text | -\n",
    "'Last Funding Date' | text | date\n",
    "'IPO Status' | text | category\n",
    "'Operating Status' | text | category\n",
    "'Last Funding Type' | text | category (ordinal)\n",
    "'Industries' | text | multi-label categories\n",
    "'Headquarters Location' | text | (city, state, country) categories\n",
    "'Description' | text | NLP?\n",
    "'CB Rank (Company)' | text | number\n",
    "'Headquarters Regions' | text | category\n",
    "'Diversity Spotlight (US Only)' | n/a | -\n",
    "'Estimated Revenue Range' | text | category (ordinal)\n",
    "'Founded Date' | text | date\n",
    "'Exit Date'  | text | date\n",
    "'Closed Date'  | text | date\n",
    "'Company Type' | text | category\n",
    "'Website' | text | n/a\n",
    "'Twitter' | text | n/a\n",
    "'Facebook' | text | n/a\n",
    "'LinkedIn' | text | n/a\n",
    "'Contact Email' | text | n/a\n",
    "'Phone Number' | text | n/a\n",
    "'Number of Articles' | text | number\n",
    "'Hub Tags' | text | category\n",
    "'Full Description' | text | NLP?\n",
    "'Actively Hiring' | text | NULL\n",
    "'Investor Type' | text | NULL\n",
    "'Investment Stage' | text | NULL\n",
    "'Number of Portfolio Organizations' | text | number\n",
    "'Number of Investments' | text | number\n",
    "'Number of Lead Investments' | text | number\n",
    "'Number of Diversity Investments' | text | number\n",
    "'Number of Exits' | text | number\n",
    "'Number of Exits (IPO)' | text | number\n",
    "'Accelerator Program Type' | text | NULL\n",
    "'Accelerator Application Deadline' | text | NULL\n",
    "'Accelerator Duration (in weeks)' | text | NULL\n",
    "'School Type' | text | NULL\n",
    "'School Program' | text | NULL\n",
    "'Number of Enrollments' | text | number\n",
    "'School Method' | text | NULL\n",
    "'Number of Founders (Alumni)' | text | number\n",
    "'Number of Alumni' | text | number\n",
    "'Industry Groups' | text | multi-label categories\n",
    "'Number of Founders' | text | number\n",
    "'Founders' | text | text\n",
    "'Number of Employees' | text | category (ordinal)\n",
    "'Number of Funding Rounds' | text | number\n",
    "'Funding Status' | text | category (ordinal)\n",
    "'Last Funding Amount' | text | number (note currenncy)\n",
    "'Last Equity Funding Amount' | text | number (note currenncy)\n",
    "'Last Equity Funding Type'  | text | category (ordinal)\n",
    "'Total Equity Funding Amount' | text | number (note currenncy)\n",
    "'Total Funding Amount' | text | number (note currenncy)\n",
    "'Top 5 Investors' | text | multi-label catgeories\n",
    "'Number of Lead Investors' | text | number\n",
    "'Number of Investors' | text | number\n",
    "'Number of Acquisitions' | text | number\n",
    "'Acquisition Status' | text | category\n",
    "'Transaction Name' | text | text\n",
    "'Acquired by' | text | text / category\n",
    "'Announced Date' | text | date\n",
    "'Price' | text | number (note currency)\n",
    "'Acquisition Type' | text | category\n",
    "'Acquisition Terms' | text | NULL\n",
    "'IPO Date' | text | date\n",
    "'Delisted Date' | text | date\n",
    "'Money Raised at IPO' | text | number (note currency)\n",
    "'Valuation at IPO' | text | NULL\n",
    "'Stock Symbol' | text | NULL\n",
    "'Stock Exchange' | text | NULL\n",
    "'Last Leadership Hiring Date' | text | date\n",
    "'Last Layoff Mention Date' | text | date\n",
    "'Number of Events' | text | number\n",
    "'CB Rank (Organization)' | text | number\n",
    "'CB Rank (School)' | text | number\n",
    "'Trend Score (7 Days)' | text | number\n",
    "'Trend Score (30 Days)' | text | number\n",
    "'Trend Score (90 Days)' | text | number\n",
    "'Contact Job Departments' | text | multi-label categories\n",
    "'Number of Contacts' | text | number\n",
    "'Number of Private Contacts' | text | number\n",
    "'Monthly Visits' | text | number\n",
    "'Average Visits (6 months)' | text | number\n",
    "'Monthly Visits Growth' | text | number (percentage)\n",
    "'Visit Duration' | text | number\n",
    "'Visit Duration Growth' | text | number (percentage)\n",
    "'Page Views / Visit' | text | number\n",
    "'Page Views / Visit Growth' | text | number (percentage)\n",
    "'Bounce Rate' | text | number\n",
    "'Bounce Rate Growth' | text | number (percentage)\n",
    "'Global Traffic Rank' | text | number\n",
    "'Monthly Rank Change (#)' | text | number\n",
    "'Monthly Rank Growth' | text | number (percentage)\n",
    "'Active Tech Count' | text | number\n",
    "'Number of Apps' | text | number\n",
    "'Downloads Last 30 Days' | text | number\n",
    "'Total Products Active' | text | number\n",
    "'Patents Granted' | text | number\n",
    "'Trademarks Registered' | text | number\n",
    "'Most Popular Patent Class' | text | catgeory?\n",
    "'Most Popular Trademark Class' | text | catgeory?\n",
    "'IT Spend' | text | NULL\n",
    "'Most Recent Valuation Range' | text | NULL\n",
    "'Date of Most Recent Valuation' | text | date\n",
    "'Number of Private Notes' | text | number\n",
    "'Tags' | text | NULL\n",
    "'Unnamed: 107'  | NULL | NULL\n",
    "'api_raw' | text | -\n",
    "'gender' | text | -\n",
    "'prob' | text | -\n",
    "'#female' | number | int \n",
    "'%female' | number | float"
   ]
  },
  {
   "cell_type": "markdown",
   "metadata": {},
   "source": [
    "## 2.1 skip rows\n",
    "\n",
    "### rows already correctly labeled\n",
    "- `Number of Founders`: int\n",
    "- `Number of Funding Rounds`: int\n",
    "- `Trend Score (7 Days)`: float\n",
    "- `Trend Score (30 Days)`: float\n",
    "- `Trend Score (90 Days)`: float\n",
    "- `#female`: int\n",
    "- `%female`: float\n",
    "\n",
    "### all the same or too many NULLs\n",
    "- `IPO Status` (all \"private)\n",
    "- `Operating Status` (all \"active)\n",
    "- `Diversity Spotlight (US Only)` (2821/3000 null)\n",
    "- `Exit Date` (2546/3000 null)\n",
    "- `Closed Date` (all null)\n",
    "- `Company Type` (2977/3000 \"for profit\")\n",
    "- `Hub Tags` (2971/3000 null)\n",
    "- `Actively Hiring` (2757/3000 null)\n",
    "- `Investor Type` (2990/3000 null)\n",
    "- `Investment Stage` (2993/3000 null)\n",
    "- `Number of Portfolio Organizations` (2931/3000 null)\n",
    "- `Number of Investments` (2931/3000 null)\n",
    "- `Number of Lead Investments` (2974/3000 null)\n",
    "- `Number of Diversity Investments` (2994/3000 null)\n",
    "- `Number of Exits` (2991/3000 null)\n",
    "- `Number of Exits (IPO)` (2991/3000 null)\n",
    "- `Accelerator Program Type` (all null)\n",
    "- `Accelerator Application Deadline` (all null)\n",
    "- `Accelerator Duration (in weeks)` (all null)\n",
    "- `School Type` (all null)\n",
    "- `School Program` (all null)\n",
    "- `Number of Enrollments` (all null)\n",
    "- `School Method` (all null)\n",
    "- `Number of Founders (Alumni)` (all null)\n",
    "- `Number of Alumni` (all null)\n",
    "- `Acquired by` (2547/3000 null)\n",
    "- `Announced Date` (2546/3000 null)\n",
    "- `Price` (2928/3000 null)\n",
    "- `Acquisition Type` (2566/3000 null)\n",
    "- `Acquisition Terms` (2972/3000 null)\n",
    "- `Acquisition Status` (2424/3000 null)\n",
    "- `IPO Date` (all null)\n",
    "- `Delisted Date` (all null)\n",
    "- `Money Raised at IPO` (all null)\n",
    "- `Valuation at IPO` (all null)\n",
    "- `Stock Symbol` (all null)\n",
    "- `Stock Exchange` (all null)\n",
    "- `Number of Events` (2300/3000 null)\n",
    "- `Last Leadership Hiring Date` (2961/3000 null)\n",
    "- `Last Layoff Mention Date` (2999/3000 null)\n",
    "- `IT Spend` (2609/3000 null)\n",
    "- `Date of Most Recent Valuation` (2501/3000 null)\n",
    "- `Number of Private Notes` (all null)\n",
    "- `Most Popular Patent Class` (2537/3000 null)\n",
    "- `Most Popular Trademark Class` (1956/3000 null)\n",
    "- `Tags` (all null)\n",
    "- `Unnamed: 107` (all null)\n",
    "\n",
    "### equivalent to name\n",
    "- 'Website'\n",
    "- 'Twitter'\n",
    "- 'Facebook'\n",
    "- 'LinkedIn'\n",
    "- 'Contact Email'\n",
    "- 'Phone Number'\n",
    "- 'Founders'\n",
    "- 'Transaction Name'\n",
    "\n",
    "### equivalent to total funding amount\n",
    "*for early-stage startups, funding and equity funding amount is not too different, and because the number of funding rounds is also low, the last and total funding amount has no big difference, to simplify and avoid duplicate information in model, only input the most representative one in data*\n",
    "- 'Last Funding Amount'\n",
    "- 'Last Equity Funding Amount'\n",
    "- 'Total Equity Funding Amount'\n",
    "\n",
    "### irrelevant data\n",
    "- 'Contact Job Departments'\n",
    "- 'Number of Contacts'\n",
    "- 'Number of Private Contacts'\n",
    "- 'api_raw'\n",
    "- 'gender'\n",
    "- 'prob'"
   ]
  },
  {
   "cell_type": "code",
   "execution_count": 6,
   "metadata": {},
   "outputs": [],
   "source": [
    "lower_cols = ['Number of Founders', 'Number of Funding Rounds', \n",
    "              'Trend Score (7 Days)', 'Trend Score (30 Days)', 'Trend Score (90 Days)']"
   ]
  },
  {
   "cell_type": "code",
   "execution_count": 7,
   "metadata": {},
   "outputs": [],
   "source": [
    "df.rename(columns={'Number of Founders': 'number_of_founders',\n",
    "                  'Number of Funding Rounds': 'number_of_funding_rounds',\n",
    "                  'Trend Score (7 Days)': 'trend_score_7',\n",
    "                  'Trend Score (30 Days)': 'trend_score_30',\n",
    "                  'Trend Score (90 Days)': 'trend_score_90'}, inplace=True)"
   ]
  },
  {
   "cell_type": "code",
   "execution_count": 8,
   "metadata": {},
   "outputs": [],
   "source": [
    "drop_cols = ['Description', 'Full Description', \n",
    "             'Website', 'Twitter', 'Facebook', 'LinkedIn',\n",
    "             'Contact Email', 'Phone Number', 'Founders',\n",
    "             'Transaction Name', 'Contact Job Departments',\n",
    "             'Number of Contacts', 'Number of Private Contacts',\n",
    "             'api_raw', 'gender', 'prob',\n",
    "             'IPO Status', 'Operating Status', 'Diversity Spotlight (US Only)',\n",
    "              'Exit Date', 'Closed Date', 'Company Type', 'Hub Tags',\n",
    "              'Actively Hiring', 'Investor Type', 'Investment Stage',\n",
    "              'Number of Portfolio Organizations','Number of Investments',\n",
    "              'Number of Lead Investments', 'Number of Diversity Investments',\n",
    "              'Number of Exits', 'Number of Exits (IPO)', 'Accelerator Program Type',\n",
    "              'Accelerator Application Deadline', 'Accelerator Duration (in weeks)',\n",
    "              'School Type', 'School Program', 'Number of Enrollments',\n",
    "              'School Method', 'Number of Founders (Alumni)', 'Number of Alumni',\n",
    "              'Acquired by', 'Announced Date', 'Price', \n",
    "              'Acquisition Type', 'Acquisition Terms', 'Acquisition Status',\n",
    "              'IPO Date', 'Delisted Date', 'Money Raised at IPO',\n",
    "              'Valuation at IPO', 'Stock Symbol', 'Stock Exchange', 'Number of Events',\n",
    "              'Last Leadership Hiring Date', 'Last Layoff Mention Date',\n",
    "              'IT Spend', 'Date of Most Recent Valuation', 'Number of Private Notes', \n",
    "              'Most Popular Trademark Class', 'Most Popular Patent Class',\n",
    "              'Tags', 'Unnamed: 107', \n",
    "              'Industries', 'Funding Status',\n",
    "              'Last Funding Amount', 'Last Equity Funding Amount', 'Total Equity Funding Amount']"
   ]
  },
  {
   "cell_type": "code",
   "execution_count": 9,
   "metadata": {},
   "outputs": [
    {
     "data": {
      "text/plain": [
       "(3000, 45)"
      ]
     },
     "execution_count": 9,
     "metadata": {},
     "output_type": "execute_result"
    }
   ],
   "source": [
    "df.drop(columns=drop_cols, inplace=True)\n",
    "df.shape"
   ]
  },
  {
   "cell_type": "markdown",
   "metadata": {},
   "source": [
    "## 2.2 encoding categorical data\n",
    "### 2.2.1 convert text to equal categories"
   ]
  },
  {
   "cell_type": "markdown",
   "metadata": {},
   "source": [
    "**are they equal or ordinal?**\n",
    "- `Funding Status`: \"Early Stage Venture\", \"Seed\", \"M&A\" (overlaps with `Last Funding Type`)\n",
    "- `Acquisition Status`: \"Was Acquired\", \"Made Acquisitions\", \"Made Acquisitions; Was Acquired\" (for early stage too many NULLs)\n",
    "- `Headquarters Regions`: *after prepcocessing*"
   ]
  },
  {
   "cell_type": "code",
   "execution_count": 10,
   "metadata": {},
   "outputs": [],
   "source": [
    "df['hq_region'] = df['Headquarters Regions'].str.lower().str.strip('').str.split('; ').str[-1]\n",
    "df.drop(columns=['Headquarters Regions'], inplace=True)"
   ]
  },
  {
   "cell_type": "code",
   "execution_count": 11,
   "metadata": {},
   "outputs": [],
   "source": [
    "def equal_cat(df, col):\n",
    "    \n",
    "    '''create new columns binary encoding each category'''\n",
    "    \n",
    "    # deal with NULL values\n",
    "    new_col = col.lower().replace(' ', '_')\n",
    "    df[new_col] = df[col].str.replace('—',f'{new_col}_null')\n",
    "    \n",
    "    # initiate binary encoder\n",
    "    ohe = OneHotEncoder()\n",
    "    \n",
    "    # join original df with the created df with many new binary columns\n",
    "    df_ohe = pd.DataFrame(ohe.fit_transform(asarray(df[new_col]).reshape(-1,1)).toarray(), \n",
    "                          columns=ohe.categories_, index=df.index)\n",
    "    df_ohe.columns = df_ohe.columns.get_level_values(0)\n",
    "    df = df.join(df_ohe)\n",
    "    return df"
   ]
  },
  {
   "cell_type": "code",
   "execution_count": 12,
   "metadata": {},
   "outputs": [],
   "source": [
    "def ohe_sanity_check(col):\n",
    "    '''check correct conversion'''\n",
    "    \n",
    "    # deal with NULL values\n",
    "    new_col = col.lower().replace(' ', '_')\n",
    "    df[new_col] = df[col].str.replace('—',f'{new_col}_null')\n",
    "    \n",
    "    # convert data\n",
    "    ohe = OneHotEncoder()\n",
    "    df_ohe = pd.DataFrame(ohe.fit_transform(asarray(df[new_col]).reshape(-1,1)).toarray(), \n",
    "                          columns=ohe.categories_, index=df.index)\n",
    "    return df_ohe"
   ]
  },
  {
   "cell_type": "markdown",
   "metadata": {},
   "source": [
    "### 2.2.2 convert text to ORDINAL categories\n",
    "\n",
    "- 'Last Funding Type'\n",
    "- 'Estimated Revenue Range'\n",
    "- 'Number of Employees'\n",
    "- 'Last Equity Funding Type'\n",
    "- 'Most Recent Valuation Range'\n",
    "\n",
    "*Note: `.astype('category').cat.codes` is not a good method because it assigns the number in random order*"
   ]
  },
  {
   "cell_type": "code",
   "execution_count": 13,
   "metadata": {},
   "outputs": [],
   "source": [
    "def ordinal_cat(df, col):\n",
    "    \n",
    "    '''create one new column with ordinal categories'''\n",
    "    \n",
    "    # get text for new column name\n",
    "    new_col = col.lower().replace(' ', '_')\n",
    "    \n",
    "    \n",
    "    # specify ordinal order\n",
    "    if (col=='Last Funding Type') or (col=='Last Equity Funding Type'):\n",
    "        labels = ['Seed', 'Series A']\n",
    "    \n",
    "    if (col=='Estimated Revenue Range') or (col=='Most Recent Valuation Range'):\n",
    "        labels = ['—', 'Less than $1M', '$1M to $10M', '$10M to $50M', \n",
    "                  '$50M to $100M', '$100M to $500M', '$500M to $1B', \n",
    "                  '$1B to $10B', '$10B+']\n",
    "    \n",
    "    if col == 'Number of Employees':\n",
    "        # some '1-10' were read incorrectly and automatically converted to date formats\n",
    "        df['Number of Employees'] = df['Number of Employees'].str.replace('10-Jan', '1-10')\n",
    "        labels = ['—', '1-10', '11-50', '51-100', '101-250', '251-500', \n",
    "                  '501-1000', '1001-5000', '5001-10000', '10001+']\n",
    "    \n",
    "    \n",
    "    # convert text to ordinal categories\n",
    "    cat = list(np.array(labels).reshape(1,len(labels)))\n",
    "    oe = OrdinalEncoder(categories=cat)\n",
    "    df[new_col] = oe.fit_transform(asarray(df[col]).reshape(-1, 1))\n",
    "    df[new_col] = df[new_col].astype('int')"
   ]
  },
  {
   "cell_type": "code",
   "execution_count": 14,
   "metadata": {},
   "outputs": [],
   "source": [
    "def oe_sanity_check(col, labels):\n",
    "    '''check correct conversion'''\n",
    "    cat = list(np.array(labels).reshape(1,len(labels)))\n",
    "    oe = OrdinalEncoder(categories=cat)\n",
    "    df[new_col] = oe.fit_transform(asarray(df[col]).reshape(-1, 1))\n",
    "    df[new_col] = df[new_col].astype('int')\n",
    "    return df[col].value_counts(), df[new_col].value_counts()"
   ]
  },
  {
   "cell_type": "markdown",
   "metadata": {},
   "source": [
    "### 2.2.3 convert text list to MULTI-LABEL categories\n",
    "- `Industries` (ignore because overlaps with `Industry Groups`)\n",
    "- `Headquarters Location` **_(city, state, country) where many city=state (e.g. New York)_**\n",
    "- `Headquarters Regions` (to avoid overlap with prev, only take last region and use OneHotEncoder)\n",
    "- `Industry Groups` \n",
    "- `Top 5 Investors` (extremely sparse matrix but could be useful...?)"
   ]
  },
  {
   "cell_type": "code",
   "execution_count": 15,
   "metadata": {},
   "outputs": [],
   "source": [
    "def multilabel_cat(df, col):\n",
    "    '''create multiple one-hot encoded columns for each tag/label in a row'''\n",
    "    \n",
    "    # dealing with null valuess (so that null_cols for each newly created col is a different name)\n",
    "    new_col = col.lower().replace(' ', '_')\n",
    "    df[new_col] = df[col].str.replace('—', f'{new_col}_null')\n",
    "    \n",
    "    # get list of labels from text in each row\n",
    "    df[f'{new_col}_lst'] = df[new_col].str.lower().str.strip('').str.split('; ')\n",
    "    \n",
    "    # initiate multi-label binary encoder\n",
    "    mlb = MultiLabelBinarizer()\n",
    "    \n",
    "    # join original df with the created df with many new binary columns\n",
    "    try:\n",
    "        df = df.join(pd.DataFrame(mlb.fit_transform(df[f'{new_col}_lst']),\n",
    "                                  columns=mlb.classes_, index=df.index))\n",
    "    \n",
    "    # add this exception to deal with when different columns have same category \n",
    "    except:\n",
    "        df = df.join(pd.DataFrame(mlb.fit_transform(df[f'{new_col}_lst']),\n",
    "                              columns=mlb.classes_, index=df.index),\n",
    "                    lsuffix='', rsuffix=new_col)\n",
    "    return df"
   ]
  },
  {
   "cell_type": "code",
   "execution_count": 16,
   "metadata": {},
   "outputs": [],
   "source": [
    "def mlb_sanity_check(col):\n",
    "    '''check sparsity of matrix'''\n",
    "    \n",
    "    # clean data\n",
    "    try:\n",
    "        df[f'{col}_lst'] = df[col].str.strip('').str.split(';')\n",
    "    except:\n",
    "        pass\n",
    "    \n",
    "    # convert data\n",
    "    mlb = MultiLabelBinarizer()\n",
    "    df_mlb = pd.DataFrame(mlb.fit_transform(df[f'{col}_lst']), columns=mlb.classes_, index=df.index)\n",
    "    \n",
    "    # count number of 0 in each category\n",
    "    return (df_mlb == 0).sum().value_counts()"
   ]
  },
  {
   "cell_type": "markdown",
   "metadata": {},
   "source": [
    "## 2.4 convert text to separate dates\n",
    "(1) have full date (format, e.g. \"Dec 31; 1999\"), \n",
    "(2) some have full date but most only have year\n",
    "\n",
    "- `Last Funding Date`: (1)\n",
    "- `Founded Date`: (2)"
   ]
  },
  {
   "cell_type": "code",
   "execution_count": 17,
   "metadata": {},
   "outputs": [],
   "source": [
    "def text_date(df, col):\n",
    "    \n",
    "    '''create new columns separating date into day, month, year'''\n",
    "    \n",
    "    # (1) have full date info (format, e.g. \"Dec 31; 1999\")\n",
    "    if all(df[col].str.len()>10):\n",
    "    \n",
    "        # get text for new column name\n",
    "        new_col1 = col.lower().replace(' ', '_').replace('date', 'day')\n",
    "        new_col2 = col.lower().replace(' ', '_').replace('date', 'month')\n",
    "        new_col3 = col.lower().replace(' ', '_').replace('date', 'year')\n",
    "\n",
    "        # convert day and year\n",
    "        df[new_col3] = df[col].str[-4:]\n",
    "        df[new_col1] = df[col].str[3:5]\n",
    "\n",
    "        # convert month\n",
    "        # df[new_col2] = df[col].str[:3] #text\n",
    "        df[new_col2] = pd.to_datetime(df[col].str[:3], format='%b').dt.month\n",
    "    \n",
    "    \n",
    "    # (2) some rows have full date but most only have year info\n",
    "    else:\n",
    "        \n",
    "        # get text for new column name\n",
    "        new_col = col.lower().replace(' ', '_').replace('date', 'year')\n",
    "\n",
    "        # convert day and year\n",
    "        df[new_col] = df[col].str[-4:]"
   ]
  },
  {
   "cell_type": "markdown",
   "metadata": {},
   "source": [
    "## 2.5 convert text to number\n",
    "\n",
    "### (1) integer\n",
    "- 'CB Rank (Company)'\n",
    "- 'Number of Articles'\n",
    "- 'Number of Lead Investors'\n",
    "- 'Number of Investors'\n",
    "- 'Number of Acquisitions'\n",
    "- 'CB Rank (Organization)'\n",
    "- 'CB Rank (School)'\n",
    "- 'Monthly Visits'\n",
    "- 'Visit Duration'\n",
    "- 'Global Traffic Rank'\n",
    "- 'Monthly Rank Change (#)'\n",
    "- 'Active Tech Count'\n",
    "- 'Number of Apps'\n",
    "- 'Downloads Last 30 Days'\n",
    "- 'Total Products Active'\n",
    "- 'Patents Granted'\n",
    "- 'Trademarks Registered'\n",
    "\n",
    "### (2) float (percentage)\n",
    "- 'Monthly Visits Growth'\n",
    "- 'Visit Duration Growth'\n",
    "- 'Page Views / Visit'\n",
    "- 'Page Views / Visit Growth'\n",
    "- 'Bounce Rate'\n",
    "- 'Bounce Rate Growth'\n",
    "- 'Monthly Rank Growth'\n",
    "- 'Average Visits (6 months)'\n",
    "\n",
    "### (3) currency (multiply and union)\n",
    "- 'Last Funding Amount'\n",
    "- 'Last Equity Funding Amount'\n",
    "- 'Total Equity Funding Amount'\n",
    "- 'Total Funding Amount'\n"
   ]
  },
  {
   "cell_type": "code",
   "execution_count": 18,
   "metadata": {},
   "outputs": [],
   "source": [
    "def text_num(df, col, type='int'):\n",
    "    \n",
    "    '''update original column converting text to appropriate numerical format'''\n",
    "    \n",
    "    # get new column name\n",
    "    new_col = col.lower().replace(' ', '_')\n",
    "    \n",
    "    # common cleaning: deal with NULL values\n",
    "    df[new_col] = df[col].str.replace('—','0')\n",
    "    \n",
    "    # (1) integer\n",
    "    if type=='int':\n",
    "        \n",
    "        # convert text to int\n",
    "        df[new_col] = df[new_col].str.replace(';','').astype('int')\n",
    "        \n",
    "    # (2) float (percentage)\n",
    "    if type=='float':\n",
    "        \n",
    "        # additional step to strip sign\n",
    "        df[new_col] = df[new_col].str.replace('%','')\n",
    "        \n",
    "        # convert text to float\n",
    "        df[new_col].str.replace(';','').astype('float')\n",
    "        "
   ]
  },
  {
   "cell_type": "code",
   "execution_count": 19,
   "metadata": {},
   "outputs": [],
   "source": [
    "def text_curr(df, col):\n",
    "    '''create new column converting all amount to USD'''\n",
    "    \n",
    "    # get new column name\n",
    "    new_col = col.lower().replace(' ', '_')\n",
    "    \n",
    "    # clean text\n",
    "    df[new_col] = df[col].str.replace(';','')\n",
    "    \n",
    "    # add new col \"conversion rate\" of usd:currency = 1:x\n",
    "    df['cvr'] = 0\n",
    "    \n",
    "    # strip currency signs and update conversion rate\n",
    "    # us dollar\n",
    "    df[new_col] = df[new_col].str.replace('$','')\n",
    "    df.loc[df[col].str[0]=='$', 'cvr'] = 1\n",
    "    \n",
    "    # euro\n",
    "    df[new_col] = df[new_col].str.replace('€','')\n",
    "    df.loc[df[col].str[0]=='€', 'cvr'] = 1.1\n",
    "    \n",
    "    # uk pound\n",
    "    df[new_col] = df[new_col].str.replace('£','')\n",
    "    df.loc[df[col].str[0]=='£', 'cvr'] = 1.34\n",
    "    \n",
    "    # japanese yen\n",
    "    df[new_col] = df[new_col].str.replace('¥','')\n",
    "    df.loc[df[col].str[0]=='¥', 'cvr'] = 0.0087\n",
    "    \n",
    "    # chinese yuan ('CN¥')\n",
    "    df[new_col] = df[new_col].str.replace('CN','')\n",
    "    df.loc[df[col].str[0:2]=='CN', 'cvr'] = 0.16\n",
    "    \n",
    "    # canadian dollar ('CA$')\n",
    "    df[new_col] = df[new_col].str.replace('CA','')\n",
    "    df.loc[df[col].str[0:2]=='CA', 'cvr'] = 0.79\n",
    "    \n",
    "    # swiss franc\n",
    "    df[new_col] = df[new_col].str.replace('CHF','')\n",
    "    df.loc[df[col].str[0:3]=='CHF', 'cvr'] = 1.09\n",
    "    \n",
    "    # swedish krona\n",
    "    df[new_col] = df[new_col].str.replace('SEK','')\n",
    "    df.loc[df[col].str[0:3]=='SEK', 'cvr'] = 0.1\n",
    "    \n",
    "    # russian ruble\n",
    "    df[new_col] = df[new_col].str.replace('RUB','')\n",
    "    df.loc[df[col].str[0:3]=='RUB', 'cvr'] = 0.01\n",
    "        \n",
    "    # norwegian krone\n",
    "    df[new_col] = df[new_col].str.replace('NOK','')\n",
    "    df.loc[df[col].str[0:3]=='NOK', 'cvr'] = 0.11\n",
    "    \n",
    "    # new zealand dollar ('NZ$')\n",
    "    df[new_col] = df[new_col].str.replace('NZ','')\n",
    "    df.loc[df[col].str[0:2]=='NZ', 'cvr'] = 0.69\n",
    "    \n",
    "    # poland ztoty\n",
    "    df[new_col] = df[new_col].str.replace('PLN','')\n",
    "    df.loc[df[col].str[0:3]=='PLN', 'cvr'] = 0.24\n",
    "        \n",
    "    # icelandic krona\n",
    "    df[new_col] = df[new_col].str.replace('ISK','')\n",
    "    df.loc[df[col].str[0:3]=='ISK', 'cvr'] = 0.008\n",
    "    \n",
    "    # hungarian forint\n",
    "    df[new_col] = df[new_col].str.replace('HUF','')\n",
    "    df.loc[df[col].str[0:3]=='HUF', 'cvr'] = 0.003\n",
    "    \n",
    "    # null value\n",
    "    df[new_col] = df[new_col].str.replace('—','0')\n",
    "    \n",
    "    \n",
    "    '''cannot strip currency and convert to int the multipl only for parts of the data \n",
    "       so the best implementation is to split it into two steps'''\n",
    "    \n",
    "    # multiply number by conversion rate to get amount all in usd\n",
    "    df[new_col] = df[new_col].astype('int')\n",
    "    df[f'{new_col}_usd'] = df[new_col]*df['cvr']"
   ]
  },
  {
   "cell_type": "markdown",
   "metadata": {},
   "source": [
    "## 2.6 convert text to NLP (bag of words?)\n",
    "- `Description`\n",
    "- `Full Description`"
   ]
  },
  {
   "cell_type": "markdown",
   "metadata": {},
   "source": [
    "## run all conversions"
   ]
  },
  {
   "cell_type": "code",
   "execution_count": 20,
   "metadata": {},
   "outputs": [
    {
     "data": {
      "text/plain": [
       "(3000, 55)"
      ]
     },
     "execution_count": 20,
     "metadata": {},
     "output_type": "execute_result"
    }
   ],
   "source": [
    "equal_cats = ['hq_region']\n",
    "for cat1 in equal_cats:\n",
    "    df = equal_cat(df, cat1)\n",
    "df.shape"
   ]
  },
  {
   "cell_type": "code",
   "execution_count": 21,
   "metadata": {},
   "outputs": [
    {
     "data": {
      "text/plain": [
       "(3000, 60)"
      ]
     },
     "execution_count": 21,
     "metadata": {},
     "output_type": "execute_result"
    }
   ],
   "source": [
    "ord_cats = ['Last Funding Type', 'Estimated Revenue Range', 'Number of Employees', \n",
    "                'Last Equity Funding Type', 'Most Recent Valuation Range']\n",
    "for cat2 in ord_cats:\n",
    "    ordinal_cat(df, cat2)\n",
    "df.shape"
   ]
  },
  {
   "cell_type": "code",
   "execution_count": 22,
   "metadata": {},
   "outputs": [
    {
     "data": {
      "text/plain": [
       "(3000, 5688)"
      ]
     },
     "execution_count": 22,
     "metadata": {},
     "output_type": "execute_result"
    }
   ],
   "source": [
    "multi_cats = ['Industry Groups', 'Headquarters Location', 'Top 5 Investors']\n",
    "for cat3 in multi_cats:\n",
    "    df = multilabel_cat(df, cat3)\n",
    "df.shape"
   ]
  },
  {
   "cell_type": "code",
   "execution_count": 23,
   "metadata": {},
   "outputs": [
    {
     "data": {
      "text/plain": [
       "(3000, 5692)"
      ]
     },
     "execution_count": 23,
     "metadata": {},
     "output_type": "execute_result"
    }
   ],
   "source": [
    "date_cols = ['Last Funding Date', 'Founded Date']\n",
    "for date_col in date_cols:\n",
    "    text_date(df, date_col)\n",
    "df.shape"
   ]
  },
  {
   "cell_type": "code",
   "execution_count": 24,
   "metadata": {},
   "outputs": [
    {
     "data": {
      "text/plain": [
       "(3000, 5709)"
      ]
     },
     "execution_count": 24,
     "metadata": {},
     "output_type": "execute_result"
    }
   ],
   "source": [
    "int_cols = ['CB Rank (Company)', 'Number of Articles', 'Number of Lead Investors', \n",
    "            'Number of Investors', 'Number of Acquisitions', 'CB Rank (Organization)', \n",
    "            'CB Rank (School)', 'Monthly Visits', \n",
    "            'Visit Duration', 'Global Traffic Rank', 'Monthly Rank Change (#)', \n",
    "            'Active Tech Count', 'Number of Apps', 'Downloads Last 30 Days',\n",
    "            'Total Products Active', 'Patents Granted', 'Trademarks Registered']\n",
    "for num1 in int_cols:\n",
    "        text_num(df, num1, type='int')\n",
    "df.shape"
   ]
  },
  {
   "cell_type": "code",
   "execution_count": 25,
   "metadata": {},
   "outputs": [
    {
     "data": {
      "text/plain": [
       "(3000, 5717)"
      ]
     },
     "execution_count": 25,
     "metadata": {},
     "output_type": "execute_result"
    }
   ],
   "source": [
    "float_cols = ['Monthly Visits Growth', 'Visit Duration Growth', 'Page Views / Visit', \n",
    "              'Page Views / Visit Growth', 'Bounce Rate', 'Bounce Rate Growth', \n",
    "              'Monthly Rank Growth', 'Average Visits (6 months)']\n",
    "for num2 in float_cols:\n",
    "    text_num(df, num2, type='float')\n",
    "df.shape"
   ]
  },
  {
   "cell_type": "code",
   "execution_count": 26,
   "metadata": {},
   "outputs": [
    {
     "data": {
      "text/plain": [
       "(3000, 5720)"
      ]
     },
     "execution_count": 26,
     "metadata": {},
     "output_type": "execute_result"
    }
   ],
   "source": [
    "curr_cols = ['Total Funding Amount']\n",
    "for num3 in curr_cols:\n",
    "    text_curr(df, num3)\n",
    "df.shape"
   ]
  },
  {
   "cell_type": "code",
   "execution_count": 27,
   "metadata": {},
   "outputs": [],
   "source": [
    "# redundant cols generated from feature engineering\n",
    "multi_cats_lst = []\n",
    "for col in multi_cats:\n",
    "    new_col = col.lower().replace(' ', '_')\n",
    "    multi_cats_lst.append(f'{new_col}_lst')"
   ]
  },
  {
   "cell_type": "markdown",
   "metadata": {},
   "source": [
    "### quick sanity check region distribution"
   ]
  },
  {
   "cell_type": "code",
   "execution_count": 28,
   "metadata": {},
   "outputs": [
    {
     "data": {
      "text/plain": [
       "asia-pacific (apac)    1000\n",
       "european union (eu)     529\n",
       "western us              424\n",
       "hq_region_null          373\n",
       "northeastern us         196\n",
       "west coast              147\n",
       "southern us             121\n",
       "scandinavia              98\n",
       "new england              62\n",
       "midwestern us            50\n",
       "Name: hq_region, dtype: int64"
      ]
     },
     "execution_count": 28,
     "metadata": {},
     "output_type": "execute_result"
    }
   ],
   "source": [
    "df['hq_region'].value_counts()#[:5]"
   ]
  },
  {
   "cell_type": "markdown",
   "metadata": {},
   "source": [
    "^ this means China (1000), Europe (627), US (1000), null (373)"
   ]
  },
  {
   "cell_type": "markdown",
   "metadata": {},
   "source": [
    "### remove additional cols\n",
    "- old cols that is no longer needed after new processing\n",
    "- midway processing cols used to produce new cols"
   ]
  },
  {
   "cell_type": "code",
   "execution_count": 29,
   "metadata": {},
   "outputs": [],
   "source": [
    "old_cols = equal_cats + ord_cats + multi_cats + multi_cats_lst + date_cols + int_cols + float_cols + curr_cols + ['cvr', 'total_funding_amount']"
   ]
  },
  {
   "cell_type": "code",
   "execution_count": 30,
   "metadata": {},
   "outputs": [
    {
     "data": {
      "text/plain": [
       "(3000, 5678)"
      ]
     },
     "execution_count": 30,
     "metadata": {},
     "output_type": "execute_result"
    }
   ],
   "source": [
    "df.drop(columns=old_cols, inplace=True)\n",
    "df.shape"
   ]
  },
  {
   "cell_type": "markdown",
   "metadata": {},
   "source": [
    "## 3. Data Post-Processing"
   ]
  },
  {
   "cell_type": "code",
   "execution_count": 31,
   "metadata": {},
   "outputs": [],
   "source": [
    "# # boolean: 2 labels (female-led or not female-led, i.e. including co-led, male-led, and no info)\n",
    "# df['female_led'] = (df['%female']>0.5).astype(int)"
   ]
  },
  {
   "cell_type": "code",
   "execution_count": 32,
   "metadata": {},
   "outputs": [],
   "source": [
    "# # 3 labels\n",
    "# conditions = [(df['%female']>0.5), (df['%female']==0.5), (df['%female']<0.5)]\n",
    "# values = [0, 1, 2]\n",
    "# # values = ['female-led', 'co-led', 'male-led']\n",
    "\n",
    "# df['female_led'] = np.select(conditions, values)"
   ]
  },
  {
   "cell_type": "markdown",
   "metadata": {},
   "source": [
    "since no longer a classification task, `%female` can be kept as variable!"
   ]
  },
  {
   "cell_type": "code",
   "execution_count": 33,
   "metadata": {},
   "outputs": [],
   "source": [
    "# also drop the two columns that would give away\n",
    "df.drop(columns=['#female'], inplace=True)"
   ]
  },
  {
   "cell_type": "markdown",
   "metadata": {},
   "source": [
    "<span style=\"color:red\">\n",
    "encode no info as no female in company (need to justify this decision!!!)"
   ]
  },
  {
   "cell_type": "code",
   "execution_count": 34,
   "metadata": {},
   "outputs": [],
   "source": [
    "df['%female'].fillna(0, inplace=True)"
   ]
  },
  {
   "cell_type": "markdown",
   "metadata": {},
   "source": [
    "### dealing with missing data"
   ]
  },
  {
   "cell_type": "code",
   "execution_count": 35,
   "metadata": {},
   "outputs": [
    {
     "data": {
      "text/plain": [
       "0"
      ]
     },
     "execution_count": 35,
     "metadata": {},
     "output_type": "execute_result"
    }
   ],
   "source": [
    "df['total_funding_amount_usd'].isnull().sum()#value_counts()"
   ]
  },
  {
   "cell_type": "code",
   "execution_count": 36,
   "metadata": {},
   "outputs": [
    {
     "data": {
      "text/plain": [
       "(0, 5677)"
      ]
     },
     "execution_count": 36,
     "metadata": {},
     "output_type": "execute_result"
    }
   ],
   "source": [
    "df[df['total_funding_amount_usd']==0].shape"
   ]
  },
  {
   "cell_type": "markdown",
   "metadata": {},
   "source": [
    "### set name as index \n",
    "so that the rest of the columns are all numerical data that could fit in the model"
   ]
  },
  {
   "cell_type": "code",
   "execution_count": 37,
   "metadata": {},
   "outputs": [
    {
     "data": {
      "text/plain": [
       "(3000, 5662)"
      ]
     },
     "execution_count": 37,
     "metadata": {},
     "output_type": "execute_result"
    }
   ],
   "source": [
    "df.set_index('Organization Name', inplace=True)\n",
    "num_cols = df.describe().columns #this takes awhile to load\n",
    "new_df = df[num_cols]\n",
    "new_df.shape"
   ]
  },
  {
   "cell_type": "markdown",
   "metadata": {},
   "source": [
    "### export data"
   ]
  },
  {
   "cell_type": "code",
   "execution_count": 38,
   "metadata": {},
   "outputs": [],
   "source": [
    "# binary labels, dropna, improved processing\n",
    "new_df.to_csv('../data/feature_engineering/combined_feng_reg.csv')"
   ]
  },
  {
   "cell_type": "code",
   "execution_count": 39,
   "metadata": {},
   "outputs": [],
   "source": [
    "# new_df.to_csv('../data/feature_engineering/combined_feng.csv')\n",
    "# new_df.to_csv('../data/feature_engineering/combined_feng_dropna.csv')\n",
    "# new_df.to_csv('../data/feature_engineering/combined_feng3.csv')"
   ]
  },
  {
   "cell_type": "code",
   "execution_count": 40,
   "metadata": {},
   "outputs": [],
   "source": [
    "# new_df['female_led'].value_counts()"
   ]
  }
 ],
 "metadata": {
  "kernelspec": {
   "display_name": "Python 3",
   "language": "python",
   "name": "python3"
  },
  "language_info": {
   "codemirror_mode": {
    "name": "ipython",
    "version": 3
   },
   "file_extension": ".py",
   "mimetype": "text/x-python",
   "name": "python",
   "nbconvert_exporter": "python",
   "pygments_lexer": "ipython3",
   "version": "3.8.5"
  }
 },
 "nbformat": 4,
 "nbformat_minor": 4
}
